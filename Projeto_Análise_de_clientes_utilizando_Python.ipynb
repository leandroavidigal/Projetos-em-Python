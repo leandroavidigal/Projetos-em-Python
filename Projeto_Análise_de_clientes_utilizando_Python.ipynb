{
  "nbformat": 4,
  "nbformat_minor": 0,
  "metadata": {
    "colab": {
      "provenance": [],
      "toc_visible": true,
      "include_colab_link": true
    },
    "kernelspec": {
      "name": "python3",
      "display_name": "Python 3"
    }
  },
  "cells": [
    {
      "cell_type": "markdown",
      "metadata": {
        "id": "view-in-github",
        "colab_type": "text"
      },
      "source": [
        "<a href=\"https://colab.research.google.com/github/leandroavidigal/Projetos-em-Python/blob/main/Projeto_An%C3%A1lise_de_clientes_utilizando_Python.ipynb\" target=\"_parent\"><img src=\"https://colab.research.google.com/assets/colab-badge.svg\" alt=\"Open In Colab\"/></a>"
      ]
    },
    {
      "cell_type": "markdown",
      "source": [
        "###**PROJETO FINAL - PYTHON**"
      ],
      "metadata": {
        "id": "IzLQOe1LwO1L"
      }
    },
    {
      "cell_type": "markdown",
      "source": [
        "Nesse projeto será abordado as fases de Exploração, Transformação e limpeza, Visualização de dados e Storytelling."
      ],
      "metadata": {
        "id": "udbtDxHO0B0Z"
      }
    },
    {
      "cell_type": "markdown",
      "metadata": {
        "id": "4rRCvy_UURrM"
      },
      "source": [
        "#### **1. Exploração de Dados**"
      ]
    },
    {
      "cell_type": "markdown",
      "metadata": {
        "id": "ByX7SUjNKk2K"
      },
      "source": [
        "Os dados que serão explorados estão no formato CSV e contém informações sobre clientes de uma instituição financeira. \n",
        "\n",
        "Nosso principal objetivo é entender o porque um cliente deixa de honrar com suas dívidas baseado no comportamento de outros atributos, como salário, escolaridade e movimentação financeira.\n",
        "\n",
        "Um dado importante está na segunda coluna chamada default que contém a informação se um cliente é adimplente (`default = 0`), ou inadimplente (`default = 1`).\n",
        "\n",
        "Abaixo temos as características de cada coluna do nosso arquivo de dados."
      ]
    },
    {
      "cell_type": "markdown",
      "metadata": {
        "id": "Z5Fd0NSVLnwE"
      },
      "source": [
        "\n",
        "\n",
        "| Coluna  | Descrição |\n",
        "| ------- | --------- |\n",
        "| id      | Número da conta |\n",
        "| default | Indica se o cliente é adimplente (0) ou inadimplente (1) |\n",
        "| idade   | --- |\n",
        "| sexo    | --- |\n",
        "| depedentes | --- |\n",
        "| escolaridade | --- |\n",
        "| estado_civil | --- |\n",
        "| salario_anual | Faixa do salario mensal multiplicado por 12 |\n",
        "| tipo_cartao | Categoria do cartao: blue, silver, gold e platinium |\n",
        "| meses_de_relacionamento | Quantidade de meses desde a abertura da conta |\n",
        "| qtd_produtos | Quantidade de produtos contratados |\n",
        "| iteracoes_12m | Quantidade de iteracoes com o cliente no último ano |\n",
        "| meses_inatico_12m | Quantidade de meses que o cliente ficou inativo no último ano |\n",
        "| limite_credito | Valor do limite do cartão de crédito |\n",
        "| valor_transacoes_12m | Soma total do valor das transações no cartão de crédito no último ano |\n",
        "| qtd_transacoes_12m | Quantidade total de transações no cartão de crédito no último ano |\n",
        "\n"
      ]
    },
    {
      "cell_type": "markdown",
      "metadata": {
        "id": "qn84FpdD-Gmk"
      },
      "source": [
        "Nesse projeto utilizaremos a biblioteca `pandas`, pois é amplamente utilizada em projetos com python e nos fornece ferramentas para manipular, analisar e visualizar dados de forma eficiente e intuitiva."
      ]
    },
    {
      "cell_type": "code",
      "metadata": {
        "id": "2y8zAhgFK1rs"
      },
      "source": [
        "import pandas as pd"
      ],
      "execution_count": null,
      "outputs": []
    },
    {
      "cell_type": "markdown",
      "source": [
        "O código `import pandas as pd` é usado para importar a biblioteca pandas para o seu código Python. O pandas é uma biblioteca de código aberto que fornece estruturas de dados de alto desempenho e fáceis de usar para análise de dados em Python.\n",
        "\n",
        "Ao utilizar o `import pandas as pd`, você cria um alias \"pd\" para a biblioteca pandas, tornando mais fácil e mais comum referenciar seus métodos e atributos no seu código."
      ],
      "metadata": {
        "id": "Lx6hjC0EtgTG"
      }
    },
    {
      "cell_type": "code",
      "metadata": {
        "id": "Oc1o3fzfKdhx"
      },
      "source": [
        "df = pd.read_csv('https://raw.githubusercontent.com/andre-marcos-perez/ebac-course-utils/develop/dataset/credito.csv', na_values='na')"
      ],
      "execution_count": null,
      "outputs": []
    },
    {
      "cell_type": "markdown",
      "source": [
        "O método `read_csv()` da biblioteca pandas é usado para ler um arquivo CSV e criar um DataFrame com base nos dados do arquivo. O primeiro argumento de read_csv() é a localização do arquivo CSV, que neste caso é uma URL: 'https://raw.githubusercontent.com/andre-marcos-perez/ebac-course-utils/develop/dataset/credito.csv'.\n",
        "\n",
        "O segundo argumento, na_values='na', é opcional e é usado para especificar como os valores ausentes (também conhecidos como valores nulos) são tratados durante a leitura do arquivo. Neste caso, na_values é definido como 'na', o que significa que a string \"na\" será tratada como um valor ausente e substituída por um valor nulo no DataFrame resultante.\n",
        "\n",
        "Portanto, o código lê o arquivo CSV no URL fornecido e cria um DataFrame pandas com base nos dados do arquivo, com valores nulos representados pelos valores \"na\". O DataFrame resultante é armazenado na variável df."
      ],
      "metadata": {
        "id": "J2gX2Zd1uiIz"
      }
    },
    {
      "cell_type": "markdown",
      "source": [
        "Abaixo vamos utilizar o método `head()` que retorna as primeiras n linhas do DataFrame, onde n é um número inteiro. Se nenhum valor é passado para n, o método retorna as primeiras 5 linhas por padrão.\n",
        "\n",
        "Nesse caso, n é igual a 10, então o método head() retorna as primeiras 10 linhas do DataFrame df.\n",
        "\n",
        "Essa é uma forma comum de visualizar as primeiras linhas de um DataFrame para ter uma ideia dos dados contidos nele. É útil para verificar se o DataFrame foi lido corretamente e se os dados estão em um formato adequado."
      ],
      "metadata": {
        "id": "aWXkm-cvu48O"
      }
    },
    {
      "cell_type": "code",
      "metadata": {
        "id": "QCKDeFk_KtrW",
        "colab": {
          "base_uri": "https://localhost:8080/",
          "height": 496
        },
        "outputId": "5b5f67e8-7649-448e-c4e5-4c814e4b75f9"
      },
      "source": [
        "df.head(n=10)"
      ],
      "execution_count": null,
      "outputs": [
        {
          "output_type": "execute_result",
          "data": {
            "text/plain": [
              "          id  default  idade sexo  dependentes         escolaridade  \\\n",
              "0  768805383        0     45    M            3         ensino medio   \n",
              "1  818770008        0     49    F            5             mestrado   \n",
              "2  713982108        0     51    M            3             mestrado   \n",
              "3  769911858        0     40    F            4         ensino medio   \n",
              "4  709106358        0     40    M            3  sem educacao formal   \n",
              "5  713061558        0     44    M            2             mestrado   \n",
              "6  810347208        0     51    M            4                  NaN   \n",
              "7  818906208        0     32    M            0         ensino medio   \n",
              "8  710930508        0     37    M            3  sem educacao formal   \n",
              "9  719661558        0     48    M            2             mestrado   \n",
              "\n",
              "  estado_civil   salario_anual tipo_cartao  meses_de_relacionamento  \\\n",
              "0       casado     $60K - $80K        blue                       39   \n",
              "1     solteiro  menos que $40K        blue                       44   \n",
              "2       casado    $80K - $120K        blue                       36   \n",
              "3          NaN  menos que $40K        blue                       34   \n",
              "4       casado     $60K - $80K        blue                       21   \n",
              "5       casado     $40K - $60K        blue                       36   \n",
              "6       casado         $120K +        gold                       46   \n",
              "7          NaN     $60K - $80K      silver                       27   \n",
              "8     solteiro     $60K - $80K        blue                       36   \n",
              "9     solteiro    $80K - $120K        blue                       36   \n",
              "\n",
              "   qtd_produtos  iteracoes_12m  meses_inativo_12m limite_credito  \\\n",
              "0             5              3                  1      12.691,51   \n",
              "1             6              2                  1       8.256,96   \n",
              "2             4              0                  1       3.418,56   \n",
              "3             3              1                  4       3.313,03   \n",
              "4             5              0                  1       4.716,22   \n",
              "5             3              2                  1       4.010,69   \n",
              "6             6              3                  1      34.516,72   \n",
              "7             2              2                  2      29.081,49   \n",
              "8             5              0                  2      22.352,50   \n",
              "9             6              3                  3      11.656,41   \n",
              "\n",
              "  valor_transacoes_12m  qtd_transacoes_12m  \n",
              "0             1.144,90                  42  \n",
              "1             1.291,45                  33  \n",
              "2             1.887,72                  20  \n",
              "3             1.171,56                  20  \n",
              "4               816,08                  28  \n",
              "5             1.088,07                  24  \n",
              "6             1.330,87                  31  \n",
              "7             1.538,32                  36  \n",
              "8             1.350,14                  24  \n",
              "9             1.441,73                  32  "
            ],
            "text/html": [
              "\n",
              "  <div id=\"df-ace1186a-48d2-4242-a342-15db3d3de0a5\">\n",
              "    <div class=\"colab-df-container\">\n",
              "      <div>\n",
              "<style scoped>\n",
              "    .dataframe tbody tr th:only-of-type {\n",
              "        vertical-align: middle;\n",
              "    }\n",
              "\n",
              "    .dataframe tbody tr th {\n",
              "        vertical-align: top;\n",
              "    }\n",
              "\n",
              "    .dataframe thead th {\n",
              "        text-align: right;\n",
              "    }\n",
              "</style>\n",
              "<table border=\"1\" class=\"dataframe\">\n",
              "  <thead>\n",
              "    <tr style=\"text-align: right;\">\n",
              "      <th></th>\n",
              "      <th>id</th>\n",
              "      <th>default</th>\n",
              "      <th>idade</th>\n",
              "      <th>sexo</th>\n",
              "      <th>dependentes</th>\n",
              "      <th>escolaridade</th>\n",
              "      <th>estado_civil</th>\n",
              "      <th>salario_anual</th>\n",
              "      <th>tipo_cartao</th>\n",
              "      <th>meses_de_relacionamento</th>\n",
              "      <th>qtd_produtos</th>\n",
              "      <th>iteracoes_12m</th>\n",
              "      <th>meses_inativo_12m</th>\n",
              "      <th>limite_credito</th>\n",
              "      <th>valor_transacoes_12m</th>\n",
              "      <th>qtd_transacoes_12m</th>\n",
              "    </tr>\n",
              "  </thead>\n",
              "  <tbody>\n",
              "    <tr>\n",
              "      <th>0</th>\n",
              "      <td>768805383</td>\n",
              "      <td>0</td>\n",
              "      <td>45</td>\n",
              "      <td>M</td>\n",
              "      <td>3</td>\n",
              "      <td>ensino medio</td>\n",
              "      <td>casado</td>\n",
              "      <td>$60K - $80K</td>\n",
              "      <td>blue</td>\n",
              "      <td>39</td>\n",
              "      <td>5</td>\n",
              "      <td>3</td>\n",
              "      <td>1</td>\n",
              "      <td>12.691,51</td>\n",
              "      <td>1.144,90</td>\n",
              "      <td>42</td>\n",
              "    </tr>\n",
              "    <tr>\n",
              "      <th>1</th>\n",
              "      <td>818770008</td>\n",
              "      <td>0</td>\n",
              "      <td>49</td>\n",
              "      <td>F</td>\n",
              "      <td>5</td>\n",
              "      <td>mestrado</td>\n",
              "      <td>solteiro</td>\n",
              "      <td>menos que $40K</td>\n",
              "      <td>blue</td>\n",
              "      <td>44</td>\n",
              "      <td>6</td>\n",
              "      <td>2</td>\n",
              "      <td>1</td>\n",
              "      <td>8.256,96</td>\n",
              "      <td>1.291,45</td>\n",
              "      <td>33</td>\n",
              "    </tr>\n",
              "    <tr>\n",
              "      <th>2</th>\n",
              "      <td>713982108</td>\n",
              "      <td>0</td>\n",
              "      <td>51</td>\n",
              "      <td>M</td>\n",
              "      <td>3</td>\n",
              "      <td>mestrado</td>\n",
              "      <td>casado</td>\n",
              "      <td>$80K - $120K</td>\n",
              "      <td>blue</td>\n",
              "      <td>36</td>\n",
              "      <td>4</td>\n",
              "      <td>0</td>\n",
              "      <td>1</td>\n",
              "      <td>3.418,56</td>\n",
              "      <td>1.887,72</td>\n",
              "      <td>20</td>\n",
              "    </tr>\n",
              "    <tr>\n",
              "      <th>3</th>\n",
              "      <td>769911858</td>\n",
              "      <td>0</td>\n",
              "      <td>40</td>\n",
              "      <td>F</td>\n",
              "      <td>4</td>\n",
              "      <td>ensino medio</td>\n",
              "      <td>NaN</td>\n",
              "      <td>menos que $40K</td>\n",
              "      <td>blue</td>\n",
              "      <td>34</td>\n",
              "      <td>3</td>\n",
              "      <td>1</td>\n",
              "      <td>4</td>\n",
              "      <td>3.313,03</td>\n",
              "      <td>1.171,56</td>\n",
              "      <td>20</td>\n",
              "    </tr>\n",
              "    <tr>\n",
              "      <th>4</th>\n",
              "      <td>709106358</td>\n",
              "      <td>0</td>\n",
              "      <td>40</td>\n",
              "      <td>M</td>\n",
              "      <td>3</td>\n",
              "      <td>sem educacao formal</td>\n",
              "      <td>casado</td>\n",
              "      <td>$60K - $80K</td>\n",
              "      <td>blue</td>\n",
              "      <td>21</td>\n",
              "      <td>5</td>\n",
              "      <td>0</td>\n",
              "      <td>1</td>\n",
              "      <td>4.716,22</td>\n",
              "      <td>816,08</td>\n",
              "      <td>28</td>\n",
              "    </tr>\n",
              "    <tr>\n",
              "      <th>5</th>\n",
              "      <td>713061558</td>\n",
              "      <td>0</td>\n",
              "      <td>44</td>\n",
              "      <td>M</td>\n",
              "      <td>2</td>\n",
              "      <td>mestrado</td>\n",
              "      <td>casado</td>\n",
              "      <td>$40K - $60K</td>\n",
              "      <td>blue</td>\n",
              "      <td>36</td>\n",
              "      <td>3</td>\n",
              "      <td>2</td>\n",
              "      <td>1</td>\n",
              "      <td>4.010,69</td>\n",
              "      <td>1.088,07</td>\n",
              "      <td>24</td>\n",
              "    </tr>\n",
              "    <tr>\n",
              "      <th>6</th>\n",
              "      <td>810347208</td>\n",
              "      <td>0</td>\n",
              "      <td>51</td>\n",
              "      <td>M</td>\n",
              "      <td>4</td>\n",
              "      <td>NaN</td>\n",
              "      <td>casado</td>\n",
              "      <td>$120K +</td>\n",
              "      <td>gold</td>\n",
              "      <td>46</td>\n",
              "      <td>6</td>\n",
              "      <td>3</td>\n",
              "      <td>1</td>\n",
              "      <td>34.516,72</td>\n",
              "      <td>1.330,87</td>\n",
              "      <td>31</td>\n",
              "    </tr>\n",
              "    <tr>\n",
              "      <th>7</th>\n",
              "      <td>818906208</td>\n",
              "      <td>0</td>\n",
              "      <td>32</td>\n",
              "      <td>M</td>\n",
              "      <td>0</td>\n",
              "      <td>ensino medio</td>\n",
              "      <td>NaN</td>\n",
              "      <td>$60K - $80K</td>\n",
              "      <td>silver</td>\n",
              "      <td>27</td>\n",
              "      <td>2</td>\n",
              "      <td>2</td>\n",
              "      <td>2</td>\n",
              "      <td>29.081,49</td>\n",
              "      <td>1.538,32</td>\n",
              "      <td>36</td>\n",
              "    </tr>\n",
              "    <tr>\n",
              "      <th>8</th>\n",
              "      <td>710930508</td>\n",
              "      <td>0</td>\n",
              "      <td>37</td>\n",
              "      <td>M</td>\n",
              "      <td>3</td>\n",
              "      <td>sem educacao formal</td>\n",
              "      <td>solteiro</td>\n",
              "      <td>$60K - $80K</td>\n",
              "      <td>blue</td>\n",
              "      <td>36</td>\n",
              "      <td>5</td>\n",
              "      <td>0</td>\n",
              "      <td>2</td>\n",
              "      <td>22.352,50</td>\n",
              "      <td>1.350,14</td>\n",
              "      <td>24</td>\n",
              "    </tr>\n",
              "    <tr>\n",
              "      <th>9</th>\n",
              "      <td>719661558</td>\n",
              "      <td>0</td>\n",
              "      <td>48</td>\n",
              "      <td>M</td>\n",
              "      <td>2</td>\n",
              "      <td>mestrado</td>\n",
              "      <td>solteiro</td>\n",
              "      <td>$80K - $120K</td>\n",
              "      <td>blue</td>\n",
              "      <td>36</td>\n",
              "      <td>6</td>\n",
              "      <td>3</td>\n",
              "      <td>3</td>\n",
              "      <td>11.656,41</td>\n",
              "      <td>1.441,73</td>\n",
              "      <td>32</td>\n",
              "    </tr>\n",
              "  </tbody>\n",
              "</table>\n",
              "</div>\n",
              "      <button class=\"colab-df-convert\" onclick=\"convertToInteractive('df-ace1186a-48d2-4242-a342-15db3d3de0a5')\"\n",
              "              title=\"Convert this dataframe to an interactive table.\"\n",
              "              style=\"display:none;\">\n",
              "        \n",
              "  <svg xmlns=\"http://www.w3.org/2000/svg\" height=\"24px\"viewBox=\"0 0 24 24\"\n",
              "       width=\"24px\">\n",
              "    <path d=\"M0 0h24v24H0V0z\" fill=\"none\"/>\n",
              "    <path d=\"M18.56 5.44l.94 2.06.94-2.06 2.06-.94-2.06-.94-.94-2.06-.94 2.06-2.06.94zm-11 1L8.5 8.5l.94-2.06 2.06-.94-2.06-.94L8.5 2.5l-.94 2.06-2.06.94zm10 10l.94 2.06.94-2.06 2.06-.94-2.06-.94-.94-2.06-.94 2.06-2.06.94z\"/><path d=\"M17.41 7.96l-1.37-1.37c-.4-.4-.92-.59-1.43-.59-.52 0-1.04.2-1.43.59L10.3 9.45l-7.72 7.72c-.78.78-.78 2.05 0 2.83L4 21.41c.39.39.9.59 1.41.59.51 0 1.02-.2 1.41-.59l7.78-7.78 2.81-2.81c.8-.78.8-2.07 0-2.86zM5.41 20L4 18.59l7.72-7.72 1.47 1.35L5.41 20z\"/>\n",
              "  </svg>\n",
              "      </button>\n",
              "      \n",
              "  <style>\n",
              "    .colab-df-container {\n",
              "      display:flex;\n",
              "      flex-wrap:wrap;\n",
              "      gap: 12px;\n",
              "    }\n",
              "\n",
              "    .colab-df-convert {\n",
              "      background-color: #E8F0FE;\n",
              "      border: none;\n",
              "      border-radius: 50%;\n",
              "      cursor: pointer;\n",
              "      display: none;\n",
              "      fill: #1967D2;\n",
              "      height: 32px;\n",
              "      padding: 0 0 0 0;\n",
              "      width: 32px;\n",
              "    }\n",
              "\n",
              "    .colab-df-convert:hover {\n",
              "      background-color: #E2EBFA;\n",
              "      box-shadow: 0px 1px 2px rgba(60, 64, 67, 0.3), 0px 1px 3px 1px rgba(60, 64, 67, 0.15);\n",
              "      fill: #174EA6;\n",
              "    }\n",
              "\n",
              "    [theme=dark] .colab-df-convert {\n",
              "      background-color: #3B4455;\n",
              "      fill: #D2E3FC;\n",
              "    }\n",
              "\n",
              "    [theme=dark] .colab-df-convert:hover {\n",
              "      background-color: #434B5C;\n",
              "      box-shadow: 0px 1px 3px 1px rgba(0, 0, 0, 0.15);\n",
              "      filter: drop-shadow(0px 1px 2px rgba(0, 0, 0, 0.3));\n",
              "      fill: #FFFFFF;\n",
              "    }\n",
              "  </style>\n",
              "\n",
              "      <script>\n",
              "        const buttonEl =\n",
              "          document.querySelector('#df-ace1186a-48d2-4242-a342-15db3d3de0a5 button.colab-df-convert');\n",
              "        buttonEl.style.display =\n",
              "          google.colab.kernel.accessAllowed ? 'block' : 'none';\n",
              "\n",
              "        async function convertToInteractive(key) {\n",
              "          const element = document.querySelector('#df-ace1186a-48d2-4242-a342-15db3d3de0a5');\n",
              "          const dataTable =\n",
              "            await google.colab.kernel.invokeFunction('convertToInteractive',\n",
              "                                                     [key], {});\n",
              "          if (!dataTable) return;\n",
              "\n",
              "          const docLinkHtml = 'Like what you see? Visit the ' +\n",
              "            '<a target=\"_blank\" href=https://colab.research.google.com/notebooks/data_table.ipynb>data table notebook</a>'\n",
              "            + ' to learn more about interactive tables.';\n",
              "          element.innerHTML = '';\n",
              "          dataTable['output_type'] = 'display_data';\n",
              "          await google.colab.output.renderOutput(dataTable, element);\n",
              "          const docLink = document.createElement('div');\n",
              "          docLink.innerHTML = docLinkHtml;\n",
              "          element.appendChild(docLink);\n",
              "        }\n",
              "      </script>\n",
              "    </div>\n",
              "  </div>\n",
              "  "
            ]
          },
          "metadata": {},
          "execution_count": 7
        }
      ]
    },
    {
      "cell_type": "markdown",
      "metadata": {
        "id": "EuDUXAcU-bWl"
      },
      "source": [
        "##### **1.1. Estrutura** "
      ]
    },
    {
      "cell_type": "markdown",
      "source": [
        "Utilizamos a função `shape` para descobrimos a quantidade de linhas e colunas em nosso arquivo"
      ],
      "metadata": {
        "id": "uujo4aOS59ET"
      }
    },
    {
      "cell_type": "code",
      "metadata": {
        "id": "TiHtowl0RzDj",
        "colab": {
          "base_uri": "https://localhost:8080/"
        },
        "outputId": "e03e3dd1-5c10-426f-fb85-a213624b2f54"
      },
      "source": [
        "df.shape # retorna uma tupla (qtd linhas, qtd colunas)"
      ],
      "execution_count": null,
      "outputs": [
        {
          "output_type": "execute_result",
          "data": {
            "text/plain": [
              "(10127, 16)"
            ]
          },
          "metadata": {},
          "execution_count": 8
        }
      ]
    },
    {
      "cell_type": "markdown",
      "source": [
        "Vamos contabilizar agora quantos clientes estão adimplentes (`default = 0`) e quantos estão inadimplentes no momento (`default = 1`)."
      ],
      "metadata": {
        "id": "Z3jXGZX86RCt"
      }
    },
    {
      "cell_type": "code",
      "metadata": {
        "id": "J1FI7JejBrXN",
        "colab": {
          "base_uri": "https://localhost:8080/"
        },
        "outputId": "7f2d8f40-8a20-4045-bef0-427884938da8"
      },
      "source": [
        "df[df['default'] == 0].shape"
      ],
      "execution_count": null,
      "outputs": [
        {
          "output_type": "execute_result",
          "data": {
            "text/plain": [
              "(8500, 16)"
            ]
          },
          "metadata": {},
          "execution_count": 9
        }
      ]
    },
    {
      "cell_type": "code",
      "metadata": {
        "id": "G4RYP6btBriq",
        "colab": {
          "base_uri": "https://localhost:8080/"
        },
        "outputId": "9f7553c1-51a7-429e-8584-a0836bcebef0"
      },
      "source": [
        "df[df['default'] == 1].shape"
      ],
      "execution_count": null,
      "outputs": [
        {
          "output_type": "execute_result",
          "data": {
            "text/plain": [
              "(1627, 16)"
            ]
          },
          "metadata": {},
          "execution_count": 10
        }
      ]
    },
    {
      "cell_type": "markdown",
      "source": [
        "Temos adimplentes = 8500 e inadimplentes = 1627"
      ],
      "metadata": {
        "id": "6VUfofZ_6s7w"
      }
    },
    {
      "cell_type": "code",
      "metadata": {
        "id": "wH_CazQqB0Ju"
      },
      "source": [
        "qtd_total, _ = df.shape\n",
        "qtd_adimplentes, _ = df[df['default'] == 0].shape\n",
        "qtd_inadimplentes, _ = df[df['default'] == 1].shape"
      ],
      "execution_count": null,
      "outputs": []
    },
    {
      "cell_type": "markdown",
      "source": [
        "Vamos descobrir quanto essa quantidade representa em porcentagem"
      ],
      "metadata": {
        "id": "lHKUb3X966AB"
      }
    },
    {
      "cell_type": "code",
      "metadata": {
        "id": "oNt0s7YeCb3z",
        "colab": {
          "base_uri": "https://localhost:8080/"
        },
        "outputId": "9ff6b547-8fe3-47ac-89c4-e5de13536fc3"
      },
      "source": [
        "print(f\"A proporcão clientes adimplentes é de {round(100 * qtd_adimplentes / qtd_total, 2)}%\")\n",
        "print(f\"A proporcão clientes inadimplentes é de {round(100 * qtd_inadimplentes / qtd_total, 2)}%\")"
      ],
      "execution_count": null,
      "outputs": [
        {
          "output_type": "stream",
          "name": "stdout",
          "text": [
            "A proporcão clientes adimplentes é de 83.93%\n",
            "A proporcão clientes inadimplentes é de 16.07%\n"
          ]
        }
      ]
    },
    {
      "cell_type": "markdown",
      "source": [
        "![image.png](data:image/png;base64,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)"
      ],
      "metadata": {
        "id": "Q0Kv9hyLzm_R"
      }
    },
    {
      "cell_type": "markdown",
      "metadata": {
        "id": "kwey_fNL-dko"
      },
      "source": [
        "##### **1.2. Schema** "
      ]
    },
    {
      "cell_type": "code",
      "metadata": {
        "id": "nYYrLXUfHo_3",
        "colab": {
          "base_uri": "https://localhost:8080/",
          "height": 322
        },
        "outputId": "878db6c1-69c2-4dd1-8059-88e299f9585b"
      },
      "source": [
        "df.head(n=5)"
      ],
      "execution_count": null,
      "outputs": [
        {
          "output_type": "execute_result",
          "data": {
            "text/plain": [
              "          id  default  idade sexo  dependentes         escolaridade  \\\n",
              "0  768805383        0     45    M            3         ensino medio   \n",
              "1  818770008        0     49    F            5             mestrado   \n",
              "2  713982108        0     51    M            3             mestrado   \n",
              "3  769911858        0     40    F            4         ensino medio   \n",
              "4  709106358        0     40    M            3  sem educacao formal   \n",
              "\n",
              "  estado_civil   salario_anual tipo_cartao  meses_de_relacionamento  \\\n",
              "0       casado     $60K - $80K        blue                       39   \n",
              "1     solteiro  menos que $40K        blue                       44   \n",
              "2       casado    $80K - $120K        blue                       36   \n",
              "3          NaN  menos que $40K        blue                       34   \n",
              "4       casado     $60K - $80K        blue                       21   \n",
              "\n",
              "   qtd_produtos  iteracoes_12m  meses_inativo_12m limite_credito  \\\n",
              "0             5              3                  1      12.691,51   \n",
              "1             6              2                  1       8.256,96   \n",
              "2             4              0                  1       3.418,56   \n",
              "3             3              1                  4       3.313,03   \n",
              "4             5              0                  1       4.716,22   \n",
              "\n",
              "  valor_transacoes_12m  qtd_transacoes_12m  \n",
              "0             1.144,90                  42  \n",
              "1             1.291,45                  33  \n",
              "2             1.887,72                  20  \n",
              "3             1.171,56                  20  \n",
              "4               816,08                  28  "
            ],
            "text/html": [
              "\n",
              "  <div id=\"df-5e6907d4-fc93-4f9b-b9d1-9146398408b7\">\n",
              "    <div class=\"colab-df-container\">\n",
              "      <div>\n",
              "<style scoped>\n",
              "    .dataframe tbody tr th:only-of-type {\n",
              "        vertical-align: middle;\n",
              "    }\n",
              "\n",
              "    .dataframe tbody tr th {\n",
              "        vertical-align: top;\n",
              "    }\n",
              "\n",
              "    .dataframe thead th {\n",
              "        text-align: right;\n",
              "    }\n",
              "</style>\n",
              "<table border=\"1\" class=\"dataframe\">\n",
              "  <thead>\n",
              "    <tr style=\"text-align: right;\">\n",
              "      <th></th>\n",
              "      <th>id</th>\n",
              "      <th>default</th>\n",
              "      <th>idade</th>\n",
              "      <th>sexo</th>\n",
              "      <th>dependentes</th>\n",
              "      <th>escolaridade</th>\n",
              "      <th>estado_civil</th>\n",
              "      <th>salario_anual</th>\n",
              "      <th>tipo_cartao</th>\n",
              "      <th>meses_de_relacionamento</th>\n",
              "      <th>qtd_produtos</th>\n",
              "      <th>iteracoes_12m</th>\n",
              "      <th>meses_inativo_12m</th>\n",
              "      <th>limite_credito</th>\n",
              "      <th>valor_transacoes_12m</th>\n",
              "      <th>qtd_transacoes_12m</th>\n",
              "    </tr>\n",
              "  </thead>\n",
              "  <tbody>\n",
              "    <tr>\n",
              "      <th>0</th>\n",
              "      <td>768805383</td>\n",
              "      <td>0</td>\n",
              "      <td>45</td>\n",
              "      <td>M</td>\n",
              "      <td>3</td>\n",
              "      <td>ensino medio</td>\n",
              "      <td>casado</td>\n",
              "      <td>$60K - $80K</td>\n",
              "      <td>blue</td>\n",
              "      <td>39</td>\n",
              "      <td>5</td>\n",
              "      <td>3</td>\n",
              "      <td>1</td>\n",
              "      <td>12.691,51</td>\n",
              "      <td>1.144,90</td>\n",
              "      <td>42</td>\n",
              "    </tr>\n",
              "    <tr>\n",
              "      <th>1</th>\n",
              "      <td>818770008</td>\n",
              "      <td>0</td>\n",
              "      <td>49</td>\n",
              "      <td>F</td>\n",
              "      <td>5</td>\n",
              "      <td>mestrado</td>\n",
              "      <td>solteiro</td>\n",
              "      <td>menos que $40K</td>\n",
              "      <td>blue</td>\n",
              "      <td>44</td>\n",
              "      <td>6</td>\n",
              "      <td>2</td>\n",
              "      <td>1</td>\n",
              "      <td>8.256,96</td>\n",
              "      <td>1.291,45</td>\n",
              "      <td>33</td>\n",
              "    </tr>\n",
              "    <tr>\n",
              "      <th>2</th>\n",
              "      <td>713982108</td>\n",
              "      <td>0</td>\n",
              "      <td>51</td>\n",
              "      <td>M</td>\n",
              "      <td>3</td>\n",
              "      <td>mestrado</td>\n",
              "      <td>casado</td>\n",
              "      <td>$80K - $120K</td>\n",
              "      <td>blue</td>\n",
              "      <td>36</td>\n",
              "      <td>4</td>\n",
              "      <td>0</td>\n",
              "      <td>1</td>\n",
              "      <td>3.418,56</td>\n",
              "      <td>1.887,72</td>\n",
              "      <td>20</td>\n",
              "    </tr>\n",
              "    <tr>\n",
              "      <th>3</th>\n",
              "      <td>769911858</td>\n",
              "      <td>0</td>\n",
              "      <td>40</td>\n",
              "      <td>F</td>\n",
              "      <td>4</td>\n",
              "      <td>ensino medio</td>\n",
              "      <td>NaN</td>\n",
              "      <td>menos que $40K</td>\n",
              "      <td>blue</td>\n",
              "      <td>34</td>\n",
              "      <td>3</td>\n",
              "      <td>1</td>\n",
              "      <td>4</td>\n",
              "      <td>3.313,03</td>\n",
              "      <td>1.171,56</td>\n",
              "      <td>20</td>\n",
              "    </tr>\n",
              "    <tr>\n",
              "      <th>4</th>\n",
              "      <td>709106358</td>\n",
              "      <td>0</td>\n",
              "      <td>40</td>\n",
              "      <td>M</td>\n",
              "      <td>3</td>\n",
              "      <td>sem educacao formal</td>\n",
              "      <td>casado</td>\n",
              "      <td>$60K - $80K</td>\n",
              "      <td>blue</td>\n",
              "      <td>21</td>\n",
              "      <td>5</td>\n",
              "      <td>0</td>\n",
              "      <td>1</td>\n",
              "      <td>4.716,22</td>\n",
              "      <td>816,08</td>\n",
              "      <td>28</td>\n",
              "    </tr>\n",
              "  </tbody>\n",
              "</table>\n",
              "</div>\n",
              "      <button class=\"colab-df-convert\" onclick=\"convertToInteractive('df-5e6907d4-fc93-4f9b-b9d1-9146398408b7')\"\n",
              "              title=\"Convert this dataframe to an interactive table.\"\n",
              "              style=\"display:none;\">\n",
              "        \n",
              "  <svg xmlns=\"http://www.w3.org/2000/svg\" height=\"24px\"viewBox=\"0 0 24 24\"\n",
              "       width=\"24px\">\n",
              "    <path d=\"M0 0h24v24H0V0z\" fill=\"none\"/>\n",
              "    <path d=\"M18.56 5.44l.94 2.06.94-2.06 2.06-.94-2.06-.94-.94-2.06-.94 2.06-2.06.94zm-11 1L8.5 8.5l.94-2.06 2.06-.94-2.06-.94L8.5 2.5l-.94 2.06-2.06.94zm10 10l.94 2.06.94-2.06 2.06-.94-2.06-.94-.94-2.06-.94 2.06-2.06.94z\"/><path d=\"M17.41 7.96l-1.37-1.37c-.4-.4-.92-.59-1.43-.59-.52 0-1.04.2-1.43.59L10.3 9.45l-7.72 7.72c-.78.78-.78 2.05 0 2.83L4 21.41c.39.39.9.59 1.41.59.51 0 1.02-.2 1.41-.59l7.78-7.78 2.81-2.81c.8-.78.8-2.07 0-2.86zM5.41 20L4 18.59l7.72-7.72 1.47 1.35L5.41 20z\"/>\n",
              "  </svg>\n",
              "      </button>\n",
              "      \n",
              "  <style>\n",
              "    .colab-df-container {\n",
              "      display:flex;\n",
              "      flex-wrap:wrap;\n",
              "      gap: 12px;\n",
              "    }\n",
              "\n",
              "    .colab-df-convert {\n",
              "      background-color: #E8F0FE;\n",
              "      border: none;\n",
              "      border-radius: 50%;\n",
              "      cursor: pointer;\n",
              "      display: none;\n",
              "      fill: #1967D2;\n",
              "      height: 32px;\n",
              "      padding: 0 0 0 0;\n",
              "      width: 32px;\n",
              "    }\n",
              "\n",
              "    .colab-df-convert:hover {\n",
              "      background-color: #E2EBFA;\n",
              "      box-shadow: 0px 1px 2px rgba(60, 64, 67, 0.3), 0px 1px 3px 1px rgba(60, 64, 67, 0.15);\n",
              "      fill: #174EA6;\n",
              "    }\n",
              "\n",
              "    [theme=dark] .colab-df-convert {\n",
              "      background-color: #3B4455;\n",
              "      fill: #D2E3FC;\n",
              "    }\n",
              "\n",
              "    [theme=dark] .colab-df-convert:hover {\n",
              "      background-color: #434B5C;\n",
              "      box-shadow: 0px 1px 3px 1px rgba(0, 0, 0, 0.15);\n",
              "      filter: drop-shadow(0px 1px 2px rgba(0, 0, 0, 0.3));\n",
              "      fill: #FFFFFF;\n",
              "    }\n",
              "  </style>\n",
              "\n",
              "      <script>\n",
              "        const buttonEl =\n",
              "          document.querySelector('#df-5e6907d4-fc93-4f9b-b9d1-9146398408b7 button.colab-df-convert');\n",
              "        buttonEl.style.display =\n",
              "          google.colab.kernel.accessAllowed ? 'block' : 'none';\n",
              "\n",
              "        async function convertToInteractive(key) {\n",
              "          const element = document.querySelector('#df-5e6907d4-fc93-4f9b-b9d1-9146398408b7');\n",
              "          const dataTable =\n",
              "            await google.colab.kernel.invokeFunction('convertToInteractive',\n",
              "                                                     [key], {});\n",
              "          if (!dataTable) return;\n",
              "\n",
              "          const docLinkHtml = 'Like what you see? Visit the ' +\n",
              "            '<a target=\"_blank\" href=https://colab.research.google.com/notebooks/data_table.ipynb>data table notebook</a>'\n",
              "            + ' to learn more about interactive tables.';\n",
              "          element.innerHTML = '';\n",
              "          dataTable['output_type'] = 'display_data';\n",
              "          await google.colab.output.renderOutput(dataTable, element);\n",
              "          const docLink = document.createElement('div');\n",
              "          docLink.innerHTML = docLinkHtml;\n",
              "          element.appendChild(docLink);\n",
              "        }\n",
              "      </script>\n",
              "    </div>\n",
              "  </div>\n",
              "  "
            ]
          },
          "metadata": {},
          "execution_count": 13
        }
      ]
    },
    {
      "cell_type": "markdown",
      "metadata": {
        "id": "sqxmut5iHPeF"
      },
      "source": [
        "Abaixo vamos identificar as colunas e seus respectivos tipos de dados por meio do método `dtypes`."
      ]
    },
    {
      "cell_type": "code",
      "metadata": {
        "id": "llbDSkrwK8Yy",
        "colab": {
          "base_uri": "https://localhost:8080/"
        },
        "outputId": "c86da942-0adf-4ce6-fc3a-0906151115fa"
      },
      "source": [
        "df.dtypes"
      ],
      "execution_count": null,
      "outputs": [
        {
          "output_type": "execute_result",
          "data": {
            "text/plain": [
              "id                          int64\n",
              "default                     int64\n",
              "idade                       int64\n",
              "sexo                       object\n",
              "dependentes                 int64\n",
              "escolaridade               object\n",
              "estado_civil               object\n",
              "salario_anual              object\n",
              "tipo_cartao                object\n",
              "meses_de_relacionamento     int64\n",
              "qtd_produtos                int64\n",
              "iteracoes_12m               int64\n",
              "meses_inativo_12m           int64\n",
              "limite_credito             object\n",
              "valor_transacoes_12m       object\n",
              "qtd_transacoes_12m          int64\n",
              "dtype: object"
            ]
          },
          "metadata": {},
          "execution_count": 14
        }
      ]
    },
    {
      "cell_type": "markdown",
      "metadata": {
        "id": "aoW6ljPmHCiB"
      },
      "source": [
        "Identificando os atributos **categóricos** que são tipos de variáveis que podem assumir um número limitado e definido de valores discretos, geralmente representando uma categoria ou classe específica. "
      ]
    },
    {
      "cell_type": "code",
      "metadata": {
        "id": "Bk9ruKeCFiEn",
        "colab": {
          "base_uri": "https://localhost:8080/",
          "height": 269
        },
        "outputId": "9f0275b4-d714-4813-b474-6e16b4ceddf5"
      },
      "source": [
        "df.select_dtypes('object').describe().transpose()"
      ],
      "execution_count": null,
      "outputs": [
        {
          "output_type": "execute_result",
          "data": {
            "text/plain": [
              "                      count unique             top  freq\n",
              "sexo                  10127      2               F  5358\n",
              "escolaridade           8608      5        mestrado  3128\n",
              "estado_civil           9378      3          casado  4687\n",
              "salario_anual          9015      5  menos que $40K  3561\n",
              "tipo_cartao           10127      4            blue  9436\n",
              "limite_credito        10127   9272        1.438,21    11\n",
              "valor_transacoes_12m  10127  10035        3.851,51     3"
            ],
            "text/html": [
              "\n",
              "  <div id=\"df-40f36523-c285-4c1f-8db2-6bfd16463f94\">\n",
              "    <div class=\"colab-df-container\">\n",
              "      <div>\n",
              "<style scoped>\n",
              "    .dataframe tbody tr th:only-of-type {\n",
              "        vertical-align: middle;\n",
              "    }\n",
              "\n",
              "    .dataframe tbody tr th {\n",
              "        vertical-align: top;\n",
              "    }\n",
              "\n",
              "    .dataframe thead th {\n",
              "        text-align: right;\n",
              "    }\n",
              "</style>\n",
              "<table border=\"1\" class=\"dataframe\">\n",
              "  <thead>\n",
              "    <tr style=\"text-align: right;\">\n",
              "      <th></th>\n",
              "      <th>count</th>\n",
              "      <th>unique</th>\n",
              "      <th>top</th>\n",
              "      <th>freq</th>\n",
              "    </tr>\n",
              "  </thead>\n",
              "  <tbody>\n",
              "    <tr>\n",
              "      <th>sexo</th>\n",
              "      <td>10127</td>\n",
              "      <td>2</td>\n",
              "      <td>F</td>\n",
              "      <td>5358</td>\n",
              "    </tr>\n",
              "    <tr>\n",
              "      <th>escolaridade</th>\n",
              "      <td>8608</td>\n",
              "      <td>5</td>\n",
              "      <td>mestrado</td>\n",
              "      <td>3128</td>\n",
              "    </tr>\n",
              "    <tr>\n",
              "      <th>estado_civil</th>\n",
              "      <td>9378</td>\n",
              "      <td>3</td>\n",
              "      <td>casado</td>\n",
              "      <td>4687</td>\n",
              "    </tr>\n",
              "    <tr>\n",
              "      <th>salario_anual</th>\n",
              "      <td>9015</td>\n",
              "      <td>5</td>\n",
              "      <td>menos que $40K</td>\n",
              "      <td>3561</td>\n",
              "    </tr>\n",
              "    <tr>\n",
              "      <th>tipo_cartao</th>\n",
              "      <td>10127</td>\n",
              "      <td>4</td>\n",
              "      <td>blue</td>\n",
              "      <td>9436</td>\n",
              "    </tr>\n",
              "    <tr>\n",
              "      <th>limite_credito</th>\n",
              "      <td>10127</td>\n",
              "      <td>9272</td>\n",
              "      <td>1.438,21</td>\n",
              "      <td>11</td>\n",
              "    </tr>\n",
              "    <tr>\n",
              "      <th>valor_transacoes_12m</th>\n",
              "      <td>10127</td>\n",
              "      <td>10035</td>\n",
              "      <td>3.851,51</td>\n",
              "      <td>3</td>\n",
              "    </tr>\n",
              "  </tbody>\n",
              "</table>\n",
              "</div>\n",
              "      <button class=\"colab-df-convert\" onclick=\"convertToInteractive('df-40f36523-c285-4c1f-8db2-6bfd16463f94')\"\n",
              "              title=\"Convert this dataframe to an interactive table.\"\n",
              "              style=\"display:none;\">\n",
              "        \n",
              "  <svg xmlns=\"http://www.w3.org/2000/svg\" height=\"24px\"viewBox=\"0 0 24 24\"\n",
              "       width=\"24px\">\n",
              "    <path d=\"M0 0h24v24H0V0z\" fill=\"none\"/>\n",
              "    <path d=\"M18.56 5.44l.94 2.06.94-2.06 2.06-.94-2.06-.94-.94-2.06-.94 2.06-2.06.94zm-11 1L8.5 8.5l.94-2.06 2.06-.94-2.06-.94L8.5 2.5l-.94 2.06-2.06.94zm10 10l.94 2.06.94-2.06 2.06-.94-2.06-.94-.94-2.06-.94 2.06-2.06.94z\"/><path d=\"M17.41 7.96l-1.37-1.37c-.4-.4-.92-.59-1.43-.59-.52 0-1.04.2-1.43.59L10.3 9.45l-7.72 7.72c-.78.78-.78 2.05 0 2.83L4 21.41c.39.39.9.59 1.41.59.51 0 1.02-.2 1.41-.59l7.78-7.78 2.81-2.81c.8-.78.8-2.07 0-2.86zM5.41 20L4 18.59l7.72-7.72 1.47 1.35L5.41 20z\"/>\n",
              "  </svg>\n",
              "      </button>\n",
              "      \n",
              "  <style>\n",
              "    .colab-df-container {\n",
              "      display:flex;\n",
              "      flex-wrap:wrap;\n",
              "      gap: 12px;\n",
              "    }\n",
              "\n",
              "    .colab-df-convert {\n",
              "      background-color: #E8F0FE;\n",
              "      border: none;\n",
              "      border-radius: 50%;\n",
              "      cursor: pointer;\n",
              "      display: none;\n",
              "      fill: #1967D2;\n",
              "      height: 32px;\n",
              "      padding: 0 0 0 0;\n",
              "      width: 32px;\n",
              "    }\n",
              "\n",
              "    .colab-df-convert:hover {\n",
              "      background-color: #E2EBFA;\n",
              "      box-shadow: 0px 1px 2px rgba(60, 64, 67, 0.3), 0px 1px 3px 1px rgba(60, 64, 67, 0.15);\n",
              "      fill: #174EA6;\n",
              "    }\n",
              "\n",
              "    [theme=dark] .colab-df-convert {\n",
              "      background-color: #3B4455;\n",
              "      fill: #D2E3FC;\n",
              "    }\n",
              "\n",
              "    [theme=dark] .colab-df-convert:hover {\n",
              "      background-color: #434B5C;\n",
              "      box-shadow: 0px 1px 3px 1px rgba(0, 0, 0, 0.15);\n",
              "      filter: drop-shadow(0px 1px 2px rgba(0, 0, 0, 0.3));\n",
              "      fill: #FFFFFF;\n",
              "    }\n",
              "  </style>\n",
              "\n",
              "      <script>\n",
              "        const buttonEl =\n",
              "          document.querySelector('#df-40f36523-c285-4c1f-8db2-6bfd16463f94 button.colab-df-convert');\n",
              "        buttonEl.style.display =\n",
              "          google.colab.kernel.accessAllowed ? 'block' : 'none';\n",
              "\n",
              "        async function convertToInteractive(key) {\n",
              "          const element = document.querySelector('#df-40f36523-c285-4c1f-8db2-6bfd16463f94');\n",
              "          const dataTable =\n",
              "            await google.colab.kernel.invokeFunction('convertToInteractive',\n",
              "                                                     [key], {});\n",
              "          if (!dataTable) return;\n",
              "\n",
              "          const docLinkHtml = 'Like what you see? Visit the ' +\n",
              "            '<a target=\"_blank\" href=https://colab.research.google.com/notebooks/data_table.ipynb>data table notebook</a>'\n",
              "            + ' to learn more about interactive tables.';\n",
              "          element.innerHTML = '';\n",
              "          dataTable['output_type'] = 'display_data';\n",
              "          await google.colab.output.renderOutput(dataTable, element);\n",
              "          const docLink = document.createElement('div');\n",
              "          docLink.innerHTML = docLinkHtml;\n",
              "          element.appendChild(docLink);\n",
              "        }\n",
              "      </script>\n",
              "    </div>\n",
              "  </div>\n",
              "  "
            ]
          },
          "metadata": {},
          "execution_count": 15
        }
      ]
    },
    {
      "cell_type": "markdown",
      "metadata": {
        "id": "8mNLjb9qHIWr"
      },
      "source": [
        "Agora vamos identificar os atributos **numéricos** que são um tipo de variáveis que contêm um valor numérico, como um número inteiro ou um número de ponto flutuante. "
      ]
    },
    {
      "cell_type": "code",
      "metadata": {
        "id": "4JAFUYUfDSSR",
        "colab": {
          "base_uri": "https://localhost:8080/",
          "height": 300
        },
        "outputId": "57efe60b-f0e1-4f8d-a487-76d0a0d9d0aa"
      },
      "source": [
        "df.drop('id', axis=1).select_dtypes('number').describe().transpose()"
      ],
      "execution_count": null,
      "outputs": [
        {
          "output_type": "execute_result",
          "data": {
            "text/plain": [
              "                           count       mean        std   min   25%   50%  \\\n",
              "default                  10127.0   0.160660   0.367235   0.0   0.0   0.0   \n",
              "idade                    10127.0  46.325960   8.016814  26.0  41.0  46.0   \n",
              "dependentes              10127.0   2.346203   1.298908   0.0   1.0   2.0   \n",
              "meses_de_relacionamento  10127.0  35.928409   7.986416  13.0  31.0  36.0   \n",
              "qtd_produtos             10127.0   3.812580   1.554408   1.0   3.0   4.0   \n",
              "iteracoes_12m            10127.0   2.455317   1.106225   0.0   2.0   2.0   \n",
              "meses_inativo_12m        10127.0   2.341167   1.010622   0.0   2.0   2.0   \n",
              "qtd_transacoes_12m       10127.0  64.858695  23.472570  10.0  45.0  67.0   \n",
              "\n",
              "                          75%    max  \n",
              "default                   0.0    1.0  \n",
              "idade                    52.0   73.0  \n",
              "dependentes               3.0    5.0  \n",
              "meses_de_relacionamento  40.0   56.0  \n",
              "qtd_produtos              5.0    6.0  \n",
              "iteracoes_12m             3.0    6.0  \n",
              "meses_inativo_12m         3.0    6.0  \n",
              "qtd_transacoes_12m       81.0  139.0  "
            ],
            "text/html": [
              "\n",
              "  <div id=\"df-5a87ce8d-54d7-401f-ae9f-ed61cb687ae5\">\n",
              "    <div class=\"colab-df-container\">\n",
              "      <div>\n",
              "<style scoped>\n",
              "    .dataframe tbody tr th:only-of-type {\n",
              "        vertical-align: middle;\n",
              "    }\n",
              "\n",
              "    .dataframe tbody tr th {\n",
              "        vertical-align: top;\n",
              "    }\n",
              "\n",
              "    .dataframe thead th {\n",
              "        text-align: right;\n",
              "    }\n",
              "</style>\n",
              "<table border=\"1\" class=\"dataframe\">\n",
              "  <thead>\n",
              "    <tr style=\"text-align: right;\">\n",
              "      <th></th>\n",
              "      <th>count</th>\n",
              "      <th>mean</th>\n",
              "      <th>std</th>\n",
              "      <th>min</th>\n",
              "      <th>25%</th>\n",
              "      <th>50%</th>\n",
              "      <th>75%</th>\n",
              "      <th>max</th>\n",
              "    </tr>\n",
              "  </thead>\n",
              "  <tbody>\n",
              "    <tr>\n",
              "      <th>default</th>\n",
              "      <td>10127.0</td>\n",
              "      <td>0.160660</td>\n",
              "      <td>0.367235</td>\n",
              "      <td>0.0</td>\n",
              "      <td>0.0</td>\n",
              "      <td>0.0</td>\n",
              "      <td>0.0</td>\n",
              "      <td>1.0</td>\n",
              "    </tr>\n",
              "    <tr>\n",
              "      <th>idade</th>\n",
              "      <td>10127.0</td>\n",
              "      <td>46.325960</td>\n",
              "      <td>8.016814</td>\n",
              "      <td>26.0</td>\n",
              "      <td>41.0</td>\n",
              "      <td>46.0</td>\n",
              "      <td>52.0</td>\n",
              "      <td>73.0</td>\n",
              "    </tr>\n",
              "    <tr>\n",
              "      <th>dependentes</th>\n",
              "      <td>10127.0</td>\n",
              "      <td>2.346203</td>\n",
              "      <td>1.298908</td>\n",
              "      <td>0.0</td>\n",
              "      <td>1.0</td>\n",
              "      <td>2.0</td>\n",
              "      <td>3.0</td>\n",
              "      <td>5.0</td>\n",
              "    </tr>\n",
              "    <tr>\n",
              "      <th>meses_de_relacionamento</th>\n",
              "      <td>10127.0</td>\n",
              "      <td>35.928409</td>\n",
              "      <td>7.986416</td>\n",
              "      <td>13.0</td>\n",
              "      <td>31.0</td>\n",
              "      <td>36.0</td>\n",
              "      <td>40.0</td>\n",
              "      <td>56.0</td>\n",
              "    </tr>\n",
              "    <tr>\n",
              "      <th>qtd_produtos</th>\n",
              "      <td>10127.0</td>\n",
              "      <td>3.812580</td>\n",
              "      <td>1.554408</td>\n",
              "      <td>1.0</td>\n",
              "      <td>3.0</td>\n",
              "      <td>4.0</td>\n",
              "      <td>5.0</td>\n",
              "      <td>6.0</td>\n",
              "    </tr>\n",
              "    <tr>\n",
              "      <th>iteracoes_12m</th>\n",
              "      <td>10127.0</td>\n",
              "      <td>2.455317</td>\n",
              "      <td>1.106225</td>\n",
              "      <td>0.0</td>\n",
              "      <td>2.0</td>\n",
              "      <td>2.0</td>\n",
              "      <td>3.0</td>\n",
              "      <td>6.0</td>\n",
              "    </tr>\n",
              "    <tr>\n",
              "      <th>meses_inativo_12m</th>\n",
              "      <td>10127.0</td>\n",
              "      <td>2.341167</td>\n",
              "      <td>1.010622</td>\n",
              "      <td>0.0</td>\n",
              "      <td>2.0</td>\n",
              "      <td>2.0</td>\n",
              "      <td>3.0</td>\n",
              "      <td>6.0</td>\n",
              "    </tr>\n",
              "    <tr>\n",
              "      <th>qtd_transacoes_12m</th>\n",
              "      <td>10127.0</td>\n",
              "      <td>64.858695</td>\n",
              "      <td>23.472570</td>\n",
              "      <td>10.0</td>\n",
              "      <td>45.0</td>\n",
              "      <td>67.0</td>\n",
              "      <td>81.0</td>\n",
              "      <td>139.0</td>\n",
              "    </tr>\n",
              "  </tbody>\n",
              "</table>\n",
              "</div>\n",
              "      <button class=\"colab-df-convert\" onclick=\"convertToInteractive('df-5a87ce8d-54d7-401f-ae9f-ed61cb687ae5')\"\n",
              "              title=\"Convert this dataframe to an interactive table.\"\n",
              "              style=\"display:none;\">\n",
              "        \n",
              "  <svg xmlns=\"http://www.w3.org/2000/svg\" height=\"24px\"viewBox=\"0 0 24 24\"\n",
              "       width=\"24px\">\n",
              "    <path d=\"M0 0h24v24H0V0z\" fill=\"none\"/>\n",
              "    <path d=\"M18.56 5.44l.94 2.06.94-2.06 2.06-.94-2.06-.94-.94-2.06-.94 2.06-2.06.94zm-11 1L8.5 8.5l.94-2.06 2.06-.94-2.06-.94L8.5 2.5l-.94 2.06-2.06.94zm10 10l.94 2.06.94-2.06 2.06-.94-2.06-.94-.94-2.06-.94 2.06-2.06.94z\"/><path d=\"M17.41 7.96l-1.37-1.37c-.4-.4-.92-.59-1.43-.59-.52 0-1.04.2-1.43.59L10.3 9.45l-7.72 7.72c-.78.78-.78 2.05 0 2.83L4 21.41c.39.39.9.59 1.41.59.51 0 1.02-.2 1.41-.59l7.78-7.78 2.81-2.81c.8-.78.8-2.07 0-2.86zM5.41 20L4 18.59l7.72-7.72 1.47 1.35L5.41 20z\"/>\n",
              "  </svg>\n",
              "      </button>\n",
              "      \n",
              "  <style>\n",
              "    .colab-df-container {\n",
              "      display:flex;\n",
              "      flex-wrap:wrap;\n",
              "      gap: 12px;\n",
              "    }\n",
              "\n",
              "    .colab-df-convert {\n",
              "      background-color: #E8F0FE;\n",
              "      border: none;\n",
              "      border-radius: 50%;\n",
              "      cursor: pointer;\n",
              "      display: none;\n",
              "      fill: #1967D2;\n",
              "      height: 32px;\n",
              "      padding: 0 0 0 0;\n",
              "      width: 32px;\n",
              "    }\n",
              "\n",
              "    .colab-df-convert:hover {\n",
              "      background-color: #E2EBFA;\n",
              "      box-shadow: 0px 1px 2px rgba(60, 64, 67, 0.3), 0px 1px 3px 1px rgba(60, 64, 67, 0.15);\n",
              "      fill: #174EA6;\n",
              "    }\n",
              "\n",
              "    [theme=dark] .colab-df-convert {\n",
              "      background-color: #3B4455;\n",
              "      fill: #D2E3FC;\n",
              "    }\n",
              "\n",
              "    [theme=dark] .colab-df-convert:hover {\n",
              "      background-color: #434B5C;\n",
              "      box-shadow: 0px 1px 3px 1px rgba(0, 0, 0, 0.15);\n",
              "      filter: drop-shadow(0px 1px 2px rgba(0, 0, 0, 0.3));\n",
              "      fill: #FFFFFF;\n",
              "    }\n",
              "  </style>\n",
              "\n",
              "      <script>\n",
              "        const buttonEl =\n",
              "          document.querySelector('#df-5a87ce8d-54d7-401f-ae9f-ed61cb687ae5 button.colab-df-convert');\n",
              "        buttonEl.style.display =\n",
              "          google.colab.kernel.accessAllowed ? 'block' : 'none';\n",
              "\n",
              "        async function convertToInteractive(key) {\n",
              "          const element = document.querySelector('#df-5a87ce8d-54d7-401f-ae9f-ed61cb687ae5');\n",
              "          const dataTable =\n",
              "            await google.colab.kernel.invokeFunction('convertToInteractive',\n",
              "                                                     [key], {});\n",
              "          if (!dataTable) return;\n",
              "\n",
              "          const docLinkHtml = 'Like what you see? Visit the ' +\n",
              "            '<a target=\"_blank\" href=https://colab.research.google.com/notebooks/data_table.ipynb>data table notebook</a>'\n",
              "            + ' to learn more about interactive tables.';\n",
              "          element.innerHTML = '';\n",
              "          dataTable['output_type'] = 'display_data';\n",
              "          await google.colab.output.renderOutput(dataTable, element);\n",
              "          const docLink = document.createElement('div');\n",
              "          docLink.innerHTML = docLinkHtml;\n",
              "          element.appendChild(docLink);\n",
              "        }\n",
              "      </script>\n",
              "    </div>\n",
              "  </div>\n",
              "  "
            ]
          },
          "metadata": {},
          "execution_count": 16
        }
      ]
    },
    {
      "cell_type": "markdown",
      "metadata": {
        "id": "7lAUes2dUY3h"
      },
      "source": [
        "##### **1.3. Dados faltantes** "
      ]
    },
    {
      "cell_type": "markdown",
      "metadata": {
        "id": "XYnOkpsUHu08"
      },
      "source": [
        "Um ponto importante é a identificação dos dados faltantes, pois os mesmos podem atrapalhar a análise, dessa forma após a identificação desses dados é possível realizar a limpeza do nosso arquivo, como veremos mais a frente.\n",
        "\n",
        "Exemplo de dados faltantes são:\n",
        "\n",
        " - Vazios (`\"\"`);\n",
        " - Nulos (`None`);\n",
        " - Não disponíveis ou aplicaveis (`na`, `NA`, etc.);\n",
        " - Não numérico (`nan`, `NaN`, `NAN`, etc)."
      ]
    },
    {
      "cell_type": "code",
      "metadata": {
        "id": "8BEHOjzsUnai",
        "colab": {
          "base_uri": "https://localhost:8080/",
          "height": 322
        },
        "outputId": "3b82e3dd-5a5e-498b-da96-a7614e8f2a10"
      },
      "source": [
        "df.head()"
      ],
      "execution_count": null,
      "outputs": [
        {
          "output_type": "execute_result",
          "data": {
            "text/plain": [
              "          id  default  idade sexo  dependentes         escolaridade  \\\n",
              "0  768805383        0     45    M            3         ensino medio   \n",
              "1  818770008        0     49    F            5             mestrado   \n",
              "2  713982108        0     51    M            3             mestrado   \n",
              "3  769911858        0     40    F            4         ensino medio   \n",
              "4  709106358        0     40    M            3  sem educacao formal   \n",
              "\n",
              "  estado_civil   salario_anual tipo_cartao  meses_de_relacionamento  \\\n",
              "0       casado     $60K - $80K        blue                       39   \n",
              "1     solteiro  menos que $40K        blue                       44   \n",
              "2       casado    $80K - $120K        blue                       36   \n",
              "3          NaN  menos que $40K        blue                       34   \n",
              "4       casado     $60K - $80K        blue                       21   \n",
              "\n",
              "   qtd_produtos  iteracoes_12m  meses_inativo_12m limite_credito  \\\n",
              "0             5              3                  1      12.691,51   \n",
              "1             6              2                  1       8.256,96   \n",
              "2             4              0                  1       3.418,56   \n",
              "3             3              1                  4       3.313,03   \n",
              "4             5              0                  1       4.716,22   \n",
              "\n",
              "  valor_transacoes_12m  qtd_transacoes_12m  \n",
              "0             1.144,90                  42  \n",
              "1             1.291,45                  33  \n",
              "2             1.887,72                  20  \n",
              "3             1.171,56                  20  \n",
              "4               816,08                  28  "
            ],
            "text/html": [
              "\n",
              "  <div id=\"df-b4b86341-bb63-4e55-b69c-6825bf5e6c65\">\n",
              "    <div class=\"colab-df-container\">\n",
              "      <div>\n",
              "<style scoped>\n",
              "    .dataframe tbody tr th:only-of-type {\n",
              "        vertical-align: middle;\n",
              "    }\n",
              "\n",
              "    .dataframe tbody tr th {\n",
              "        vertical-align: top;\n",
              "    }\n",
              "\n",
              "    .dataframe thead th {\n",
              "        text-align: right;\n",
              "    }\n",
              "</style>\n",
              "<table border=\"1\" class=\"dataframe\">\n",
              "  <thead>\n",
              "    <tr style=\"text-align: right;\">\n",
              "      <th></th>\n",
              "      <th>id</th>\n",
              "      <th>default</th>\n",
              "      <th>idade</th>\n",
              "      <th>sexo</th>\n",
              "      <th>dependentes</th>\n",
              "      <th>escolaridade</th>\n",
              "      <th>estado_civil</th>\n",
              "      <th>salario_anual</th>\n",
              "      <th>tipo_cartao</th>\n",
              "      <th>meses_de_relacionamento</th>\n",
              "      <th>qtd_produtos</th>\n",
              "      <th>iteracoes_12m</th>\n",
              "      <th>meses_inativo_12m</th>\n",
              "      <th>limite_credito</th>\n",
              "      <th>valor_transacoes_12m</th>\n",
              "      <th>qtd_transacoes_12m</th>\n",
              "    </tr>\n",
              "  </thead>\n",
              "  <tbody>\n",
              "    <tr>\n",
              "      <th>0</th>\n",
              "      <td>768805383</td>\n",
              "      <td>0</td>\n",
              "      <td>45</td>\n",
              "      <td>M</td>\n",
              "      <td>3</td>\n",
              "      <td>ensino medio</td>\n",
              "      <td>casado</td>\n",
              "      <td>$60K - $80K</td>\n",
              "      <td>blue</td>\n",
              "      <td>39</td>\n",
              "      <td>5</td>\n",
              "      <td>3</td>\n",
              "      <td>1</td>\n",
              "      <td>12.691,51</td>\n",
              "      <td>1.144,90</td>\n",
              "      <td>42</td>\n",
              "    </tr>\n",
              "    <tr>\n",
              "      <th>1</th>\n",
              "      <td>818770008</td>\n",
              "      <td>0</td>\n",
              "      <td>49</td>\n",
              "      <td>F</td>\n",
              "      <td>5</td>\n",
              "      <td>mestrado</td>\n",
              "      <td>solteiro</td>\n",
              "      <td>menos que $40K</td>\n",
              "      <td>blue</td>\n",
              "      <td>44</td>\n",
              "      <td>6</td>\n",
              "      <td>2</td>\n",
              "      <td>1</td>\n",
              "      <td>8.256,96</td>\n",
              "      <td>1.291,45</td>\n",
              "      <td>33</td>\n",
              "    </tr>\n",
              "    <tr>\n",
              "      <th>2</th>\n",
              "      <td>713982108</td>\n",
              "      <td>0</td>\n",
              "      <td>51</td>\n",
              "      <td>M</td>\n",
              "      <td>3</td>\n",
              "      <td>mestrado</td>\n",
              "      <td>casado</td>\n",
              "      <td>$80K - $120K</td>\n",
              "      <td>blue</td>\n",
              "      <td>36</td>\n",
              "      <td>4</td>\n",
              "      <td>0</td>\n",
              "      <td>1</td>\n",
              "      <td>3.418,56</td>\n",
              "      <td>1.887,72</td>\n",
              "      <td>20</td>\n",
              "    </tr>\n",
              "    <tr>\n",
              "      <th>3</th>\n",
              "      <td>769911858</td>\n",
              "      <td>0</td>\n",
              "      <td>40</td>\n",
              "      <td>F</td>\n",
              "      <td>4</td>\n",
              "      <td>ensino medio</td>\n",
              "      <td>NaN</td>\n",
              "      <td>menos que $40K</td>\n",
              "      <td>blue</td>\n",
              "      <td>34</td>\n",
              "      <td>3</td>\n",
              "      <td>1</td>\n",
              "      <td>4</td>\n",
              "      <td>3.313,03</td>\n",
              "      <td>1.171,56</td>\n",
              "      <td>20</td>\n",
              "    </tr>\n",
              "    <tr>\n",
              "      <th>4</th>\n",
              "      <td>709106358</td>\n",
              "      <td>0</td>\n",
              "      <td>40</td>\n",
              "      <td>M</td>\n",
              "      <td>3</td>\n",
              "      <td>sem educacao formal</td>\n",
              "      <td>casado</td>\n",
              "      <td>$60K - $80K</td>\n",
              "      <td>blue</td>\n",
              "      <td>21</td>\n",
              "      <td>5</td>\n",
              "      <td>0</td>\n",
              "      <td>1</td>\n",
              "      <td>4.716,22</td>\n",
              "      <td>816,08</td>\n",
              "      <td>28</td>\n",
              "    </tr>\n",
              "  </tbody>\n",
              "</table>\n",
              "</div>\n",
              "      <button class=\"colab-df-convert\" onclick=\"convertToInteractive('df-b4b86341-bb63-4e55-b69c-6825bf5e6c65')\"\n",
              "              title=\"Convert this dataframe to an interactive table.\"\n",
              "              style=\"display:none;\">\n",
              "        \n",
              "  <svg xmlns=\"http://www.w3.org/2000/svg\" height=\"24px\"viewBox=\"0 0 24 24\"\n",
              "       width=\"24px\">\n",
              "    <path d=\"M0 0h24v24H0V0z\" fill=\"none\"/>\n",
              "    <path d=\"M18.56 5.44l.94 2.06.94-2.06 2.06-.94-2.06-.94-.94-2.06-.94 2.06-2.06.94zm-11 1L8.5 8.5l.94-2.06 2.06-.94-2.06-.94L8.5 2.5l-.94 2.06-2.06.94zm10 10l.94 2.06.94-2.06 2.06-.94-2.06-.94-.94-2.06-.94 2.06-2.06.94z\"/><path d=\"M17.41 7.96l-1.37-1.37c-.4-.4-.92-.59-1.43-.59-.52 0-1.04.2-1.43.59L10.3 9.45l-7.72 7.72c-.78.78-.78 2.05 0 2.83L4 21.41c.39.39.9.59 1.41.59.51 0 1.02-.2 1.41-.59l7.78-7.78 2.81-2.81c.8-.78.8-2.07 0-2.86zM5.41 20L4 18.59l7.72-7.72 1.47 1.35L5.41 20z\"/>\n",
              "  </svg>\n",
              "      </button>\n",
              "      \n",
              "  <style>\n",
              "    .colab-df-container {\n",
              "      display:flex;\n",
              "      flex-wrap:wrap;\n",
              "      gap: 12px;\n",
              "    }\n",
              "\n",
              "    .colab-df-convert {\n",
              "      background-color: #E8F0FE;\n",
              "      border: none;\n",
              "      border-radius: 50%;\n",
              "      cursor: pointer;\n",
              "      display: none;\n",
              "      fill: #1967D2;\n",
              "      height: 32px;\n",
              "      padding: 0 0 0 0;\n",
              "      width: 32px;\n",
              "    }\n",
              "\n",
              "    .colab-df-convert:hover {\n",
              "      background-color: #E2EBFA;\n",
              "      box-shadow: 0px 1px 2px rgba(60, 64, 67, 0.3), 0px 1px 3px 1px rgba(60, 64, 67, 0.15);\n",
              "      fill: #174EA6;\n",
              "    }\n",
              "\n",
              "    [theme=dark] .colab-df-convert {\n",
              "      background-color: #3B4455;\n",
              "      fill: #D2E3FC;\n",
              "    }\n",
              "\n",
              "    [theme=dark] .colab-df-convert:hover {\n",
              "      background-color: #434B5C;\n",
              "      box-shadow: 0px 1px 3px 1px rgba(0, 0, 0, 0.15);\n",
              "      filter: drop-shadow(0px 1px 2px rgba(0, 0, 0, 0.3));\n",
              "      fill: #FFFFFF;\n",
              "    }\n",
              "  </style>\n",
              "\n",
              "      <script>\n",
              "        const buttonEl =\n",
              "          document.querySelector('#df-b4b86341-bb63-4e55-b69c-6825bf5e6c65 button.colab-df-convert');\n",
              "        buttonEl.style.display =\n",
              "          google.colab.kernel.accessAllowed ? 'block' : 'none';\n",
              "\n",
              "        async function convertToInteractive(key) {\n",
              "          const element = document.querySelector('#df-b4b86341-bb63-4e55-b69c-6825bf5e6c65');\n",
              "          const dataTable =\n",
              "            await google.colab.kernel.invokeFunction('convertToInteractive',\n",
              "                                                     [key], {});\n",
              "          if (!dataTable) return;\n",
              "\n",
              "          const docLinkHtml = 'Like what you see? Visit the ' +\n",
              "            '<a target=\"_blank\" href=https://colab.research.google.com/notebooks/data_table.ipynb>data table notebook</a>'\n",
              "            + ' to learn more about interactive tables.';\n",
              "          element.innerHTML = '';\n",
              "          dataTable['output_type'] = 'display_data';\n",
              "          await google.colab.output.renderOutput(dataTable, element);\n",
              "          const docLink = document.createElement('div');\n",
              "          docLink.innerHTML = docLinkHtml;\n",
              "          element.appendChild(docLink);\n",
              "        }\n",
              "      </script>\n",
              "    </div>\n",
              "  </div>\n",
              "  "
            ]
          },
          "metadata": {},
          "execution_count": 17
        }
      ]
    },
    {
      "cell_type": "markdown",
      "metadata": {
        "id": "GafzLolPK4jy"
      },
      "source": [
        "Podemos verificar quais colunas possuem dados faltantes por meio do código abaixo:"
      ]
    },
    {
      "cell_type": "code",
      "metadata": {
        "id": "5dhwXuvgI3iF",
        "colab": {
          "base_uri": "https://localhost:8080/"
        },
        "outputId": "8d6e75ff-8c77-4f92-c69f-f213f6c5a664"
      },
      "source": [
        "df.isna().any()"
      ],
      "execution_count": null,
      "outputs": [
        {
          "output_type": "execute_result",
          "data": {
            "text/plain": [
              "id                         False\n",
              "default                    False\n",
              "idade                      False\n",
              "sexo                       False\n",
              "dependentes                False\n",
              "escolaridade                True\n",
              "estado_civil                True\n",
              "salario_anual               True\n",
              "tipo_cartao                False\n",
              "meses_de_relacionamento    False\n",
              "qtd_produtos               False\n",
              "iteracoes_12m              False\n",
              "meses_inativo_12m          False\n",
              "limite_credito             False\n",
              "valor_transacoes_12m       False\n",
              "qtd_transacoes_12m         False\n",
              "dtype: bool"
            ]
          },
          "metadata": {},
          "execution_count": 18
        }
      ]
    },
    {
      "cell_type": "markdown",
      "metadata": {
        "id": "iHFNmur_JQ0y"
      },
      "source": [
        "A função abaixo levanta algumas estatisticas sobre as colunas dos dados faltantes."
      ]
    },
    {
      "cell_type": "code",
      "metadata": {
        "id": "UBeAIKidSMl9"
      },
      "source": [
        "def stats_dados_faltantes(df: pd.DataFrame) -> None:\n",
        "\n",
        "  stats_dados_faltantes = []\n",
        "  for col in df.columns:\n",
        "    if df[col].isna().any():\n",
        "      qtd, _ = df[df[col].isna()].shape\n",
        "      total, _ = df.shape\n",
        "      dict_dados_faltantes = {col: {'quantidade': qtd, \"porcentagem\": round(100 * qtd/total, 2)}}\n",
        "      stats_dados_faltantes.append(dict_dados_faltantes)\n",
        "\n",
        "  for stat in stats_dados_faltantes:\n",
        "    print(stat)"
      ],
      "execution_count": null,
      "outputs": []
    },
    {
      "cell_type": "code",
      "metadata": {
        "id": "yLcRKYv7Vcfo",
        "colab": {
          "base_uri": "https://localhost:8080/"
        },
        "outputId": "4d96b783-7000-45af-c647-b5712cb10bbb"
      },
      "source": [
        "stats_dados_faltantes(df=df)"
      ],
      "execution_count": null,
      "outputs": [
        {
          "output_type": "stream",
          "name": "stdout",
          "text": [
            "{'escolaridade': {'quantidade': 1519, 'porcentagem': 15.0}}\n",
            "{'estado_civil': {'quantidade': 749, 'porcentagem': 7.4}}\n",
            "{'salario_anual': {'quantidade': 1112, 'porcentagem': 10.98}}\n"
          ]
        }
      ]
    },
    {
      "cell_type": "code",
      "metadata": {
        "id": "9HgN5wcQUyrE",
        "colab": {
          "base_uri": "https://localhost:8080/"
        },
        "outputId": "69ac8592-b33d-4c54-edc4-a998eb246097"
      },
      "source": [
        "stats_dados_faltantes(df=df[df['default'] == 0])"
      ],
      "execution_count": null,
      "outputs": [
        {
          "output_type": "stream",
          "name": "stdout",
          "text": [
            "{'escolaridade': {'quantidade': 1263, 'porcentagem': 14.86}}\n",
            "{'estado_civil': {'quantidade': 620, 'porcentagem': 7.29}}\n",
            "{'salario_anual': {'quantidade': 925, 'porcentagem': 10.88}}\n"
          ]
        }
      ]
    },
    {
      "cell_type": "code",
      "metadata": {
        "id": "o9GIwcSCVmjt",
        "colab": {
          "base_uri": "https://localhost:8080/"
        },
        "outputId": "f7772ae9-9a73-48f3-ce61-0a7db905a329"
      },
      "source": [
        "stats_dados_faltantes(df=df[df['default'] == 1])"
      ],
      "execution_count": null,
      "outputs": [
        {
          "output_type": "stream",
          "name": "stdout",
          "text": [
            "{'escolaridade': {'quantidade': 256, 'porcentagem': 15.73}}\n",
            "{'estado_civil': {'quantidade': 129, 'porcentagem': 7.93}}\n",
            "{'salario_anual': {'quantidade': 187, 'porcentagem': 11.49}}\n"
          ]
        }
      ]
    },
    {
      "cell_type": "markdown",
      "source": [
        "![image.png](data:image/png;base64,iVBORw0KGgoAAAANSUhEUgAABCQAAAGbCAYAAAAcMkEOAAAAAXNSR0IArs4c6QAAAARnQU1BAACxjwv8YQUAAAAJcEhZcwAAEnQAABJ0Ad5mH3gAAFpISURBVHhe7d0LfFT1nf//dxJyI+GaEIVW0La4tIhS0gteCuvP0lZo+gPdrdfaVtFW8Fex+1dcW2urrQXdXxFXcKv04qXV9leFbYrWpa6VFaTdhtJiHkulF0FNIJAESMgkk9v/fM98J3PJTDLDTIZkzuvZjsz3nLmcmTMz553P+Z7zzWlqauptb28XAABALOXl5crPz7etwTU3N4tsAQAA4glmi1zbBgAAAAAAyBgKEgAAAAAAIOMoSAAAAAAAgIyjIAEAAAAAADKOggQAAAAAAMg4ChIAAAAAACDjKEgAAAAAAICMoyABAAAAAAAyjoIEAAAAAADIOAoSAAAAAAAg4yhIAAAAAACAjKMgAQAAAAAAMo6CBAAAAAAAyDgKEgAAAAAAIOMoSAAAAAAAgIzLaWpq6m1vb7dNJOvXdUXaWleoA215Kh3Vo8pJfl02vc3OxUnV2iztfkk68BfldPrVW/YOaca50jv+zt4Aw0Wbr1vPVL+pP9Qeka+9R++YXKSLPnKKPlxZZm8B4GQqLy9Xfn6+bQ2uublZZIsTR7YYxsgWIwbZAhjegtkisYLE3k2643vbbcOaulgrlp2nCtscSMP2h/TAz/cndZ+h16SX1q/Slv1TtWDlTbpwgp2cIH9Pjm7bPl5b3iyyU0KKR/Xq0Qub9P5yv50SUrvpNv1oh20EDfX74q4/6apVizXTTkrOn/Wj2x9R7dwbdO/i99hp0QLvZ92C+3TV9MCUZJn3ZkvF7Vpx3kQ75cT17v61cqrX2laknA//b/Ve9DnbitLvs35egu9b4D3SdTFev/uYbw36OQt8NhJ9vkE0b9cDqzdJn0rP+5mcwGfhD7MTe+5fb2vQTbfvtK1ISxa9Q/fcPsu2wsT6TdKJfZeTl/pnPST4O2SbRvD3IJl1GHVb9zd315xh9HuLkW5IChJki37IFtHIFmSLILJF4sgWGBmC2WKQQzbMB/q2GF/OEc784Nwe9UVN0vKXJ8QMDIavK0c3vjxR+1pH2SmRKpwv9r2r7gtdhv0X+z3OhsxZzriBYZh5/bdxA4PR+5t/l178oW2FmB/aQLgKrZsVn3KmN9sbnAjzY76lQitWDb4xm7nYPGcaAoOj4X+cjfDUqWrYtUcNdtpw9PvdzXEDg7Fx89v6yr27bSuK2biGrat7E3iPA+HuIb2UyjpNF/PZcH6HTLgKvQYniExp0CEzf8J57utLKPQlc1vgpCNbxEO2GMbIFmSLuMgWQCoGLEjUbgptWCM3dLdrwZTA9JEmsGFILQQ985fR2n6g0LZia/Hn6ME/jLEtZNSvn7BXBmCCQ/1e2zCaVLtrv/M5nxex0a44b3GKVfEZujLjodC8FumcKz6hmft3qnY4bCDjePCR8HUQ278//7Z+vd3djGYRJ7ys3qRJ1/Xf0M9cnJ7gCAxXZIvYyBbDHNmCbDHskS0wMuWtXLny611dXbYZ7s/a8sMat5pmAkPkB7tYZ8w4TSW25VbjvvGv+vmvtuhF9/In5VZ+SGcUB2Yff/O32vGno9K4GZr7Qed+Zi/C/d93bndcp350RuAHNXpa32Oax5qo7d9Ypaf7PbbZy3KXHn0m+LzmEvaYMQSWZaauWlmpg9v26LjG6d0XhJY1Ef931xi9dTz2Hopwfz46Sp+bcVwFeXaC49CeLfpryQWae1qsJ4x6Pa+XaJZ5v+xc0+3ugR8GX2fkexw5b4sOTFugs4OHyDXt0Yu/l87ue1+i37fw98xUeVdp97QztPt+856beRWqdW7/752VYcsd+Ri7R79Ppx6oUcu7Q8870PIaEfNbz9DZqun33kQ+xsDr1rW/VtqxyTYGUVQqnXGObRSr7e0t2nH8fbpoRrxK8EDvW5N2/6pGmhP1+n/yinb0e/2Bx/n3zjPkq17lPF5gXsnvH9K3qrsi1rkJud9a9zP7fOZ9Dl8HcTT/Xv/+2mRdNO8cjW39mTbtOyPyNbnftT06tbJJP+773sb6DIR9huwybx+fyPr16Y3/fkUHT433OQ94Y/9x/cv6P9nWwPLycvXReafYlsN8pv9aEvg9sZPCRb5vdtneMq97k/ObdlR/3Rb+mgdar8bgn3Uj8v2I+g5Gadj+Y1X7LtRVn4i9/AFh6yHX/B7+u3wR36Hg58h8Jt6OWGfu79yByXHfHyBZo0ePdr6HYRuzQZjDNcgW4d/XwZEtjMF/bwdaXiNiPtmCbDEAsgXZAidXMFvE7yGx9zU5P7+OqTrnvfF+RB3mB2j1pqiuW/u1ZfVt+tHgBcoEmMd6xC6L4bSf2m6fr0l1/bpGbteP1gfn91dx3k1Kteva60cSP472jZbBw0WQu9doyg19e4uumm1nOMwP0o/qwrqRXTfHzjE/HM48he5378rFOvS9Ad7/5j2qC+vKddVc5z3b9Gc7M6D2e69ptjs/1ntlnjNyWa/UL6O6qf5Zu8KWyXRPDK23GK9n5mv9jn91bxPxGG8NuG5djW/bKwk4tM9eCZg5f7EqdjyiO+I9RwLvW8jAr99o+PkvpSvM/NjdAd2NkDlWzz7Gvatu0KSfr9ID25vsLWKrfdkJTbMDG72ZM89zQlTwuxzOWfanpCvdx71dC6YO9FpiGfz1DeaNt47ba4N7/S/H7LUEOL9JD/z8naHuscHvyvTF7ns40z0e1Myzn+0B12sin/Xkv4OHGvarwq6jhEyYoXOm7tcf/ids3TvL/Yf952kBXSkxkpAt4iJbkC3MhWwx8OsbDNmCbIGRJ25BouHQW/baO1URt1uZ82XZYrsompMSuV8Y8wMUmFTrzEvmRySeYJfOFZ+yD7zfHgcVPP4w7IvqfgmHUVeynBx7JUyD88N/x+239V3CNwIVFaEfgJnn2e54zdu1xZyQKLx73vTzAhuavVudHzBnXvgxmBPO05XOe1VbG2cj4My/KuyHxt2w1DVErKvo7oURYjxnxXlX9q33AGfdhM9/7xxVBNeb+3qcH+4rwl/PYufH2l43gq854jkS6CYY6w1PlHusnPP5lbPRMesmeiOawPsWMsDrD5r7ifhdNmO9R+YxrztvkGM3nY25c7++oD/9LGc9bteufhuv8MeeqAsXDPRaYkng9Q2m1/57ovbb9RS8hIe9qRWaZK/2fVfiGWi9JvJZT/o72KSGOmnSpNBzDm6iZs6OPG7XHMvbMNesX2DkIFukB9kigGxBtuiHbGHbiSBbYHiIW5ComPROe+2tAU68E9yL4PwAzQ9+YewPkJHsj0hMoR9A94fJvRZaJlPp7fvR6Lc3ZWi8b2KnvTa4d43t32U18phZJwzZHyzzYxUIFJsiqs7uj0P4j2AYN9zFmOeuv4E2AmbvU/B9i3Hc60A/aPGesx9nw9f3ox6+bg6b5RoojDrc22zXj4L3dy9mb9Z+1R22t4mlLPi5TcApZ9gr4ZzP7zKzXm7QTLNHI2pdDPa+RYj3+q3wgNhPvPeovGLgjbPZ+zh1jmb23e89mu2Esf4brxiPnez3dZDXN5h3nV5qrw3uvWeOtdfCRJ94KhiqTVCygSLhPalx1msin/UT/Q4eOjTw3qhogWAWDM2B45JnzgwLKsAIQLaIj2xBtoj3vkUgWwyIbEG2wMgT/5AN8+PkXonqyhOuOR2h4MSZY7mCXfFmXuf8aAT3YgyxhdN89trAPnWGT0V5SZRq3W5fZm/NW4GN5aawH/opwfURw0DzYnCDVvgZn6+zIS8ZgzynWTd3rN6pc9zuazHWTSKhwx0Wy94/7DLgcEinvTdOGOgv530X2GuxmD1kge6GW+xepmTet0FffyISeo8i1dY6G7yo6r77HYnZtfLEpeP1TX3HaJ33wXLbGtjCjyZzpjuz7gLLZLo29gt+UQZdr4l8v5L6Dk5UhfNyGhqSCw3BrpVuaLZdKmenPDQYkGFki7jIFg6yBdmCbBFCtoBHxC9IuB/QwFVTWY88tuzPgePt+m6zX1teDm7gwrtaxuny0xdIQt293B+7JJljpQyzV8DdkLiV36H3v50w8PGpA4+vPqm4Rzef3WJbyQkci2qq6L90hxByq6FxfvTjzXMrqzF/yALd7hY4P6gn2h0r9nOGH3NrK6zXxRkqya3ER3ePDHQ16+N+RgbagzaA/3WNvTKA8/9RvRWn20Y8gR/3gGTet0FefyJivkcO8xmPGyaCy2g3fn2XyPAzuImaEtFF1khi/Sbhli+eqYL8+D9DxmWLT3PCRZltJcHtJhs4bjP+ax94vQ7+WT+R76DzR457THHg+524QNdKs0fKHXptoK7PwHBFtoiLbEG2GBjZIlFkCzshIWQLnHwDfFsn6sIrQpXJyGMTgyeCCutC6XZBM/NWKXBSFueL2NfVMsqE0I9erVtltJXWE9S3bIN1c0uj75zf7IaHWN43oVP/9vdNOnV0t52SCCdsbQo7Ti18D9H0ee6PfsSJgfZuD/zgxJrXvF0//rnivP9mgxC+Z8oJgMm+b/bYwfAf4tpN4ScHC2xsQ135nNf2VFi3O1uNDQVNZx1u/7H93FjOD/6CueEnGTOi3qN4zpgtXXq7bcRwwael+VfaRpDz2Oujqt3O+2iOtQx0603mfRvk9Sci5usPPOdM5zsXa0PUsP2XUV0qg/ofIzgwu/xO+A/ePqn1mwTTXfLf/qXS3aMRy5WXTtWd/5TcprFh+6awjXFUGHWFd80dZL0O+ll3JP0ddLjHgSrmCfpqN8Xf6+Ie6+yEjR+bodeCx/ICIwrZYiBkC7IF2SKF12eRLcgWGFkGGPbTUXya5n50gU5t3aLdb9lpVsX8xbrIDLtTNkMXTTuuF3//pp1jmO5w1+hDdgiZfkNzOV/Us8PvY47X+oeJ2uG2TwsMIdX+pnZED50VNe1D7z9DB34VGD7Mfc5khtuK9fhJuuid7frQKX5NLOrRlJJuVVZ06poZx/WVDxxTuTMtFjM0144XX+kbvidwMUMBvV8le/5VjwaH9tnWpvNWBqvExTrjg5XK/c+1oeGDfj9R51aZM+nGmBdxX0fE0FzO7d9Toh3f32CHZCrUx647Tbv7hjnqP8RU/6GWnPX30TP0l3Vr7XBpW9Tz8ds1u/EVBYcrqpjhrJsfPmLn79e7/+FCtf7+uN4dXIaoZf7r392oxRNeiRiaq2KGc5v/3qAf9w2Z9IqKP36tzk2koF3+TmnuYvWOcW5cMl45k6ZKM5yA+7HrnVQXqzulGZrr+/pR2NBK/dZBEu/bwK8/9tBV0cMpVcxwvntvh30mnMevuC5et9Im/bZ6s1pn2+9llJLSLu1+bmdgiKq26KHaHFHDt7nL/8yPVG3fi+TWb2JDcwW9Y/JoXfUP0zT5lGKVTyzUGVNL9L8+copuXT5Dl1adZm8VxSzvr53vkl2+4MUMh3VuyR49+q9mmD8z7RW1zg8fWnCiE+b/pOqnzbBdge/dhwZcr4N/1mN+P6O/gzGUnPYhXVRZov/81/BhDbfo4Jyr9Cn3fYv1XZyovNafaUfLhfrUvMDnJCDytgzNhXRL37CfDrLFgMgWZAuyReKvLx6yBdkCw18wW+Q0NTX1muAAAAAQS3l5ufLzEx+Wsrm52S1KAAAAxBLMFgMfYAUAAAAAADAEKEgAAAAAAICMoyABAAAAAAAyjoIEAAAAAADIOAoSAAAAAAAg4yhIAAAAAACAjKMgAQAAAAAAMo6CBAAAAAAAyDgKEgAAAAAAIOMoSAAAAAAAgIyjIAEAAAAAADKOggQAAAAAAMg4ChIAAAAAACDjKEgAAAAAAICMoyABAAAAAAAyjoIEAAAAAADIOAoSAAAAAAAg4yhIAAAAAACAjKMgAQAAAAAAMo6CBAAAAAAAyDgKEgAAAAAAIOMoSHhQT0+3DtS9pd7eXjsFCPD52tR4+JBtASFHjzSp5dhR2wKASGQL7+rs9OvggTrbgpeY3Hj40EHbgpccP96qI81NtpUaChIelJOTq7HjJ9gWEFJYUKjSMWNsCwgZXVKq4uLRtgUAkcgW3pWXN0rjWfeeVODkxrFjx9sWvMSse5MN04GChAfl5ORo9OgS918gXG5engoLi2wLCMnPL9Co/HzbAoBIZAvvys3NVWFRsW3BS/Kc3FhQWGhb8JJ8JxMWFBTYVmooSAAAAAAAgIyjIAEAAAAAADKOggQAAAAAAMg4ChIe1dPTY68BkfhsIBbzueDs+QAGwvbDm3p7e1j3HmVyAevem8y6703Tuqcg4UHd3d16a/8btgWEHG9t0aGGA7YFhJihnY4dPWJbABCJbOFdnf5Od8hXeI+vrU2HDpIbvcgMBd/UdNi2UpPT1NTU297ebpvwClPNNGdFBsIF94BzlnTEZD4ffDY8qby83D2jdqKam5tFtvAesoU3kR28i3XvXelY98FswVbDowgMiMX8qLBRQVx8NgAMgGzhTWQH72Lde1c61z1bDgAAAAAAkHEUJAAAAAAAQMZRkAAAAAAAABlHQcKDzElI2o4fty0gpKurS+3tPtsCQjo6OtTZ6bctAIhEtvCunp5u+dpY917k5kYfudGLOjs71ZGmk1dTkPAgcxZsM1RL8OyoQFCn30+gREwmbJqiBADEQrbwrq6ubrW0HLMteEmX80dp2/FW24KX+J1M2JamQiTDfgIAgAEx7CcAAEgnhv0EAAAAAAAnDQUJAAAAAACQcRQkAAAAAABAxlGQAAAAAAAAGUdBwoPMmbCbmxptCwjp6Gh3z5IORDve2iKfr822ACAS2cK7uro6daS5ybbgJWZ0tqNHjtgWvMQM+dnqZMN0oCDhUbk5Oc5/GZoLkXJycp2L+WwAkfhsABgM2cKrctg+eJWz2nNz+XPSi3qd/znffNtKDcN+AgCAATHsJwAASCeG/QQAAAAAACcNBQkAAAAAAJBxFCQAAAAAAEDGUZAAAAAAAAAZR0HCg7q7u3Wg7i319nImbERq97Wp8XCDbQEhZki3lpZjtgUAkcgW3tXZ6dfBA3W2BS9p9/l0+NBB24KXmOHgjzSnZ6hnChIeZIbnGTdhom0BIfkFhSodM862gJCS0jEqLh5tWwAQiWzhXXl5ozR+POvei/IL8jV27HjbgpcUFhWppGSMbaWGgoQHmbGizR8WjBmNaHl5eSosLLQtIMQMyzRq1CjbAoBIZAvvMsUo88cJvMcUowrIjZ40alS+8gsKbCs1FCQAAAAAAEDG5TQ1NfW2t7fbJrzgSAd1KABIp/GFPfZadiovL3d7ySSqublZZAtvIVsAQKRszwapCmYLChIedMiXp7/fVGFbAIBU/PCiRn2wwm9b2YmCBAZDtgCAkHlTOvTw/CbbQizBbEE5GwAAAAAAJMSMqNTTk54eIBQkPMgMzQUAAJAuZAsA8I6WY0fV3HTYtlJDQcKDzEgKAAAA6UK2AADvGDN2nCaWTbKt1FCQAAAAAAAACTFDPKdrmGcKEgAAAAAAIOMoSAAAAAAAgIyjIAEAAAAAADKOgoQHmWFaAAAA0oVsAQDe0dXVKX9Hh22lhoKEBxEaAABAOpEtAMA7Otrb1dZ23LZSQ0HCg3JzWe0AACB9yBYA4B0lpWM0fsJE20oNWw8AAAAAAJBxFCQAAAAAAEDGUZAAAAAAAAAZR0ECAAAAAABkHAUJD+rp6bHXAAAAUke2AADvaG/36Xhri22lhoIEAAAAAABISI7zP+U4lzSgIOFBDM0FAADSiWwBAN5RWFSkkpJS20oNWw8AAAAAAJBxFCQAAAAAAEDGUZAAAAAAAAAZR0ECAAAAAABkHAUJD+ru7rbXAAAAUke2AADvaG1tUXNTo22lhoKEB+Xl5dlrAAAAqSNbAIB3FBYWqaSUUTYAAAAAAEAG5efnq6Cg0LZSQ0ECAAAAAABkHAUJAAAAAACQcRQkAAAAAABAxlGQAAAAAAAACenp6XEv6TBiChI1a6ZoypTIy9oaOzOtarR2ylJtrLfNZNRv1NIB75vqY691HiF1DM2Fk2n5P0p/cy7hzLSmL4cumyrtjDA7wubv+Lid6Nzub2HTmz5npwNAAsgWZAuMLJuWh23znevO//tEZwlzedDOC4qZJQAkrbXlmJqbDttWakZUD4mF63eprq6u73JzjD9aTqrJS7ShboOWTLbtYYqhuXCymCBwz2m2EeYzJdLE79hLrTRvfliIsEUHOdODt5n7QmDW8ndJf3g5NP31iQQMAMkhW6QH2QJDztm+n/rn0Db/yeNOpgjbEfF3TpY4+mZovrl8yc4bKEsASN6YseNUVl5hW6nhkA0AGWGKESYIPNkUaIeb+0N7xXACwtYO6UO2sPDgLOc/TsCIFRzW/T9pcdiuvd86j33KWNsAAADZw8kB4VngS7uloxMje0EcPGavRBkoSwBIXk5Ojr2WuqwoSDRsWhrW3TK862GDNn4hrCvmFzY6U2JMH6irY83asNtN0dJNgUcIPsbaTaa7ozPPfezobpORz7N00347PSByuaO7iZrHCpv3Gzu5T+T80HIBw9PcJPZGnFooHbC9wD7khI3q/xe4PqBKqSrR2wLAIMgWZAsMc+XSuA7pT7Y5tcReiSHhLAEg40ZUQeK5ZbP7NpJ94aB+o+5YNkvVwe6W1Re4tw1ssGdr88WhrpjVF4emL59R3Te9rnqWllfGPoayZqvzA9Z3u5XOMjwVcbvVz0v3mnnfXaLITiv9n//Gvy3XajvXzN/2t0XaZeftWr9Qqx8JhhoTCKrME9v77tLU55frOXeeET2/WrOW3XFix48Cw4w5BvRMJ2BsMV+0SukU57rCjwuNOma073jSudK/hHfPBIAEkC2CyBYYWTa9RzrqfLjX2bZx5sxQXug7H1UCWQLAyTOCzyFxs/l9sXZrf3CDWVkZmF7zlPNDs073Lg5tyisXOxv2+m3a7Gz8q28J3VuVV2hd1Wq9EiM1VN4S9jyVF2hl+HM5Vt4QHRYs+zw3hj//LdXO/YMqtOSW0H0rPrxIC6v3m95kzrK/otVV63RF3xM7t/36Oi20rf7zK3XFemnzb9iTgZHNFCPMOSaedNJFX8AolJyI3HfMZ/Qxo4udG7rzdkj/nxMyOIcEgGSQLSyyBUYQszNinpMHzgjr9dCXB8zFno+qrygxSJYAcPKM/EM2zMmeahZpc2Vg70awa2LDm7ulGVP7b9Dr9uu5qqmKPK9ehabOcKLHmzE2uu4ZqIN7TqrC9kIMIubzRAnvslkZ2ksRd9ktd371cs3uW64pmr3sOT33NzdyDKq3t9deA4YPEy7usSe3jO7lEN7NMtYxoy7nu3+GE0DOfA97PQCkiGzhXsgWGHYqAyendE9uGX7+qWgvBM5Zdc67bNuRUJYAkJDOzk51dLTbVmqy46SW7hmoA90LVRUIDhWnzZL27LfdFMNMmRraWxBl1mlRm2kTGCr368a+PSfheyEGEet56vfL+f0LMIHhkal93SrrakJ7KWIuuwkh9qo7/9awbqHBS/iemQEQGjDcmGJEzHDhfJcP2qsAkFFki8CFbIHhwhQj5kvV30n8nFTuSS7JEkDa+f0d8rW12VZqRn5Bwtn4hk7YdJqmmv5YhukCWb1cd4SdkKlm00Y1TD5fi6pWq2pN353cx6i6f6UuiN7mRu+JMN0Z7dVBTZ6qWc6tHw5//qfj76lo+M3mvnmBwLFcT/UtYoM2PhL2zOa13V8V9rqTk5ubHXUoZImPS/Ocf56IEy7MyBlXh3WrNGfKHudMM70oNjnTw3tD7JjZ/3hSAEga2SJpZAsMteBIGfHOFbXpH+0Vw8kWV090MoTNFgNlCQDJKykp1fgJzpcsDUbU1iPyxFP27M/OBnZ3VXBa4ERPgTHEK3Wze0Km0H2q/mY20hVa8t1dWrenqm964BxO4ceNWub4T+fPnb7ui1uV+F6MGM//yrzQXpCKxTe6G/7gvDv+Nit0HKfbVXRd2Ou6Q7oh7DhP89gR881lgLN5A8NdoXRP8ERTwYsNDl/6ofSk829w+tXO9WBPCnNu+fD7neIElfDjSQFgMGSLILIFhr9xp4W2+cFL8NxRp4bPm+lkh7BDQAfKEgBOrpympqbe9vb0HP+BkeGQL09/vyneUaQAgGT88KJGfbDCb1vZqby8XPn5+bY1uObmZpEtvIVsAQAh86Z06OH5TbaFWILZgv51AAAAAAAg4yhIAAAAAACAjKMg4UE9PT32GgAAQOrIFgDgHe0+n463tthWaihIAAAAAACAxOQ4/89x/pMGFCQ8iKG5AABAOpEtAMA7ioqKNbqk1LZSw9YDAAAAAABkHAUJAAAAAACQcRQkAAAAAABAxlGQAAAAAAAAGUdBwoO6u7vtNQAAgNSRLQDAO8yQn81NjbaVGgoSHpSXl2evAQAApI5sAQDeUVhUpJLSMbaVGgoSAAAAAAAgIaNG5augoMC2UkNBAgAAAAAAZBwFCQAAAAAAkHEUJAAAAAAAQMZRkAAAAAAAAAnp7e1Vb0+PbaWGgoQHMTQXAABIJ7IFAHhHy7Gjamo6bFupoSDhQQzNBQAA0olsAQDeMWbsOE0sm2RbqaEgAQAAAAAAEpKTk+Ne0oGCBAAAAAAAyDgKEgAAAAAAIOMoSAAAAAAAgIyjIOFBZpgWAACAdCFbAIB3dHb61dHeblupoSDhQYQGAACQTmQLAPAOf0eHfL4220oNBQkPys1ltQMAgPQhWwCAd5SUjtH4CRNtKzVsPQAAAAAAQMblNDU19ban6fgPjAyHfHk61E4tCgDS5X0TOu217FReXq78/HzbGlxzc7PIFt5CtgCASNmeDVIVzBYUJAAAwIAoSAAAgHQKZgtK2QAAAAAAIOMoSHhQT0+PmhoPc0Zs9NPR0aFjR4/YFhByvLVFvrb0nE0ZQPYhW3hXV2enjjQ32Ra8xIy0QG70pvZ2n1qdbJgOFCQ8Kjcnx14DQnKcz0UOZ0pHDDk5uZxFH8CAyBbeZLID2wdvysl1ciPfe09y1rzzm5+e7z3nkAAAAAPiHBIAACCdOIcEAAAAAAA4aShIAAAAAACAjKMgAQAAAAAAMo6CBAAAAAAAyDgKEh7U3d2t+rffZGgu9ONrO67DhxpsCwgxQ7q1thyzLQCIRLbwrk6/XwcP1NkWvMQMB05u9KbWlhY1Nx22rdRQkPCgvLw8TSgrty0gpKCwSGPGjrUtIKSkpFRFRcW2BQCRyBbelTdqlMaNm2Bb8JKCwgInN46zLXhJUXGxSkvT8zcDBQmPMn9YMG4woplAWVhYZFtASH5BgUYlMewjAO8hW3hTbm6u+8cJvCcvb5STGwttC14yatQoNxumAwUJAAAAAACQcRQkAAAAAABAxlGQAAAAAAAAGUdBwoPMGbDN2bA5Ezaimc9ET0+PbQEh5nPBZwNAPGQL7wque3hPIDey7r0onbmQgoQHmQ/P22/u48RT6KfteKsONRywLSDEDPvZcuyobQFAJLKFd7nDfta/bVvwEjPs56GDB20LXmKGgk/XsJ85TU1Nve3t7bYJbzB7LwgMiM1UuwmUiOZ+LswVPhueVF5ervwkRllpbm4W2cJryBaeZnrGsH3wJHKjN5n1bqSy7oPZgh4SnsSPBuJjo4JY3M8Fnw0AcfH74GlsHzyL3OhNZr2na91TkAAAAAAAABnHIRte1NqsnJeesA0A2aj33CVS+Wm2BaSGQzYwKLIFMOKQFXAyBbMFBQkvckKDHrzWNgBkpRseJGQgbShIYFBkC2DkISvgJOIcEh4WPAkJACSqw/nj0u/vsC0AiES2ALynu7tL7e0+24KXdHZ2yt+RnlxIQcKDenvTM2YsAO/o6DAFCb9tAUAksgXgPV2dXWprbbUteInZSeXztdlWaihIeFBubp69BgCJGTtuvEpLx9gWAEQiWwDeU1hUpInlk2wLXlJSUqpx4yfYVmooSAAAAAAAgIyjIAEAAAAAADJu0FE2Wv/4rJ7+70bbGsyZWnTdfE22LQxTnAkbyH6cORtplO5RNsgWWYhsAYw8ZAWcRAkP+9n4/G265Nuv2tZgLtf6rcs107YwTBEagOxHyEAapbsgQbbIQmQLYOQhK+AkSrggId+remDxbXr9hie1/tJpdiJGsp5jjcp9aKltAchKaQ4Zra0tysvLU3HxaDsFXpLuggTZIvuQLYARKMWsYEZaaPf53BNfw1vafW3q6upS6Zixdkrygtli8HNIFJ+rZWtv15wjr6mWUV2yBGOFA0hObm6ucnJybAtIEdkiC5EtAK/JMf8jG3hSjsmFziUdEnqUghmLtPS6RZpZaidgRGNoLgDJGj26REVFxbYFpI5skV3IFoD35BcUaMzYcbYFLyksLHKH/kwHRtkAAAAAAAAZR0ECAAAAAABkHAUJAAAAAACQcRQkAAAAAABAxlGQ8KDu7m57DQASc6S5SS0tx2wLACKRLQDv8bW16fChg7YFLzne2qKmxsO2lRoKEh6Ul6YhWgB4R0lpKaNsAIiLbAF4jxllY+zY8bYFLyl0MuGYsWNtKzU5TU1Nve3t7baZmMY9W7R12xtqtO2QM7XouvmabFsYplqbpQevtQ0AWemGB6Xy02wDSE15ebny8/Nta3DNzc0iW3gM2QIYecgKOImC2SLJgoRftd+7Vsse22fb0S7X+q3LNdO2MEwRGoDsR8hAGg1tQYJskRXIFsDIQ1bASRTMFsn1r2t9Vc86gWHuTd/X5pee1z0XSUvue1EvO9fXXDFN0274GIEBAAAkjmwBAIBnJVeQOLBPtTpX8y6crtK8UpVVSPXNLZJzfc6iS1TwxK+d+QAAAAkiWwAA4FnJFSRKyzRZh+X32bajsa01cMXfqlZfvRptE8NXb2+vvQYAienp6XEvQNqRLbIC2QLwHvO9Z4Qdb+rtTV8uTK4gMelMzTl1rzbvCBznOe3M+dr7yDd0z0OP6r4HHlP9zLM0vdSdhWGMPyoAJMsd9vPYUdsC0ohskRXIFoD3uMN+NjDspxe1HDum5qaTMexn3nRdtur7uufSaW6z9O+X656PF2jHTx/Xy92f1G23fpKzYI8AuQzNBSBJEyeWaew4hvbCECBbZAWyBeA9xaNHq+JUfqG9yGTCsvIK20rNCQ37iRGOM2ED2Y8zZyONMjHsJ0Y4sgUw8pAVcBKd2CgbQd1+tR5tjXHx2xsAAAAkgWwBAIDnJN1Dwr/naa28dZ12xjyUmLHCRwT2YgDZj70eSKOh7iFBtsgCZAtg5CEr4CQKZovkChL+Gj1QtUKbp1+jlZ+bo4l2cki5zvzANHHuqWGO0ABkP0IG0mhICxJki+xAtgBGHrICTqITO2Rjf612+CbrmhXX66MfqNScfhcCw0jA0FwAkuXv6FCnn67zGAJki6xAtgC8p6urS+2+sDGb4RmdnX51dKTnXFHJFSROnaaZTiwoLbDtIVejtVOmaErfZa0zZTAN2viFKVrb74aB6VPWDPAI9Ru1dMpSbay37RNUs8Z5ni9sdJ4xQ2rWJvV8vQzNlVVKvrRFk/91R+By30MqsdNdVz0dmudcJl1lp7vu0KSweeZyypeutPOASD5fm/z+DtsC0ohskRCyBYaSyRL9M0BkTgjN758fgpfInIFs19XVqba2VtuCl5idVOkqRiVXkCiu1ILFTfrJz19V41CfeMrdgD+sqTV1qquzl+qp2n+CG/SGTXdo/w3OY9xSaafEMHmJNtRt0JJURq9xlvvhPSu1Upu1LcXwMVRy8/LsNYx0JkCMfeefdOz/zFW9czn21t9p7FfvsHOvVNkZh/vm1T/7O+XO3aKyC+3sC6c4PwBvqC0437kcfPDHdiYQadz4CSopHWNbQBqRLQZHtsCQCRQXxk6P/n13MsR9n1Lu3gdtRvi5eqZ/yRYc7tWhsOzgXna8Ifl+p7YfuXeGRxQVFWti2STbgpeMLil1s2E6JFeQaHpZGzc1qv6nt+mSqou1qN/lUdXam6asbr+eq1qk88M34JVLTnCD3qA3T7tXNw+QF9Kl4TebpYuv0BUXS8ufHnyfC3DirlTRO8eo6w836bidcvzBl9R1yoW26PBjNX4zNE8v3aT2g2M0albYHhDfYXXZqwBwUpAtBkW2wNAwxYhPSTvmqu2gndTndOUWt6hrd3BHxb3yO7fJLYvVk/JKlZ1zekQeAYBEJVeQGDdH13znAa2Je/mkptmbpmzKVC2sHmBPgOlKGNblcummeJ0KTdfM2aqqmh24bV/3Q9v9cpPZWxKcbm4b3q3SdsXse57Bulw2aNvz0qIPV6jiw4u08P5XIrqBNmxa6nbrdLtd2scMLXf0czsiuktGL0siXUzhPW+oxzdGuVNsM8KVGjVW6mm04WJKeZI/AAAwBMgWZAucJIGeDodi9mowBYgxKjg/2OvyDhWcEl6gCHPVp1QgekcAODHJ/T1SMFkzY55wKnhJ44mnTBfH6llaXulsIPs2nCE1W6Xqvu6WK/Xcsqdib0RrXjE3tF0zq7WyermeCrvhamcjf6+Z990lqrDTAsxGeraWz6i29zXPY5ZngI11/TZtlt3zMvl8LaparVeib3x/lV6ZF3w8s9x3DBJELOex91+8yy7LLq1zHvvhuEEJ3vBjtb/VolHnhJ03woSCYns9mjvvDfnDA0PxBzQ2eOxn36EeAJBBZAuyBYalo9+cqzZ9yp4f4kL1PLtAjS/ZmX3oHQEgNckVJPz1qv1djXbGvexTWk9rUnmzu5HcdfFmzY6o+DuzbrlZfb0kKy/QSu2OfQyo8xih7pSVuuBWafebocdZeUN0WLBMAHA26tXhx4VWXuFurPsFAavm6eXSxefbx6vQ+Rcv1OqtUTe+tTq0PO7jPaf9dbY9ECdE3bw4uKSBx37ub2/aNrzq+IML1HYsrKhwxmH5Y51fxpzccm6Z/M9err5h/n90edjxnw/KP9YJHRQlAGQa2YJsgWHInENihwr+FswJP3A+hzFOfn3heRpF7wgAKUiuIHF0px7/8grdEvfyC+2zN02nisUbnPBQrVnLZofOcO2emCrYxbBKq+3k/iK7I1bdbycPxj3OdKoiR+at0NQZkaEjpEavOI/9nLOMweeavew56f6HE9tLkYDw7pjuY5+gHs6EnVXMHoy+wsI369xjPnvCgui4r+7Q5HPMyS1j7dkI+rEan/+dek45W+PsFCDc8dYWhvbC0CBbkC0w/PQ7DCOQE/TO8yJG8yqZ9XfSW9vpHeFRZtjHo0eabQteYjJha8sx20pNcgWJiQt0Z/Xz2hx9eebftHSmNPPGj2m6vWn6he2BMIGhcr9udLsYmku1VtpbRQp0jXTPgG1vW+08RkLc40z3K9Z+glmnxdjvUfOKVlet066+ZQo+33Pa/JtYISM5JjA8fEawW2Wddq1faOckL8f+iyx01dka5fuT2m3hwRQjio49qPrbEuxKyUkuEUduLmccwRAhW7jIFhh5zMm1Ffu8EvCEnJwcJx8wwo4XBdZ9erJhco+SV6DScaX9L5Nm6rLPXqLaH/5ae+1NU1azNmq878BeAneDHb2HwWyw7dVIb2p/9UJN7TvBX+AxEmKP06wKH1vcWaaq+1fqgrCelkE1W1drYV+XypDKeSv13PPbnPgymNM0tSo8YNRorfP8AQ3avyc8rJgTXJ34Xowc/rDIUndo0tyw4zgvfEhFp7yh9jhDeZZ86aGw3hBXquziD7CXA3EVjy5RUXG8E5QAKSBbkC0w/Pzoj+oq/oBGu8N8GjFygjlco7hRXXF7XyLbFRQUaszYsbYFLyksKnKH/kyHtG09/McbJV+9GtN1oOeUqdpdFepGaLpOmhNIucdImuMjtdw99tOdt1Vx9mJU6or1Cpy8yr3tK1KiezGczf+S7+7Suj1V9r7OxV2EsONLg8z44PcvdM+A3Y85BjXqZFexOc/39XVSX7fMV3RBdfBVOfNuWKnVfe/HHdo/48T3YiCLmHNDBM8fYYfuijxb9uka3TffXu4LngTz78LmfUmj3npQB+MULwDgZCBbkC1wspgROH4uzQ3lhIJjP4/MCWa0roN/DJ2bCgBOQE5TU1Nve3u7bQ7CnHjqj3XqsM0g/6EdevyBp1V7zu169r5FKrPTMUy1NksPXmsbALLSDQ9K5ZFHqgMnqry8XPn5+bY1uObmZpEtPIZsAYw8ZAWcRMFskVxB4tBmrbx0lXbYZrjSmZfrzm8u11wSw/BHaACyHyEDaTSkBQmyRXYgWwAjD1kBJ9GJFSS6/Wpt9dtGSEFpqQo4n8nIQWgAsh8hA2k0pAUJskV2IFsAIw9ZASdRMFuk5aSWBIaRpbu7214DgMQ0NzWmbXgnIALZIiuQLQDv8fnadPjQQduCl7S2tLjZMB3SdlLLxudv0/x561Rr2xi+GL4PQLJKx4xVURGjbCCzyBYjB9kC8B4zysbYseNtC15SXFysktIxtpWaQQ/ZaHxplVY+9bptxeev36t9xddrw0+vGcLxwpEWdKsEsh/dMJFG6T5kg2yRhcgWwMhDVsBJdGKHbAyg4JzLdeeqywkMAAAgLcgWAABkt+ROaonswF4MIPux1wNpNKQntUR2IFsAIw9ZASdR2ntIAAAAAAAAJCr5gkR3q/a+uE53Xn2x5s/7iHO5SJfcdLd+8rv0nGUTQ6+3t9deA4DE9PR0O5ce2wLSjGwx4pEtAO8xuYARdrzJrPueNK37JAsSftU+8kUt/cYv1PjeT+ozn73GuVyueaU7teHLn9bK5+vt7TCc8UcFgGQdaW5Wy7GjtgWkE9kiG5AtAO9p9/l0uIFhP73IDAXf3JyenQbJnUOicYtWLlml0rt+qjsvKrMTA2q/92kt++kCrX/hes200zBMcZwnkP2G4LhQswc0JyfHtuAlQ3oOCbJFdiBbACNPGrIC2cCbgr3iUln3J3YOiQNvaKcqNefsyMBgzHz/fMm3V/X0rgSArETgwJAgWwDAiEU28Caz3tO17pMrSEw7U/P0qra+tE9+O8nV3ahfPf+sdOpZmtY/TwAAAMRGtgAAwLOSHvaz/vnbdM23X5UmTe8LCP76vdp3dJoue+j7WnZ2QWAihi+6VQLZj6G8kEZDPewn2SILkC2AkYesgJPohIf9nHzxfdr4yNe09PwpdspYTf/4LVrzzJMEBgAAkDSyBQAA3pR0DwmMfL0tTcr51+tsC0BWSvNej46OduXm5io/nz8OvWioe0hg5CNbACNQilmhu6tLnZ2dKioutlPgFWa9m2E/C4uK7JTkJd9Dwl+vvbX1kcd3Gmb6/lbbwEjQy9BcAJJk/rj0+/ttAYDUkC2yBtkC8B7zR2lb23Hbgpf4/R1ONvTZVmoSKkj49zyuZVWf1tLHdqrFTutzdKc2XH2xFt21RfXddhqGtdy8PHsNABIzbtx4lZSU2haQOrJFdiFbAN5jekZMLCu3LXiJyYTjxk+wrdQMXpDwvar1Nz+qvdOv0ZovL1C/E11PnK9ld12ispfu1sqn9tqJAAAAcZAtAACAY9CCROuOLdroO1cr7rpec06NcexwXqmmXXSL7rxusvY98WvV2skAAACxkC0AAIAxaEGio90cwzlNp08KtOOZNn2O5Nur+kY7AQAAIAayBQAAMAY/ZMO9Rb3qj7qtuOrrX3f+O02T+/W7BAAACEO2AAAAjkELEmVz5muuXtbj6+OfWKr1z89q/SN7VXDpXE230zB89XAmbABJOt7aIp+vzbaA1JAtsg/ZAvAef0eHjh5pti14icmELS3HbCs1OU1NTb2DjRVe/8JXtfRbL2vAAbimXq71jy7XTIahHfZ6jjUq96GltgUgK6U4tni0tuPHlZuXq6IifuS9KDhWeKKam5vdoWIHQrbILmQLYARKMSt0+v1q72jXmDFj7RR4RYez3ru7ujW6pMROSV4wWyRUkHAdqtXmX21XfYwdZGXv/ZgWfHiaShnxaWRobZYevNY2AGSlNBck4G1DUZBwkS2yB9kCGHnICjiJki9IIHuY0PDS47YBICudewkhA2kzZAUJZA+yBTDykBVwElGQAAAACaEgAQAA0imYLQYfZQMAAAAAACDNKEgAAAAAAICMoyDhQT3d3ap/+0319vbaKUCAr61NhxsO2hYQcqS5KW3DOwHIPmQL7/L7/TpYX2db8BJyo3e1OpmwuemwbaWGgoQH5eTmakJZuW0BIQWFhRo7brxtASElJaUqLh5tWwAQiWzhXaNG5Wn8xIm2BS8pKCzQ2PHkRi8qcjJhaWl6hnulIOFBOTk5Kioqdv8FwuXl5blFCSBafkGBEzpH2RYARCJbeFdubp4KC4tsC16SlzdKBQXkRi8ymdBkw3SgIAEAAAAAADKOggQAAAAAAMg4ChIAAAAAACDjKEh4kDkDdnd3t20BIT09Pe6Z0oFo5rPB7waAeMgW3mXWfU8P696L+N57l/l7wWTDdKAg4UHmw/P2m/tsCwjxtR3XoUMM34T+zLCfZognAIiFbOFdnX6/DtS9bVvwEob99K7W1pa0DfuZ09TU1Nve3m6b8ApT0eRM2IjJ+Ww4Hw7bAAL4zfC28vJy5efn29bgmpubRbbwHn4nvIn1DnhTqt/9YLagh4RHseFAXHw2EAO/GQAGw++EN7HeAW9K13efggQAAAAAAMg4ChIAAAAAACDjKEgAAAAAAICMoyDhQeYEJMePt9oWENLV2al2n8+2gBB/R4d7JnUAiIVs4V1m2Me248dtC17S1WVyY5ttwUtMJuxI08mrKUh4kBma63hLixMe0jN2LLJHV3eXO/QnEK293Se/v8O2ACAS2cK7erq7dfx4i23BS7o6u9TWRkHCizo7O9XRkZ6CBMN+AgCAATHsJwAASCeG/QQAAAAAACcNPSQ86FBjhw430fUaw9N7p4+11wAMF/SQwGDIFhhuyBPA8BbMFhQkPMiEhgsXv2RbwPBRkJ+rnf/5MdsCMFxQkMBgyBYYTq68dJruWPFe2wIwHHHIBgAAAAAAOGkoSHhQbw9nwAaQnOOtrfJxJm0AcZAtAO8xoywcPdJsW/ASkwlbjh21rdRQkPCgXvsvACQqJzdHOTk5tgUAkcgWgPfk5OQqLy/PtuAlubm5yk3Tuqcg4UHmAwQAyRg9ukRFxcW2BQCRyBaA9xQUFKh0DCcP9aLCoiKVlJTaVmrYegAAAAAAgIyjIAEAAAAAADKOggQAAAAAAMg4ChIAAAAAACDjKEh4UHdXl70GAIk5eqQpbcM7Acg+ZAvAe8zQj4caDtoWvKS1pUVNjYdtKzUUJDwoXUO0APCO0SWlKi4ebVsAEIlsAXhPQWGhxo0fb1vwkuLiYo0Zm54RVihIeFBOTo69BgCJyc8v0Kj8fNsCgEhkC8B78vLyVFBQaFvwkrxRo9xsmA4UJAAAAAAAQMZRkAAAAAAAABlHQQIAAAAAAGQcBQkP6u3ttdcAIDE9PT3uBQBiIVsA3mO+993djLDjRenMhRQkPIg/KgAk60gzw34CiI9sAXiPGfbzcEODbcFLWluOqbmJYT9xgswZcQEgGRPLyjV2HEN7AYiNbAF4z+iSEp0yeYptwUvGjB2nsvIK20oNBQkAQEIY1g8AAADpzIQUJAAAAAAAQMZRkAAAAAAAABlHQQIAAAAAAGQcBQkP6uVM2ACS1NHRrs5Ov20BQCSyBeA9XV1d8vnabAte4vf71d7us63UUJDwoB7GCgeQpI72dnV0dNgWAEQiWwDe09XV6Q79Ce8xO6lMNkwHChIexNBcAJJlhvwsLR1jWwAQiWwBeE9RUbE7LDi8p6SkVOPGT7Ct1FCQAAAAAAAAGUdBAgAAAAAAZBwFCQAAAAAAkHEUJAAAAAAAQMaN/IJE/UYtnTJFU8IvX9ioBjt7KDRsWqopa2ps68TUrIlaZvt47mMnsPzu/YPLULM2qdfc28vQXMlY/uRVavzz5wOXnZ/Q8ljT/3yVNn3eznCdpU07g/M+r78+eZadDoxMx1tbGNoL3kG2IFsMpc9/Qn8NyxOuVUvCMsXn9eoqO91a+0JoXuML59upwMllhgQ/eqTZtuAlJhO2thyzrdRkSQ+Jlaquq1Nd8PLdJaqwc2JJx0b/xNVorRMSqlQdWl7nUq1XnDlSxeINgy6/UXmLc79bKm0rOYzMlTgTAO5+X6O+9p4fqMxc5vxS69w55+vqSW8EppnLz9r0ka8s0Vp3nrnfB/WRQ6/b+a/r4NwP9gsXwEiSm5unnJwc2wK8gGyRDLJFYtzCwlcma5xtB5ylTe/3hbLGt+p1yj+EdnSY+1ytYKb4gZ7UmezowLBgcgEj7HhTbm6ue0kHDtnIqAZt/EKVdq/f1W+DX3nLzTqxCJC8dH14st7nP6Gqdx/Rk31FiHDbdO7Ht9nrjtv36r+OjdeH3KLD+frQu/36r6eD87fpyR1+nfl+9mhg5CoePdod3gvAcEO2GCn6Cgs/O2KnBL2mxR8Pyxo/+KWq/1Kgsy8yRYfoTCHd/HS9NHd6304Q4GQpKChU6ZixtgUvKSws0uiSUttKTXZvPaK6XK6tCXRHnL3sOen+qr5phrtnI+q2fUy3xb55a50/L6NEzHcu8faQ1G/T5uqVunHxAPso+rpImoARtRxh007unhhvWH5RmbRjr2627YGN0ylj/Tr4J+fqqgqdeaxRW34QmGOse7FRR99dQXgAgJGObIETdPPHf6Cy8J0ZcZ2laZOkg2+9ZttRftCigxqtaRGHigLAyJQlBYnVqgrbaC/dZI54dDawX1+uWdXBrovVusCZaroj7lq/ULo10K3xZnfXQYO2/W2Rdtkujmb+6kfscZNmI16lULfNmqnabEJHkDt/t9bVBJ9nl9btqbLLEKVuv56rmqrTbHNgFTr/Ymc5toYFg5qntFzrdEWmdnd43JmTCpwwME6vDnBMZ9DyJ0/vV4QAAIxkZAucJKum6yNjj+i3t5vGNv32LwX6yOWhXpZu5rDXAWCky5KCRORxnhvC9hLsfjO48a5UZdyNbYWW3BI6trLiw4u0sHq/3nSu12xdrYXrrwh1eZy8RPea0GEF5t+rJZPtBPNYN6zUc89vC4SOFLjLcX/g+E/Dfa6Lz+9bTgy9M/+hQr+Nc0xnkDm55d1z2+Ic2gEAGJnIFjgJzMkt/2G0/utbG/t6aN788f/Wf006s2/nyD+pUa/beQAw0mXxIRvOxvu7u7To+dkDd3UMMnsjgntCKpcrsJ+iQfv3SLNOi7eZjjN/ytS+0BEh3vR4nIBy462r9Yq76DV65f5BumQi7Y6GH7IRcUynERhJ42735Jah4BDXMR8BAgBGNLIFho57wsuPmZNb/kiLI3pcvqbFc+zOEefyrhelU9SmffTKBJAFsvwMRCY4BPZsVKsqfnAwgeGRqX3dKutq1imwn6JCU2eE7wkJePNvwW6Vsee7YnWfnHy+FlUFQ0BiKuetDHStrHlFq2+9IC0np+ru7rLXMJDXD/nttVhMMeKDOuU/YhwP+iefjo4tjuhOac5HMe5QCz0oMGIdaW5SS5qGdwJGNrJFLGSL1JhiRNWh/w4bzSs+N1P8pSHBc1wBQ6et7bgONRywLXiJGfKzuanRtlKTxQWJGq0NCwmnnRHqChmt4c3d0oypTgSw7d9stnsxAvd7btlTfV0bzcmsHr7fXneYjfpzy+7Qxno7QYHjSxWz+2Ogy+XqquCxqCE1a9aGniNc5QVaef8rWrt1tVbOS0dkcFZ6LsPzJMKciFJzzwkdouGOuuHXH198LXB8p+r1pHt8ZxS3J8V4Xd03Tvj5unpugV7/fSInsgKGp5LSMSouHm1bgFeRLeIhW6TAjupVfXWck1iGc277T3MVMeoGcLKYkRbGjZ9oW/CSIicTmmyYDll5UktztuoanaapewJnuzaX2c8v0i47HFbF4hudDXHoTNjhbXO542+z7F4MM2+Ddq3fHXr8r0s3hh3nqcqbVVc9S8sr7fwps7X54l0Rx5pGMLevq9asZba7p708fEbYsaQRKnXBrau1ek/6TjhlxgxGAn7wS73rW406+yv2pJZfKdMfvxXWjXLsZN1tj+fsu9giROTxnmdKP/uBzo1VvABGiPz8fI0aNcq2AC8gWySDbJGq8bo6OlPs/ISWO3PMuar6pkVnEeAkysvLU0FBgW3BS0wmTNe6z2lqauptb2+3TXjBocYOXbj4JdsCho+C/Fzt/M+P2RaA4aK8vNwtSiWqublZZAtvIVtgOLny0mm6Y8V7bQvAcBTMFll+DgkAAAAAADAcUZAAAAAAAAAZR0HCk3rtvwCQmJ7ubvX29NgWAEQjWwBeY3JBdxcj7HiRyYXmkg4UJDyou5s/KgAk58iRJh07dtS2ACAS2QLwHp/Pp8OHYgxRjKzX2trCsJ84ceaMuACQjIllkzRu/ATbAoBIZAvAe0aXlOiUyVNsC14ydtx4lU2KM/JTkihIAAAAAACAjKMgAQAAAAAAMo6CBAAAAAAAyDgKEgAAAAAAIOMoSHhQby9nwgaQnI6OdnX6/bYFAJHIFoD3dHV2yudrsy14icmE7T6fbaWGgoQH9TJUOIAk+Ts65Pd32BYARCJbAN7T1dWl9jYKEl7U2dmp9nYKEjhBubmsdgDJGTN2nEpKx9gWAEQiWwDeU1RcrAll5bYFLzFDvo6fMNG2UsPWAwAAAAAAZBwFCQAAAAAAkHEUJAAAAAAAQMZRkAAAAAAAABlHQcKDGJoLQLJaW1vk40zaAOIgWwDeY0bgOnqk2bbgJSYTtrQcs63UUJDwIIbmApCsvLw8zqIPIC6yBeA9OTk5Tj4YZVvwEpML83LzbCs1pEsP4o8KAMkqLh6twqIi2wKASGQLwHvyCwpUOoYhwb2ooLDQHfozHdh6AAAAAACAjKMgAQAAAAAAMo6CBAAAAAAAyDgKEgAAAAAAIOMoSHhQd3eXvQYAiTnS3KSWY0dtCwAikS0A7zFDPx5qOGBb8JLWlmNqbjpsW6mhIOFBDM8DIFmlpWM0enR6zqYMIPuQLQDvKSwq1PjxE20LXmJGXystHWtbqaEgAQAY1Kj8fOWN4g8OAAAQkJub5w79Ce8xmTBd6z6nqampt7293TbhBc1H/fYaMPxMGMeGDRhuysvLlZ+fb1uDa25uFtnCW8gWGG7IE8DwFswWFCQAAMCAKEgAAIB0CmYLDtkAAAAAAAAZR0HCo7q6OBs2+uvp6eFM6Yipu7vb/XwAQDxkC+9i3XtTb2+vmw/gPYG/GdKz7ilIeJD58NS9td+2gBCfr02Nhw7ZFhBihv08dvSIbQFAJLKFd3V0tOtg/du2BS/xtR3X4UMHbQteks5hPzmHBAAAGBDnkAAAAOnEOSQAAAAAAMBJQ0ECAAAAAABkHAUJAAAAAACQcRQkAAAAAABAxlGQ8CAzRM/x4622BYR0dXa6I20A0Tra2+X3d9gWAEQiW3iXGWGljXXvSV1dTm5sIzd6kcmE7T6fbaWGgoQHuaGhpcX9FwhnxhFP148LsovZ8Pj9ftsCgEhkC+/q6elWW9tx24KXdHd1q72dgoQXdTt/M5ghf9OBYT8BAMCAGPYTAACkE8N+AgAAAACAk4aCBAAAAAAAyDgKEgAAAAAAIOMoSAAAAAAAgIyjIOFB5gzYTYcPcSZs9GPOlnv0SLNtASGtLS2cRR1AXGQL7zIjdDU1HrYteInJjUeam2wLXuLztanl2FHbSg0FCQ8yYSFv1CjbAkJyc3KVl5dnW0DIqFF5ys1lkwEgNrKFd+XkKKlReJA9cpzcOIp170kmE6brN59hPwEAwIAY9hMAAKQTw34CAAAAAICThoIEAAAAAADIOAoSAAAAAAAg4yhIAAAAAACAjKMg4UHd3d2qe2s/Q3OhHzOs4+GGg7YFhBxpatSxNA3vBCD7kC28y+/362D927YFL/G1tenQwQO2BS9pbTmWtuF+KUh4kBnWsWxShXLMOE1AmKLCIo0bP8G2gJDSseM0enSJbQFAJLKFd40aNUrjJ5bbFrykoLBQ4ydMtC14SbGTCceMHWtbqaEg4VGFzh+eQLRcJ1DmFxTYFhBiAqe5AEA8ZAtvys3NddZ9oW3BS0whktzoTe66z0/PuqcgAQAAAAAAMo6CBAAAAAAAyDgKEgAAAAAAIOMoSHiQOQN2V1eXbQEhPT096unuti0gxJxBv9f5fABALGQL72Lde5fJjSYfwHvSue4pSHiQ+QDVv/2mbQEhPjPs56EG2wJCGPYTwEDIFt7l93cw7KdH+XxtOtTAsJ9elM5hP3Oampp629vbbRMAACBSeXm58vPzbWtwzc3NIlsAAIB4gtmCHhIAAAAAACDjKEgAAAAAAICMoyABAAAAAAAyjoIEAAAAAADIOAoSHmSGZ2ptbbEtIMQM2+Vra7MtIKS93adOv9+2ACAS2cK7zNB/bcdbbQte0tnZqXYfudGLTCY02TAdKEh4kAkNba2t7r9AuO6urrT9uCC7+Ds63KHdACAWsoV39fR0q42dGZ7U3d0ln4/c6EWmGNWRptG0GPYTAAAMiGE/AQBAOjHsJwAAAAAAOGkoSAAAAAAAgIyjIAEAAAAAADKOggQAAAAAAMg4ChIAAAAAACDjKEgAAAAAAICMoyDhOTVaO2WKptjL2ho7GR4Que7NZemmBjvPUbM2bN5a59bh+Nxkq4ZNSyM/B66B1neDNn4hNC/6vubxgvOmfGGjc2sA2Y9thBeke3uB4S4qN66J+mKTG7NX/UYtDVt/Q73uKUh4itkwVGn3+l2qq6tTXc067a5aqo31djayW/1+7dZKVZt1by8bFlfYec4PT9VurasJTN+1freq+v6Y5HOTnQIbjNnLnrPtoIHXd82a2Vo+o9p+hqo1a9ns0MbG2UDNXjar7zNWPWO5ZkdvxABkGbYR2W8IthcY9ho2vaKpNhfW1e3Suj1VoaISuTGrNfxmvxb1rftqrby/KvTdPYF1/9Jhd2ZcFCS8pH6bNlev1I3BP0InL9GNtz6nzb+hYu0ZVVN1mr0aruE3m/XcrTdqyeRAu2LxjVpZvVnbzMaDz00WMuGySqquU/WtdlLQgOu7Rq/cv1DrLq8MzFOlrli/UKu3BrZSNVtXa+H6K5ypAZWXr9PC+19x7gUga7GNyHJDs73A8Fex+Oa+XOi0tOSGlXru+W3uH57kxuwWue4rdYHz3d/9ZmD9nci63/Zac6AdBwUJDwl8gC7o+2PBqJwX+nFBlqvbr+h9GwEN2vb8c1o5L+KT4fz4BDYefG6yUaVurqvTzeEr1Rpwfde8otVVi3R+30bK2RB9eJEtOgTC56IP242QMfl8LaparVfIn0DWYhuR7YZie4GRqOHN3dKMqaogN3pL/UY9fH+wyHBi637b9l22FRsFCcBLqpdrdvC4LrrSAwAAYFA1empZ9B+iyF7m0Av798LXpXvrbo4oMqQbBQnAKypvtseCmUvgWECKEgAAAIgvcNiOOS9ArJ4yyEYVWvJd+zfD16U7pgztiUkpSMB2v4K3OD80Xx/8+P5Zpw3wyeBz4y0Dre845yYJWKipU+xVAN7BNsK7Tnh7gWHHHU3hYffkln0nQh8AuTELTV6iDdUrtfqRgUdOG3Ddn3GqvRIbBQkPqThtlrRnf8SHyT0J3RlsGjzLDQYVmjojdLKagMD5AMwfknxuvGXA9T1lqhZW79ebdrrhHi/ohozTNLXqOe2vszMM9+RGszQ17BhiANmFbYR3nfj2AiOCKUY8MlW76jaEneDQIDd614mt+/MnU5BAUOUVWqfluiNsyJ6Ho09Ch6zVsGljWG+IBm38+nLp4vPdYGBGQ9CyO/qGZGrY9HDoZFR8brxloPXtni15tar6DvUJP6Y0cAbu1VWh8ahrnl7e7+RGALIM2wjvOuHtBYY/Jyc+slorb1gSs4BEbsxmzrpfE94bokZrq1ZrYQp/M5x/1oRAO46cpqam3vb2dttE9gscB7bavb5Q62qiq57IVg2blkaMIb5w/a7I7nemEu784Liq1mnXd8M3QnxuslXNmil6+Iyoz8KA69uc6Gi2llcHWiurI8++HvE5u7VadbcQPrNBeXm58vPzbWtwzc3NIlt4CdsIL0j39gLDWeS6Cwlbx+TGrGW+61X324ZjqP5mCGYLChIAAGBAFCQAAEA6BbMFh2wAAAAAAICMoyABAAAAAAAyjoIEAAAAAADIOAoSAAAAAAAg4yhIAAAAAACAjKMgAQAAAAAAMo6CBAAAAAAAyDgKEgAAAAAAIOMoSAAAAAAAgIyjIAGgv6P7VPvis9rwvae1efteNXbb6UOs9a812llbL79tD8hfr9rf1WjfUdt2lnlneHsI+Q/UOs9Vq/qEFhQAAO9p3V+rX216VBue2qwdexrt1CEQnQeGUGRO8au+NonckpJW7XNe486/tto2kD0oSACIUP/CV7Wo6mot+8YaPfHYOt13+7W6ZOEX9cSe8M1tYMNYeyCNm+Duvdp4+wrd8uWn9VoiD3t0px7/8gpt3mfb+37h3DesPYRafv+Y81yPaWfaw48NNwQOAMBI1V2vX911sRZd/UXd853H9cTDq7TyhsVacNPj2uuzt3GlKUtE54EhtO8FJ6c8tlMtbqtFOx8Lbw+lfdrsvMZbXhiCF+nu0GEnC04eChIAQv78uFZ+62WVXXqfnn3pv/TyVufyzH1aMqlWG775tPb29ZQIbBgf/30aN8F7X9XmA86/vme1edsJ/EF+9nJ3eZedbdsjkg03QxE4AADIgL1P3ap7XirTklWbAjnCuTy76hJN/uOjuueZvfZWxhBkiYwq06L7nNd33yLn2gjm7tAZip0sQGIoSADoU/vyY9pXfLlW3nSuyvLsxEnnasVXr9fk/Y/p5T2BSf7WY273RH9bk1pb+5fU/a2taj3aKn8Sh3rUvvSY6i+8XbddWqBf/fpVxSxJ+AOP2xqxh8Xq9kc+Z3g7eL/wRfXFmGaE38/eJpnXEfe1D7Y8hq9JfveNPebM7/++xl1mAACGhVq9/MQ+FVzxz1pxXujP9LLzbtGd103Wvid+7dwiYCiyRJDfbCtNVrDb3liP7wpuV2Ntcy33seIsh7uMYY8d3g7cL+xxg8sS47n67jfY8sYywH0GXB7D3Ned7w/Mj36IAZYZSBcKEgBCzF/D55yuU4PFiKCyMk1zNlZ795tjQBu15e7btNG5tnPttVp09xZniuXbp413XawFCy/Woirz77Xa8McENmL+Gm3Z5Ne8efO14PxPquClLXr5kJ1n+f/4qJY6j2ked9HHL9ay/1utiH4EtY+68zYEk45t33n3V7Xoo/Z+Vddq/fZa/er+a7XAeYzgtIhltPdben3oNgm9jsFee5zlue+lensD5yY/vFYP7HSuPHObM+/RvtCm7kbteChsmZ373/lC6H4AAAwXfp805/RTbStkYsXpzrZyr95wt+9DkCX61GqD2Vbe9VXdufiiwHbTeayl97+s+mBRwRxW8o3FYVngIi24dpW2mp6aQfbQkwXufOfy6duc5bDzXOY1ONP7lt22v+w877XO49nHXXTXs6r93dO6Jbgs7rQtoWUJ3u/aL2pp3/JG3ya2xh3rtNTcNuZ94izPl58OHTrTtEX33P6sc6VGD1x7se55MXSuD/9fnw29f+774+SSWDuEgBRRkACQpDIt+Np9WuJcm3Pz97X5awv6uirufeYremDHNH3mOz/V5me+rxXv36cnbnU28IN0A/Tv3KqNvvma/4FSFbz/Y1pS/Ko2bwv/g3uvfvLNx7X3nOXa8Mzz2vzUv2h+4T4l8if5zsZpuucpc59/01JneX5y+xe1pvVjesCd9oA+M90so7ORjdro7/PPCtyv73X0v024RF/7ay1nRizP5lWPaavtDjLzc8795jhXLr1Pm6uv18zAZLVuXac7f+rXgn/+vp6t/qlWX1qmrd+6VU/82d4AAIARJf1Zop//adWZdzmP4Ww3199QqX3Vd+uJ4CGheZM196rlWmGeo/p5PfvILZrz9mbd+fCWvh6arVsf1T0vjdGSb5rbbNKGZdPU8lc7cyB76jTmH//N2V5v0uN3XaKyl9Zo2Vf+Q9NXPOlO2/DPi5xpd+uB/wj98e86sE9lTg541lmep1eZ+8W4TbijL2v9XU/L//e3u9koeJ+VT4UfFuPYdzhyeX63Tvdssrt0Ji7Qnc79pEqt+P7zuvMiuxa6ndz1tTXaMe0arXEyS+D9eVwr7ns5dg9WIAUUJAAkraB0rArMv6MnqrTUXDMC3TQnX/lPWvqBySqdNF1L/s9yzfRt0cs7B9p8tWrr889KF87X3HFOM2+m5i8uUO0Lr4YKDode12sHpI9e/ElNn1Sq0nfM1GU33aS5dvZAltxwvea8I3Cfz3zabHTP1bKbLtdMd1qlll7rTPPt0xtNgdsHXfblWzTX3Ma8DnO/GLcJSfy1L/rcNaHludI87ha9HuzqUTxRBe4bO1al44Lva6N2vLBF/gs/q2UXT1fZOCdE3XiLlhTv0+YdUaEDAIARIr1ZIoaF1+sz5jGc7ebMqz+rJfJry95Q38rS9yzQInd+qcpmXKJrFjsTX3q9r/flvj1bpFM/qUXzzG3KNO2i5brF3GYwc6/Qde722tzncl1mdjQs/ictu2iaO236xZ91p+14I7w7hmPOl7XiUnO/Uk0+L3C/frcJ07hjs37lm69rli1ys9Hk85Y79y/Qvp+/qoh0cM6lYctzjS5zwtO+P7we6NWRV2Df+wIVOM/btxr2/FqP75+sa24KZCjz/qy4cab8L76sZFcDMBgKEgAGNkh3wT6H3nC7ADb+/NtaesO1gcs3nnU37LVvD9CX4eirevkl6aN/f65K7aSZ51+igtqn9auoHgBlZcFbnKBR9t9wsaYZ4dPj3SboRF+7yz/I8bEH9Pp255+dj2lF8LFvWqetzqT6v9SxpwIAMLwlmiOMlLang3PP02S17n9VG7+3Rnfa51n9nJ0R7vQyTbRXT4zzF37wj/w+saY5IibHuU2YA3991flvjR6/1b5PN3xR6004OPCG6gcLBz0DHwLTuH+vk04atfG+4GNfqzt/ZtbCa9oXv0YCnBAKEgAiOduovs3Ugc260/njd0d9hzuttKgwMD2W3MCWs2z6LM398Ln2Ml9LPnuNPjo1fiGh/qVn3D+uzXGa8+d9JHC56Wnn+eq1edsI6QFwgq89UQXFzn/eeWbYY5+rhZ++Rp85pzxwAwAAhhF/V+gP3vr/+KqWPfSqDnS4SUJjzDYtniHenvb58+NadvVt2lBboLmfW65lNyzXItOTYSRxu1RO0/SwbDB34eX6zGfPSn3UD/cvxDJNPyfssS+8xHnsBZo20PoDTgAFCQB9Tj39XGlntXbstxO6CzSm5WmtvGmNdmqmzjpzgDBQdrrOOlVqrJira667XkuDl885l3mT7Y2i1WvHC7XSzAXORs75AzvssuS8yar/8X8EzttgA0r9obCSv68j0N1wqHTZfx3+tlCwiumEXnuipunM88y/Z2mBebzwx148s69XCQAAJ9+pmjbXiRLPvap9wZ4RBaVq/eltWvadGmd7f5amD7ThGtLtaUjj3te0T5frnvuXa9F5lZrzgUr3eSOYP/jfaFRTXw8Pv1qG8qSOTtQIpY1W+Y/Yq3FMe9d899+zFkS9T9ddopkphoOyd5+lyU7Kmvzhz0Y99vWa9w57IyBNKEgA6FN20Wf1mam1emD5Cq1//lXtrC/VzDl9p1bU3tcju0vu+58d2llbbzeg07Xw8+fKv+mrWvG9Ldr5uxr96qm7tfT6NdoRr3Lw5y36Sa205LO3hzZ49rLic5/UZN+z2vJ759HLztJcZzG2PrBKP9leo53bn9V9X18XeYxkmv3kLvseOM/1wEPPSnPna+6kwLwxE0woekN7d9So9oB59Sfw2gfytxrt+N0+ezhGqeYuuVyTa9fozvuedaY7855fp1s+fZs2/jUUXQAAOPnKtOCz12ias81adus6bXa22fXFs9QXJVpe196oLv8pZ4kTUFhk/mJ/VVt/vU+NRxu1b/ujWrcpMC9o+jmfVMGBx7T64c2B5XjsNt0TdZu02vkd3fmNp/Ur81zf+7bW75msy86fbmeWavIM55+wfFB6/qW67FQns92xShvdbLRZ629drJXP7AsrbCQqPNM43rNIn5nr18a7vqQNLzqP/Tsnr33zWi1d+6oakzkEB0gABQkAIQUznY3NA1p6zmFt/vZtuuXLt+m+Fw5o7nVf022fLtDLL+y0w0lN14KbKtWyaZVueWynWtw7OzHkY1/T+hsrdeCndzv3XaF7frhTZfPnafp4e4Moe7f9wgkql2jenEAPiAgzztWiU/3avG23s2GdrCV3fVOLJr2q9bev0C3f/g8VnP9JZymGztzzpum19c57cPsavVxxvdasXNTXBbJgzse0dGaLNt6/Qo//PvDqk33tsZVp7icXafofHtXKL/+i78RaBWcv15q7LlHp9jXO9BVa+e1fqOP8+ZozOcb7BgDASVQw09lmPnC95jT8QveZbfbtq7S54Vwtvet2XVbwsjb/PrhzIz1Z4kSUzrte9ywu1ZZvXK1LqhZr2ROtOv0cO9Mq+MByZzlmqf6nzvI5eWj9/8zRogvtzKEwY77O9D2t1eY1uyNr3a+lZwe389M077IFKgvPB05mW7bma1oy5mU9EHyfffM17/2TBzv9RKQZH9OyD0RmGpNHFn3t37Ts/Qf0k284j/3lu7Xhj+Wa/5EzVRY9NDyQopympqbe9vZ22wSAAZhiRLZviP64zj2HxWUP/ZeWnW2nAR5XXl6u/Px82xpcc3OzyBYA+vFCjkhaozbftlj36XY9e19o5weQ7YLZgh4SABJHiAAAACeKHAEgCgUJAAAAAACQcRyyAQDhenvU3d2rnLw85ebYaYDHccgGAAydnu5uOclDeXnsK4Z3cMgGAMSSk6u8URQjAABAZuTm5VGMgGfxyQcAAAAAABlHQQIAAAAAAGQcBQkAAAAAAJBxOc3Nzb32OgAAQD8lJSVJndTyyJEj9hoAAEB/wWyR0+uw0wAAAAAAADJA+v8BrUFaWSX9zHgAAAAASUVORK5CYII=)"
      ],
      "metadata": {
        "id": "JfVXyPSf_ByR"
      }
    },
    {
      "cell_type": "markdown",
      "metadata": {
        "id": "miYvjW9QPKJm"
      },
      "source": [
        "#### **2. Transformação e limpeza de dados - data wrangling**"
      ]
    },
    {
      "cell_type": "markdown",
      "metadata": {
        "id": "_JEcr6OBLjT9"
      },
      "source": [
        "Nesse bloco realizaremos:\n",
        "\n",
        " - Correção do *schema* das nossas colunas;\n",
        " - Remoção os dados faltantes."
      ]
    },
    {
      "cell_type": "markdown",
      "metadata": {
        "id": "YqEgik1OXVLR"
      },
      "source": [
        "##### **2.1. Correção de schema** "
      ]
    },
    {
      "cell_type": "markdown",
      "metadata": {
        "id": "FWHWpcurMkiX"
      },
      "source": [
        "Na etapa de exploração, notamos que as colunas **limite_credito** e **valor_transacoes_12m** estavam sendo interpretadas como colunas categóricas (`dtype = object`)."
      ]
    },
    {
      "cell_type": "code",
      "metadata": {
        "id": "e_ToeVYcM7X3",
        "colab": {
          "base_uri": "https://localhost:8080/"
        },
        "outputId": "2ac570e3-c5cc-4258-e0c1-3f3a4ad013e6"
      },
      "source": [
        "df[['limite_credito', 'valor_transacoes_12m']].dtypes"
      ],
      "execution_count": null,
      "outputs": [
        {
          "output_type": "execute_result",
          "data": {
            "text/plain": [
              "limite_credito          object\n",
              "valor_transacoes_12m    object\n",
              "dtype: object"
            ]
          },
          "metadata": {},
          "execution_count": 23
        }
      ]
    },
    {
      "cell_type": "code",
      "metadata": {
        "id": "pkG33j5QNGLD",
        "colab": {
          "base_uri": "https://localhost:8080/",
          "height": 206
        },
        "outputId": "4d1fede2-a2cb-4e03-e9c4-4b7a82a93bab"
      },
      "source": [
        "df[['limite_credito', 'valor_transacoes_12m']].head(n=5)"
      ],
      "execution_count": null,
      "outputs": [
        {
          "output_type": "execute_result",
          "data": {
            "text/plain": [
              "  limite_credito valor_transacoes_12m\n",
              "0      12.691,51             1.144,90\n",
              "1       8.256,96             1.291,45\n",
              "2       3.418,56             1.887,72\n",
              "3       3.313,03             1.171,56\n",
              "4       4.716,22               816,08"
            ],
            "text/html": [
              "\n",
              "  <div id=\"df-0ba44acb-40d7-4296-82ef-881747b923a3\">\n",
              "    <div class=\"colab-df-container\">\n",
              "      <div>\n",
              "<style scoped>\n",
              "    .dataframe tbody tr th:only-of-type {\n",
              "        vertical-align: middle;\n",
              "    }\n",
              "\n",
              "    .dataframe tbody tr th {\n",
              "        vertical-align: top;\n",
              "    }\n",
              "\n",
              "    .dataframe thead th {\n",
              "        text-align: right;\n",
              "    }\n",
              "</style>\n",
              "<table border=\"1\" class=\"dataframe\">\n",
              "  <thead>\n",
              "    <tr style=\"text-align: right;\">\n",
              "      <th></th>\n",
              "      <th>limite_credito</th>\n",
              "      <th>valor_transacoes_12m</th>\n",
              "    </tr>\n",
              "  </thead>\n",
              "  <tbody>\n",
              "    <tr>\n",
              "      <th>0</th>\n",
              "      <td>12.691,51</td>\n",
              "      <td>1.144,90</td>\n",
              "    </tr>\n",
              "    <tr>\n",
              "      <th>1</th>\n",
              "      <td>8.256,96</td>\n",
              "      <td>1.291,45</td>\n",
              "    </tr>\n",
              "    <tr>\n",
              "      <th>2</th>\n",
              "      <td>3.418,56</td>\n",
              "      <td>1.887,72</td>\n",
              "    </tr>\n",
              "    <tr>\n",
              "      <th>3</th>\n",
              "      <td>3.313,03</td>\n",
              "      <td>1.171,56</td>\n",
              "    </tr>\n",
              "    <tr>\n",
              "      <th>4</th>\n",
              "      <td>4.716,22</td>\n",
              "      <td>816,08</td>\n",
              "    </tr>\n",
              "  </tbody>\n",
              "</table>\n",
              "</div>\n",
              "      <button class=\"colab-df-convert\" onclick=\"convertToInteractive('df-0ba44acb-40d7-4296-82ef-881747b923a3')\"\n",
              "              title=\"Convert this dataframe to an interactive table.\"\n",
              "              style=\"display:none;\">\n",
              "        \n",
              "  <svg xmlns=\"http://www.w3.org/2000/svg\" height=\"24px\"viewBox=\"0 0 24 24\"\n",
              "       width=\"24px\">\n",
              "    <path d=\"M0 0h24v24H0V0z\" fill=\"none\"/>\n",
              "    <path d=\"M18.56 5.44l.94 2.06.94-2.06 2.06-.94-2.06-.94-.94-2.06-.94 2.06-2.06.94zm-11 1L8.5 8.5l.94-2.06 2.06-.94-2.06-.94L8.5 2.5l-.94 2.06-2.06.94zm10 10l.94 2.06.94-2.06 2.06-.94-2.06-.94-.94-2.06-.94 2.06-2.06.94z\"/><path d=\"M17.41 7.96l-1.37-1.37c-.4-.4-.92-.59-1.43-.59-.52 0-1.04.2-1.43.59L10.3 9.45l-7.72 7.72c-.78.78-.78 2.05 0 2.83L4 21.41c.39.39.9.59 1.41.59.51 0 1.02-.2 1.41-.59l7.78-7.78 2.81-2.81c.8-.78.8-2.07 0-2.86zM5.41 20L4 18.59l7.72-7.72 1.47 1.35L5.41 20z\"/>\n",
              "  </svg>\n",
              "      </button>\n",
              "      \n",
              "  <style>\n",
              "    .colab-df-container {\n",
              "      display:flex;\n",
              "      flex-wrap:wrap;\n",
              "      gap: 12px;\n",
              "    }\n",
              "\n",
              "    .colab-df-convert {\n",
              "      background-color: #E8F0FE;\n",
              "      border: none;\n",
              "      border-radius: 50%;\n",
              "      cursor: pointer;\n",
              "      display: none;\n",
              "      fill: #1967D2;\n",
              "      height: 32px;\n",
              "      padding: 0 0 0 0;\n",
              "      width: 32px;\n",
              "    }\n",
              "\n",
              "    .colab-df-convert:hover {\n",
              "      background-color: #E2EBFA;\n",
              "      box-shadow: 0px 1px 2px rgba(60, 64, 67, 0.3), 0px 1px 3px 1px rgba(60, 64, 67, 0.15);\n",
              "      fill: #174EA6;\n",
              "    }\n",
              "\n",
              "    [theme=dark] .colab-df-convert {\n",
              "      background-color: #3B4455;\n",
              "      fill: #D2E3FC;\n",
              "    }\n",
              "\n",
              "    [theme=dark] .colab-df-convert:hover {\n",
              "      background-color: #434B5C;\n",
              "      box-shadow: 0px 1px 3px 1px rgba(0, 0, 0, 0.15);\n",
              "      filter: drop-shadow(0px 1px 2px rgba(0, 0, 0, 0.3));\n",
              "      fill: #FFFFFF;\n",
              "    }\n",
              "  </style>\n",
              "\n",
              "      <script>\n",
              "        const buttonEl =\n",
              "          document.querySelector('#df-0ba44acb-40d7-4296-82ef-881747b923a3 button.colab-df-convert');\n",
              "        buttonEl.style.display =\n",
              "          google.colab.kernel.accessAllowed ? 'block' : 'none';\n",
              "\n",
              "        async function convertToInteractive(key) {\n",
              "          const element = document.querySelector('#df-0ba44acb-40d7-4296-82ef-881747b923a3');\n",
              "          const dataTable =\n",
              "            await google.colab.kernel.invokeFunction('convertToInteractive',\n",
              "                                                     [key], {});\n",
              "          if (!dataTable) return;\n",
              "\n",
              "          const docLinkHtml = 'Like what you see? Visit the ' +\n",
              "            '<a target=\"_blank\" href=https://colab.research.google.com/notebooks/data_table.ipynb>data table notebook</a>'\n",
              "            + ' to learn more about interactive tables.';\n",
              "          element.innerHTML = '';\n",
              "          dataTable['output_type'] = 'display_data';\n",
              "          await google.colab.output.renderOutput(dataTable, element);\n",
              "          const docLink = document.createElement('div');\n",
              "          docLink.innerHTML = docLinkHtml;\n",
              "          element.appendChild(docLink);\n",
              "        }\n",
              "      </script>\n",
              "    </div>\n",
              "  </div>\n",
              "  "
            ]
          },
          "metadata": {},
          "execution_count": 24
        }
      ]
    },
    {
      "cell_type": "markdown",
      "metadata": {
        "id": "b2AJxyYXNQhC"
      },
      "source": [
        "Vamos criar uma função `lambda` para limpar os dados. Mas antes, vamos testar sua aplicação através do método funcional `map`:"
      ]
    },
    {
      "cell_type": "code",
      "metadata": {
        "id": "P2cLfCZTOFJD",
        "colab": {
          "base_uri": "https://localhost:8080/"
        },
        "outputId": "123fcf44-7dbf-4de8-c2c2-9baea224a414"
      },
      "source": [
        "fn = lambda valor: float(valor.replace(\".\", \"\").replace(\",\", \".\"))\n",
        "\n",
        "valores_originais = ['12.691,51', '8.256,96', '3.418,56', '3.313,03', '4.716,22']\n",
        "valores_limpos = list(map(fn, valores_originais))\n",
        "\n",
        "print(valores_originais)\n",
        "print(valores_limpos)"
      ],
      "execution_count": null,
      "outputs": [
        {
          "output_type": "stream",
          "name": "stdout",
          "text": [
            "['12.691,51', '8.256,96', '3.418,56', '3.313,03', '4.716,22']\n",
            "[12691.51, 8256.96, 3418.56, 3313.03, 4716.22]\n"
          ]
        }
      ]
    },
    {
      "cell_type": "markdown",
      "metadata": {
        "id": "oNx_M5ueNfj1"
      },
      "source": [
        "Com a função `lambda` de limpeza pronta, basta aplica-la nas colunas de interesse."
      ]
    },
    {
      "cell_type": "code",
      "metadata": {
        "id": "b1vsc75TN_ZA"
      },
      "source": [
        "df['valor_transacoes_12m'] = df['valor_transacoes_12m'].apply(fn)\n",
        "df['limite_credito'] = df['limite_credito'].apply(fn)"
      ],
      "execution_count": null,
      "outputs": []
    },
    {
      "cell_type": "markdown",
      "metadata": {
        "id": "44lO14qwOaGL"
      },
      "source": [
        "Vamos descrever novamente o *schema*:"
      ]
    },
    {
      "cell_type": "code",
      "metadata": {
        "id": "TOJoEfVxQpz3",
        "colab": {
          "base_uri": "https://localhost:8080/"
        },
        "outputId": "855e71ed-5471-428e-8f5f-e4f83c3e17c6"
      },
      "source": [
        "df.dtypes"
      ],
      "execution_count": null,
      "outputs": [
        {
          "output_type": "execute_result",
          "data": {
            "text/plain": [
              "id                           int64\n",
              "default                      int64\n",
              "idade                        int64\n",
              "sexo                        object\n",
              "dependentes                  int64\n",
              "escolaridade                object\n",
              "estado_civil                object\n",
              "salario_anual               object\n",
              "tipo_cartao                 object\n",
              "meses_de_relacionamento      int64\n",
              "qtd_produtos                 int64\n",
              "iteracoes_12m                int64\n",
              "meses_inativo_12m            int64\n",
              "limite_credito             float64\n",
              "valor_transacoes_12m       float64\n",
              "qtd_transacoes_12m           int64\n",
              "dtype: object"
            ]
          },
          "metadata": {},
          "execution_count": 27
        }
      ]
    },
    {
      "cell_type": "markdown",
      "source": [
        "As duas colunas (limite de credito e valor transacoes 12m) foram alteradas para o tipo float.\n",
        "\n",
        "Vamos agora listar os atributos categóricos e numéricos."
      ],
      "metadata": {
        "id": "ycsxaPvM-IWp"
      }
    },
    {
      "cell_type": "markdown",
      "metadata": {
        "id": "Jzst49MBOQux"
      },
      "source": [
        " - Atributos **categóricos**."
      ]
    },
    {
      "cell_type": "code",
      "metadata": {
        "id": "ul2cx2s6OQu5",
        "colab": {
          "base_uri": "https://localhost:8080/",
          "height": 206
        },
        "outputId": "cf9292c4-28ba-4613-e812-4ce67804e1fb"
      },
      "source": [
        "df.select_dtypes('object').describe().transpose()"
      ],
      "execution_count": null,
      "outputs": [
        {
          "output_type": "execute_result",
          "data": {
            "text/plain": [
              "               count unique             top  freq\n",
              "sexo           10127      2               F  5358\n",
              "escolaridade    8608      5        mestrado  3128\n",
              "estado_civil    9378      3          casado  4687\n",
              "salario_anual   9015      5  menos que $40K  3561\n",
              "tipo_cartao    10127      4            blue  9436"
            ],
            "text/html": [
              "\n",
              "  <div id=\"df-723cca81-61fe-45d1-99a9-64fde324f54d\">\n",
              "    <div class=\"colab-df-container\">\n",
              "      <div>\n",
              "<style scoped>\n",
              "    .dataframe tbody tr th:only-of-type {\n",
              "        vertical-align: middle;\n",
              "    }\n",
              "\n",
              "    .dataframe tbody tr th {\n",
              "        vertical-align: top;\n",
              "    }\n",
              "\n",
              "    .dataframe thead th {\n",
              "        text-align: right;\n",
              "    }\n",
              "</style>\n",
              "<table border=\"1\" class=\"dataframe\">\n",
              "  <thead>\n",
              "    <tr style=\"text-align: right;\">\n",
              "      <th></th>\n",
              "      <th>count</th>\n",
              "      <th>unique</th>\n",
              "      <th>top</th>\n",
              "      <th>freq</th>\n",
              "    </tr>\n",
              "  </thead>\n",
              "  <tbody>\n",
              "    <tr>\n",
              "      <th>sexo</th>\n",
              "      <td>10127</td>\n",
              "      <td>2</td>\n",
              "      <td>F</td>\n",
              "      <td>5358</td>\n",
              "    </tr>\n",
              "    <tr>\n",
              "      <th>escolaridade</th>\n",
              "      <td>8608</td>\n",
              "      <td>5</td>\n",
              "      <td>mestrado</td>\n",
              "      <td>3128</td>\n",
              "    </tr>\n",
              "    <tr>\n",
              "      <th>estado_civil</th>\n",
              "      <td>9378</td>\n",
              "      <td>3</td>\n",
              "      <td>casado</td>\n",
              "      <td>4687</td>\n",
              "    </tr>\n",
              "    <tr>\n",
              "      <th>salario_anual</th>\n",
              "      <td>9015</td>\n",
              "      <td>5</td>\n",
              "      <td>menos que $40K</td>\n",
              "      <td>3561</td>\n",
              "    </tr>\n",
              "    <tr>\n",
              "      <th>tipo_cartao</th>\n",
              "      <td>10127</td>\n",
              "      <td>4</td>\n",
              "      <td>blue</td>\n",
              "      <td>9436</td>\n",
              "    </tr>\n",
              "  </tbody>\n",
              "</table>\n",
              "</div>\n",
              "      <button class=\"colab-df-convert\" onclick=\"convertToInteractive('df-723cca81-61fe-45d1-99a9-64fde324f54d')\"\n",
              "              title=\"Convert this dataframe to an interactive table.\"\n",
              "              style=\"display:none;\">\n",
              "        \n",
              "  <svg xmlns=\"http://www.w3.org/2000/svg\" height=\"24px\"viewBox=\"0 0 24 24\"\n",
              "       width=\"24px\">\n",
              "    <path d=\"M0 0h24v24H0V0z\" fill=\"none\"/>\n",
              "    <path d=\"M18.56 5.44l.94 2.06.94-2.06 2.06-.94-2.06-.94-.94-2.06-.94 2.06-2.06.94zm-11 1L8.5 8.5l.94-2.06 2.06-.94-2.06-.94L8.5 2.5l-.94 2.06-2.06.94zm10 10l.94 2.06.94-2.06 2.06-.94-2.06-.94-.94-2.06-.94 2.06-2.06.94z\"/><path d=\"M17.41 7.96l-1.37-1.37c-.4-.4-.92-.59-1.43-.59-.52 0-1.04.2-1.43.59L10.3 9.45l-7.72 7.72c-.78.78-.78 2.05 0 2.83L4 21.41c.39.39.9.59 1.41.59.51 0 1.02-.2 1.41-.59l7.78-7.78 2.81-2.81c.8-.78.8-2.07 0-2.86zM5.41 20L4 18.59l7.72-7.72 1.47 1.35L5.41 20z\"/>\n",
              "  </svg>\n",
              "      </button>\n",
              "      \n",
              "  <style>\n",
              "    .colab-df-container {\n",
              "      display:flex;\n",
              "      flex-wrap:wrap;\n",
              "      gap: 12px;\n",
              "    }\n",
              "\n",
              "    .colab-df-convert {\n",
              "      background-color: #E8F0FE;\n",
              "      border: none;\n",
              "      border-radius: 50%;\n",
              "      cursor: pointer;\n",
              "      display: none;\n",
              "      fill: #1967D2;\n",
              "      height: 32px;\n",
              "      padding: 0 0 0 0;\n",
              "      width: 32px;\n",
              "    }\n",
              "\n",
              "    .colab-df-convert:hover {\n",
              "      background-color: #E2EBFA;\n",
              "      box-shadow: 0px 1px 2px rgba(60, 64, 67, 0.3), 0px 1px 3px 1px rgba(60, 64, 67, 0.15);\n",
              "      fill: #174EA6;\n",
              "    }\n",
              "\n",
              "    [theme=dark] .colab-df-convert {\n",
              "      background-color: #3B4455;\n",
              "      fill: #D2E3FC;\n",
              "    }\n",
              "\n",
              "    [theme=dark] .colab-df-convert:hover {\n",
              "      background-color: #434B5C;\n",
              "      box-shadow: 0px 1px 3px 1px rgba(0, 0, 0, 0.15);\n",
              "      filter: drop-shadow(0px 1px 2px rgba(0, 0, 0, 0.3));\n",
              "      fill: #FFFFFF;\n",
              "    }\n",
              "  </style>\n",
              "\n",
              "      <script>\n",
              "        const buttonEl =\n",
              "          document.querySelector('#df-723cca81-61fe-45d1-99a9-64fde324f54d button.colab-df-convert');\n",
              "        buttonEl.style.display =\n",
              "          google.colab.kernel.accessAllowed ? 'block' : 'none';\n",
              "\n",
              "        async function convertToInteractive(key) {\n",
              "          const element = document.querySelector('#df-723cca81-61fe-45d1-99a9-64fde324f54d');\n",
              "          const dataTable =\n",
              "            await google.colab.kernel.invokeFunction('convertToInteractive',\n",
              "                                                     [key], {});\n",
              "          if (!dataTable) return;\n",
              "\n",
              "          const docLinkHtml = 'Like what you see? Visit the ' +\n",
              "            '<a target=\"_blank\" href=https://colab.research.google.com/notebooks/data_table.ipynb>data table notebook</a>'\n",
              "            + ' to learn more about interactive tables.';\n",
              "          element.innerHTML = '';\n",
              "          dataTable['output_type'] = 'display_data';\n",
              "          await google.colab.output.renderOutput(dataTable, element);\n",
              "          const docLink = document.createElement('div');\n",
              "          docLink.innerHTML = docLinkHtml;\n",
              "          element.appendChild(docLink);\n",
              "        }\n",
              "      </script>\n",
              "    </div>\n",
              "  </div>\n",
              "  "
            ]
          },
          "metadata": {},
          "execution_count": 28
        }
      ]
    },
    {
      "cell_type": "markdown",
      "metadata": {
        "id": "MOln7J02OQu7"
      },
      "source": [
        " - Atributos **numéricos**."
      ]
    },
    {
      "cell_type": "code",
      "metadata": {
        "id": "wcavrFtIOQu8",
        "colab": {
          "base_uri": "https://localhost:8080/",
          "height": 363
        },
        "outputId": "0cae2b68-8872-4c08-a358-881f797af4d7"
      },
      "source": [
        "df.drop('id', axis=1).select_dtypes('number').describe().transpose()"
      ],
      "execution_count": null,
      "outputs": [
        {
          "output_type": "execute_result",
          "data": {
            "text/plain": [
              "                           count         mean          std      min       25%  \\\n",
              "default                  10127.0     0.160660     0.367235     0.00     0.000   \n",
              "idade                    10127.0    46.325960     8.016814    26.00    41.000   \n",
              "dependentes              10127.0     2.346203     1.298908     0.00     1.000   \n",
              "meses_de_relacionamento  10127.0    35.928409     7.986416    13.00    31.000   \n",
              "qtd_produtos             10127.0     3.812580     1.554408     1.00     3.000   \n",
              "iteracoes_12m            10127.0     2.455317     1.106225     0.00     2.000   \n",
              "meses_inativo_12m        10127.0     2.341167     1.010622     0.00     2.000   \n",
              "limite_credito           10127.0  8632.440165  9088.788041  1438.00  2555.355   \n",
              "valor_transacoes_12m     10127.0  4404.583047  3397.128078   510.16  2155.825   \n",
              "qtd_transacoes_12m       10127.0    64.858695    23.472570    10.00    45.000   \n",
              "\n",
              "                             50%        75%       max  \n",
              "default                     0.00      0.000      1.00  \n",
              "idade                      46.00     52.000     73.00  \n",
              "dependentes                 2.00      3.000      5.00  \n",
              "meses_de_relacionamento    36.00     40.000     56.00  \n",
              "qtd_produtos                4.00      5.000      6.00  \n",
              "iteracoes_12m               2.00      3.000      6.00  \n",
              "meses_inativo_12m           2.00      3.000      6.00  \n",
              "limite_credito           4549.42  11068.175  34516.99  \n",
              "valor_transacoes_12m     3899.59   4741.310  18484.93  \n",
              "qtd_transacoes_12m         67.00     81.000    139.00  "
            ],
            "text/html": [
              "\n",
              "  <div id=\"df-a8f107e5-9a18-4038-b2a2-f1b781784b90\">\n",
              "    <div class=\"colab-df-container\">\n",
              "      <div>\n",
              "<style scoped>\n",
              "    .dataframe tbody tr th:only-of-type {\n",
              "        vertical-align: middle;\n",
              "    }\n",
              "\n",
              "    .dataframe tbody tr th {\n",
              "        vertical-align: top;\n",
              "    }\n",
              "\n",
              "    .dataframe thead th {\n",
              "        text-align: right;\n",
              "    }\n",
              "</style>\n",
              "<table border=\"1\" class=\"dataframe\">\n",
              "  <thead>\n",
              "    <tr style=\"text-align: right;\">\n",
              "      <th></th>\n",
              "      <th>count</th>\n",
              "      <th>mean</th>\n",
              "      <th>std</th>\n",
              "      <th>min</th>\n",
              "      <th>25%</th>\n",
              "      <th>50%</th>\n",
              "      <th>75%</th>\n",
              "      <th>max</th>\n",
              "    </tr>\n",
              "  </thead>\n",
              "  <tbody>\n",
              "    <tr>\n",
              "      <th>default</th>\n",
              "      <td>10127.0</td>\n",
              "      <td>0.160660</td>\n",
              "      <td>0.367235</td>\n",
              "      <td>0.00</td>\n",
              "      <td>0.000</td>\n",
              "      <td>0.00</td>\n",
              "      <td>0.000</td>\n",
              "      <td>1.00</td>\n",
              "    </tr>\n",
              "    <tr>\n",
              "      <th>idade</th>\n",
              "      <td>10127.0</td>\n",
              "      <td>46.325960</td>\n",
              "      <td>8.016814</td>\n",
              "      <td>26.00</td>\n",
              "      <td>41.000</td>\n",
              "      <td>46.00</td>\n",
              "      <td>52.000</td>\n",
              "      <td>73.00</td>\n",
              "    </tr>\n",
              "    <tr>\n",
              "      <th>dependentes</th>\n",
              "      <td>10127.0</td>\n",
              "      <td>2.346203</td>\n",
              "      <td>1.298908</td>\n",
              "      <td>0.00</td>\n",
              "      <td>1.000</td>\n",
              "      <td>2.00</td>\n",
              "      <td>3.000</td>\n",
              "      <td>5.00</td>\n",
              "    </tr>\n",
              "    <tr>\n",
              "      <th>meses_de_relacionamento</th>\n",
              "      <td>10127.0</td>\n",
              "      <td>35.928409</td>\n",
              "      <td>7.986416</td>\n",
              "      <td>13.00</td>\n",
              "      <td>31.000</td>\n",
              "      <td>36.00</td>\n",
              "      <td>40.000</td>\n",
              "      <td>56.00</td>\n",
              "    </tr>\n",
              "    <tr>\n",
              "      <th>qtd_produtos</th>\n",
              "      <td>10127.0</td>\n",
              "      <td>3.812580</td>\n",
              "      <td>1.554408</td>\n",
              "      <td>1.00</td>\n",
              "      <td>3.000</td>\n",
              "      <td>4.00</td>\n",
              "      <td>5.000</td>\n",
              "      <td>6.00</td>\n",
              "    </tr>\n",
              "    <tr>\n",
              "      <th>iteracoes_12m</th>\n",
              "      <td>10127.0</td>\n",
              "      <td>2.455317</td>\n",
              "      <td>1.106225</td>\n",
              "      <td>0.00</td>\n",
              "      <td>2.000</td>\n",
              "      <td>2.00</td>\n",
              "      <td>3.000</td>\n",
              "      <td>6.00</td>\n",
              "    </tr>\n",
              "    <tr>\n",
              "      <th>meses_inativo_12m</th>\n",
              "      <td>10127.0</td>\n",
              "      <td>2.341167</td>\n",
              "      <td>1.010622</td>\n",
              "      <td>0.00</td>\n",
              "      <td>2.000</td>\n",
              "      <td>2.00</td>\n",
              "      <td>3.000</td>\n",
              "      <td>6.00</td>\n",
              "    </tr>\n",
              "    <tr>\n",
              "      <th>limite_credito</th>\n",
              "      <td>10127.0</td>\n",
              "      <td>8632.440165</td>\n",
              "      <td>9088.788041</td>\n",
              "      <td>1438.00</td>\n",
              "      <td>2555.355</td>\n",
              "      <td>4549.42</td>\n",
              "      <td>11068.175</td>\n",
              "      <td>34516.99</td>\n",
              "    </tr>\n",
              "    <tr>\n",
              "      <th>valor_transacoes_12m</th>\n",
              "      <td>10127.0</td>\n",
              "      <td>4404.583047</td>\n",
              "      <td>3397.128078</td>\n",
              "      <td>510.16</td>\n",
              "      <td>2155.825</td>\n",
              "      <td>3899.59</td>\n",
              "      <td>4741.310</td>\n",
              "      <td>18484.93</td>\n",
              "    </tr>\n",
              "    <tr>\n",
              "      <th>qtd_transacoes_12m</th>\n",
              "      <td>10127.0</td>\n",
              "      <td>64.858695</td>\n",
              "      <td>23.472570</td>\n",
              "      <td>10.00</td>\n",
              "      <td>45.000</td>\n",
              "      <td>67.00</td>\n",
              "      <td>81.000</td>\n",
              "      <td>139.00</td>\n",
              "    </tr>\n",
              "  </tbody>\n",
              "</table>\n",
              "</div>\n",
              "      <button class=\"colab-df-convert\" onclick=\"convertToInteractive('df-a8f107e5-9a18-4038-b2a2-f1b781784b90')\"\n",
              "              title=\"Convert this dataframe to an interactive table.\"\n",
              "              style=\"display:none;\">\n",
              "        \n",
              "  <svg xmlns=\"http://www.w3.org/2000/svg\" height=\"24px\"viewBox=\"0 0 24 24\"\n",
              "       width=\"24px\">\n",
              "    <path d=\"M0 0h24v24H0V0z\" fill=\"none\"/>\n",
              "    <path d=\"M18.56 5.44l.94 2.06.94-2.06 2.06-.94-2.06-.94-.94-2.06-.94 2.06-2.06.94zm-11 1L8.5 8.5l.94-2.06 2.06-.94-2.06-.94L8.5 2.5l-.94 2.06-2.06.94zm10 10l.94 2.06.94-2.06 2.06-.94-2.06-.94-.94-2.06-.94 2.06-2.06.94z\"/><path d=\"M17.41 7.96l-1.37-1.37c-.4-.4-.92-.59-1.43-.59-.52 0-1.04.2-1.43.59L10.3 9.45l-7.72 7.72c-.78.78-.78 2.05 0 2.83L4 21.41c.39.39.9.59 1.41.59.51 0 1.02-.2 1.41-.59l7.78-7.78 2.81-2.81c.8-.78.8-2.07 0-2.86zM5.41 20L4 18.59l7.72-7.72 1.47 1.35L5.41 20z\"/>\n",
              "  </svg>\n",
              "      </button>\n",
              "      \n",
              "  <style>\n",
              "    .colab-df-container {\n",
              "      display:flex;\n",
              "      flex-wrap:wrap;\n",
              "      gap: 12px;\n",
              "    }\n",
              "\n",
              "    .colab-df-convert {\n",
              "      background-color: #E8F0FE;\n",
              "      border: none;\n",
              "      border-radius: 50%;\n",
              "      cursor: pointer;\n",
              "      display: none;\n",
              "      fill: #1967D2;\n",
              "      height: 32px;\n",
              "      padding: 0 0 0 0;\n",
              "      width: 32px;\n",
              "    }\n",
              "\n",
              "    .colab-df-convert:hover {\n",
              "      background-color: #E2EBFA;\n",
              "      box-shadow: 0px 1px 2px rgba(60, 64, 67, 0.3), 0px 1px 3px 1px rgba(60, 64, 67, 0.15);\n",
              "      fill: #174EA6;\n",
              "    }\n",
              "\n",
              "    [theme=dark] .colab-df-convert {\n",
              "      background-color: #3B4455;\n",
              "      fill: #D2E3FC;\n",
              "    }\n",
              "\n",
              "    [theme=dark] .colab-df-convert:hover {\n",
              "      background-color: #434B5C;\n",
              "      box-shadow: 0px 1px 3px 1px rgba(0, 0, 0, 0.15);\n",
              "      filter: drop-shadow(0px 1px 2px rgba(0, 0, 0, 0.3));\n",
              "      fill: #FFFFFF;\n",
              "    }\n",
              "  </style>\n",
              "\n",
              "      <script>\n",
              "        const buttonEl =\n",
              "          document.querySelector('#df-a8f107e5-9a18-4038-b2a2-f1b781784b90 button.colab-df-convert');\n",
              "        buttonEl.style.display =\n",
              "          google.colab.kernel.accessAllowed ? 'block' : 'none';\n",
              "\n",
              "        async function convertToInteractive(key) {\n",
              "          const element = document.querySelector('#df-a8f107e5-9a18-4038-b2a2-f1b781784b90');\n",
              "          const dataTable =\n",
              "            await google.colab.kernel.invokeFunction('convertToInteractive',\n",
              "                                                     [key], {});\n",
              "          if (!dataTable) return;\n",
              "\n",
              "          const docLinkHtml = 'Like what you see? Visit the ' +\n",
              "            '<a target=\"_blank\" href=https://colab.research.google.com/notebooks/data_table.ipynb>data table notebook</a>'\n",
              "            + ' to learn more about interactive tables.';\n",
              "          element.innerHTML = '';\n",
              "          dataTable['output_type'] = 'display_data';\n",
              "          await google.colab.output.renderOutput(dataTable, element);\n",
              "          const docLink = document.createElement('div');\n",
              "          docLink.innerHTML = docLinkHtml;\n",
              "          element.appendChild(docLink);\n",
              "        }\n",
              "      </script>\n",
              "    </div>\n",
              "  </div>\n",
              "  "
            ]
          },
          "metadata": {},
          "execution_count": 29
        }
      ]
    },
    {
      "cell_type": "markdown",
      "metadata": {
        "id": "FfSrJNGPLgaE"
      },
      "source": [
        "##### **2.2. Remoção de dados faltantes** "
      ]
    },
    {
      "cell_type": "markdown",
      "metadata": {
        "id": "C9-LfUrxPk26"
      },
      "source": [
        "O código `df.dropna(inplace=True)` é usado para remover todas as linhas de um dataframe que contêm valores nulos.\n",
        "\n",
        "O parâmetro inplace=True indica que a operação deve ser feita no próprio dataframe (em vez de criar uma cópia dele).\n",
        "O método dropna() é responsável por realizar a remoção das linhas com valores nulos.\n",
        "Em resumo, a execução deste código resulta na modificação do dataframe original, removendo todas as linhas que contêm valores nulos."
      ]
    },
    {
      "cell_type": "code",
      "metadata": {
        "id": "PACLJJnsLgak"
      },
      "source": [
        "df.dropna(inplace=True)"
      ],
      "execution_count": null,
      "outputs": []
    },
    {
      "cell_type": "markdown",
      "metadata": {
        "id": "tJhhutM7Phq9"
      },
      "source": [
        "Vamos analisar a estrutura dos dados novamente."
      ]
    },
    {
      "cell_type": "code",
      "metadata": {
        "id": "5Fo7S-COP0Lf",
        "colab": {
          "base_uri": "https://localhost:8080/"
        },
        "outputId": "e0bc9c6d-5024-43fe-c3f2-228f214ad54f"
      },
      "source": [
        "df.shape"
      ],
      "execution_count": null,
      "outputs": [
        {
          "output_type": "execute_result",
          "data": {
            "text/plain": [
              "(7081, 16)"
            ]
          },
          "metadata": {},
          "execution_count": 31
        }
      ]
    },
    {
      "cell_type": "code",
      "metadata": {
        "id": "jbp-6NaXP0Lh",
        "colab": {
          "base_uri": "https://localhost:8080/"
        },
        "outputId": "11651748-8b80-416d-f32c-13c16916ffc2"
      },
      "source": [
        "df[df['default'] == 0].shape"
      ],
      "execution_count": null,
      "outputs": [
        {
          "output_type": "execute_result",
          "data": {
            "text/plain": [
              "(5968, 16)"
            ]
          },
          "metadata": {},
          "execution_count": 32
        }
      ]
    },
    {
      "cell_type": "code",
      "metadata": {
        "id": "XJHQihfUP0Li",
        "colab": {
          "base_uri": "https://localhost:8080/"
        },
        "outputId": "0ddcbc83-5a9c-4615-dc50-c1b2cbe64dfd"
      },
      "source": [
        "df[df['default'] == 1].shape"
      ],
      "execution_count": null,
      "outputs": [
        {
          "output_type": "execute_result",
          "data": {
            "text/plain": [
              "(1113, 16)"
            ]
          },
          "metadata": {},
          "execution_count": 33
        }
      ]
    },
    {
      "cell_type": "code",
      "metadata": {
        "id": "IGFZmtReP0Lk"
      },
      "source": [
        "qtd_total_novo, _ = df.shape\n",
        "qtd_adimplentes_novo, _ = df[df['default'] == 0].shape\n",
        "qtd_inadimplentes_novo, _ = df[df['default'] == 1].shape"
      ],
      "execution_count": null,
      "outputs": []
    },
    {
      "cell_type": "code",
      "metadata": {
        "id": "BU35ZXaKP_6h",
        "colab": {
          "base_uri": "https://localhost:8080/"
        },
        "outputId": "d6e3ea75-b8c1-4009-a877-d2c5cc39c3d5"
      },
      "source": [
        "print(f\"A proporcão adimplentes ativos é de {round(100 * qtd_adimplentes / qtd_total, 2)}%\")\n",
        "print(f\"A nova proporcão de clientes adimplentes é de {round(100 * qtd_adimplentes_novo / qtd_total_novo, 2)}%\")\n",
        "print(\"\")\n",
        "print(f\"A proporcão clientes inadimplentes é de {round(100 * qtd_inadimplentes / qtd_total, 2)}%\")\n",
        "print(f\"A nova proporcão de clientes inadimplentes é de {round(100 * qtd_inadimplentes_novo / qtd_total_novo, 2)}%\")"
      ],
      "execution_count": null,
      "outputs": [
        {
          "output_type": "stream",
          "name": "stdout",
          "text": [
            "A proporcão adimplentes ativos é de 83.93%\n",
            "A nova proporcão de clientes adimplentes é de 84.28%\n",
            "\n",
            "A proporcão clientes inadimplentes é de 16.07%\n",
            "A nova proporcão de clientes inadimplentes é de 15.72%\n"
          ]
        }
      ]
    },
    {
      "cell_type": "markdown",
      "source": [
        "![image.png](data:image/png;base64,iVBORw0KGgoAAAANSUhEUgAAA5oAAAE9CAYAAABqcx30AAAAAXNSR0IArs4c6QAAAARnQU1BAACxjwv8YQUAAAAJcEhZcwAAEnQAABJ0Ad5mH3gAAHHsSURBVHhe7d0PXNXV/T/wFwIXQRAVRcHArDSbWST90TT760qJJrWltlXfLasJ+87sO6O52tpqFvVb6pbaH9uWtWmtwkZoZf80TVtds8xyWZmYoCj+AwQu/37nfD7nXu69XOBeuMD5XF7PPe74fD7334eL3ffnfc77nBPWKICIiIiIiIgoSHqpn0RERERERERBwUSTiIiIiIiIgoqJJhEREREREQUVE00iIiIiIiIKKiaaREREREREFFQ+Z50tLy9XW0RERD1PXFyc2vIP4yYREfV03rHTZ6JZUlKitoiIiHqepKQkteWfiooKJptERNRjySQzNjZW7ZlYOktERNRBXJKaiIh6Ml9xkIkmERFRB4WFhaktIiKinsdXHGSiSURE1EHs0SQiop4sKD2aFd/YsfUj79sO7DnoUI/ogGN7sEO+3o4SBOHVOpejxDzXbyrUAf2Zf7s90OWMdTsfIqL2CqhHs2yXETdLqtS+L/UOlOyU35F27DmmjmnEsX+HtufmWwX26BSz1TXEjv3aX+0QEfklKD2ae16/A3Pv9L79HDdddzkm/+whbNivHhiog+uQe/1PkC1f75mt0H5KhWNbsUKe6+t71IEAiAuIimMVqOji+GL+7V5FO864U+h2PkRE7RVIj+auV39jxM1F75apI94c2PH3n2HGbfI78g4UOr8knbGjtQS1i5R//IznuQWiSvwO4vdw1Kv9LrEHhe2N2Z1BXUOs+JgTSBFRaAjiGM0RmP67RVj4qPP2MO6amQ7bV4W491dPYUc7Eqiyj9Zhiwie4255GAtvHovAJpa3mB1PISNzCu5/q6WLjJ5h2JXy387VGKb2iYhCnsOOwn+aM7tv+fd6+J7jfRfWPyMSoiHX4i4RYzOcX5KH1+F+ETsy/r5DHbCmHX8Xv0PmH7DusDrQE8WPxU3ib3vTOSF9tUNEPVw7E82BGHZWOsae67yNR8bsRVh0SxJQtALrP1MPa4dh54zH2NFJsKl9Cl2xp8h/O8PgOREyEVHocny6AYVVNow4TWSPO97Aln3qDl9OHolxIsYOi1f7FDpsSRgt/rajh/Bqh4hCV/h9gtp2keuBteTgR39D4WcpmDB9Mkb2UQedSj7E8xu/Q9L463HxcLcvz/oy7Hj93/j3hs3Y+t/9iBoyEoluz6349GX8/dWN2LlXvG99PUoO98bIUYlNyWbFHmx96zUUtvB8qWTDU3j+zQoknR2HIvVee470ReKwBMS4pdNlnxai4NX12PLxLpREJGHk4Bh1TxsO7kDhv1/Bhv+I5zXEITmuFBv+tRHfjbkaPz0vUT1IvP7OdXj9lbex6eOtxrkiPhlJ8W6fRcUO5K8owJavD6K+wYGjexxIGntyUw/uwV14c93LeHuTeL48R/leg/vB5k+TQH0F9mx5FS++sdF8bkQCTh4Yh3D1XPNvdyYyfno+ms7YVFG0GYUvvmac957qgUhJ9vGe/pyb/P2efQU7I07HqY278FqB+sx8fNauv5nz9w/guQbx72LLmn/hNXE+xjnH7EPhylewqSIZY4exlZiI2s970em2OBwO49a6Cmx66h68uf9HeOCxi1D2r3xsSrgIPzwrQd0vlWDD08/h7U++wcG6ejiOfwvHYJFs9hXHl6/Cm198h4rGGtQfKEPUyDOQ6J6ntBFrJX9jpTdX7FRxLebgerwo4v2ZU3+G8warB7nHahlLfLyujPd/K9yCbw7Wi3B/FHscbt/XMoZtFTF0rYzRIs4UHUZcwqlI8L7WaMkxERNeM2OC8fsPOhmJseHqzoP48G+vYodXzHby59qgzfguNH2+A3HYGY+LHEg4KQX93B/qFu/OGGzeIT+bFa9+gahTT0X9l69hjfq8ff0dpaa4vQeOgSmI3vMq/imupSqMfy/qQUREXcRmsyEqKkrtmcIafRTUlpT4LuaRdiy7CNkrx+Oulx5GxiB1UBIBYsviHyB39QjcsfJxZA1Vx/evx8O/ugeFRWrfMAzTH/srss8yv1zL1t6Fax/cbGwbxt2Nlx/OgBF696/Dvbf+ARs8JhwYhowHFuOuSU3B2TyvYRhxWgl2feUM9jZkPbwWd4wT71MvgvTD83DvWs/xGcNmPo7ls0e33oO6vxC5Nz9klPY62eJjRVCrgEM8f714vhxTs+u5n2PWk7vMB7jYMOKWP2Ppzeo9DorXuk68lnGfNANLN+TAeIWdK5B921No9gqn3YpFj9+E0a2dZNUOLM/5JZ51/e4m21k5WProDIwQzzU/o6b3M8nz/iWyn9zhMQGT7cK7seKPGUhSMdrvc1O/357TRqD8q10eE/14f9bNzieA5/r3NyEiap+kpCS15Z/y8vJWG2kNx0Q8y/wDtojvqHWzh+HN303B/V/ciuUrb8IIZz6EHVg66ed4Xu1J0x97T8RL7+NecdiPWCu1GSt9KBEx+iYRo5tihA2x8SLROeZQ5yYOla3H/TeIJNp7/Gj8xbj3rw/gCnWezeK96/u6DBt+fz3ufcszhgGxmPS753D/5e7JeHOOT59C9rwV2OXx/jaMnv04Fs0cIbbU5+cdH/y6NvAzvgu+P18hWvy9nhF/ryFqX8U7/Ho18qaYv5v52XwrnlsunusRAZv9Hf36mxARdaHY2NhmjbSttF+25lts+OdTWP60uj32B2RfL5NMGyb95ndNSaZIFTY88QcR+ERiKALFunfeQ+Ff52Jc9B48P28JtqpvyITLf4vlc9KN7ayH1qLwt5PNJFM8/81lMskcJo6/YDx/3QsPIyt1Dwr/uML1/CYiQR77AFa9+R7Wv7lanJf4YlaBs2LDU7hfBJJhU36LFfL+NX/FHRfasGflL7H0o2Yv5Eb+DjKhEV/0j67F+g3iuQXidcfK0ONOBJyZIuD87mHz9cXjzHMVAerpZ7DuoHrYgMm496Frjc2xc/6KwoJbXUmfbdRNWLTst8h77i3zfd58AXnXDYPjq6ewotXxnA5sWSaTTGD0bY+jUHxO8rkLb56MydddbCSZLfpqFe4XSSbOuhVLC8Tz3hFBT77n+w/h/oKmBodAz63kYLIIyqvd/mYQn/VfUNhamZjS9nMd2Pr8o+JvkoQrfmP+u1qX/zhuGubw+psQEemj7P112IAk3HSp/NaPxbhJF4sEUcQHjyGXozGrQHzvyc2xc7G8YC1mGUFCHBfxU4Qe4LqHRez4LSYPkDuSf7G2ScuxspmK9VguE5rUGVgoY4T4/i98Mkech9eLJsiE8mHc+5iKk++sFXF9PGzH1iPvxaZfUMb7vOvkVjru+KuI9//jjIAJmHTPc8j7nYphxvvI30H8bg+vwo7WJg6q2oylMsmUn5F6/3UvLMKNl0/GjEtlktky/64N/IzvLurzfd3tcxDnuOh5ux8xqgQlKbdieb6Ite+8hVXiemEYxN9x2avyVU0OO55fJP4mQ8T1hIzJ4nEvP3YzhrXZo05E1LXamWiWYMtLK/DsM+r2wjrskMubxJ+OkYPcvtIr7FgvWycvvRnZlw+DLVyE1tOuxR2yNbHqZWxxjuW0xWJAjPk8m8iGY2PVa5RtFgFTHLtuLrIvTDKebxsyHrN+KoKzeP6GZtHzWsz9xXgkyafbEjDiLPGexvEKbN2wTnzBX4ybsidjmDwYOwJZ/yt70hzI37LdeJRve/Dl++LH2JnIOleNJowXz/3FLzDO3GsSHovRl483X1+Q5zp9ukygN2OPM0KE21y/ny1mAGK9ym5iR0/GuFTnCyRh3PSZxoXFlm9bmc63QnxOq8VnMe5O3P+T0TAqhcRzx97yW9x1aeut8ru2yFlfxYXPL27CaDkOKDwB42bPRVY0sOPdrU2BTQjk3MZli9cYldD0N7tlsji6AyV+zH/U9nN3Yesa8fuOmoGbrjT/XdkSRuPGX9wsfhMiIh2VYMO/NwNDrsa4EeaR2HMvxiQZg97xTEBs8X3N2GWLwoD4WOM7ztiNj1LH+4rY0XTc71jr0lKs9GHPlyI5FiFw+rUYq8aKxo4Sr5093txxN3Q8rjhLxUkRD0dMm24kzI7d38L19S3ifZz5SxhVKLEi1riEi7hyuYphgnyf6Zlio2oPvm1l4qCKLeuQLycTvOOPuFG9v21IOmb97m5McvYg+hTAtYE/8d1Ffb7yd5Ofw3W34iZxHo59+/2YUX88sn9xLUYkiDcS1wtJF96KWZeLwztK4PoIdm1Fofh9R0y/GVfImCwel3DWTZh7AyMgEemlnYmmLNkxW/XMlsu3ULjyYUwftB3L75hj9KwZVIBKKP8Mq5y9n+JWqBo39xxoI+vY96VRYjp25MkeQTB2xFjIOF1yxN9pwVWymFCBz15064l9TUXfov1NQdAHhyzFESfgfg4tceyX66NtFp+H+R7PbypW9/jJUYJdH9mxZe0q8xyfb2lWQjfOC4GLxqqeYH+VYc9n8tVj8e0Gt8/l2Q0okRcUW79tCmxSe85NiU0I7Mzc+Xqu8TfpF+U5kZB4HGewJSIt7dts9FwmZYxvKpONH4/JIolwvLTBR69jADoaa1tTb1aK2CL8iIByjOWndmx962XzHP5eiEDnBqwokutzisTR63dozZ5v1ov/T8ekcwKNM4FdG7Q/vg/AgJPVZsBikeA9pFT9TRJiPCIgBiS2+02IiDpFOxNNL7KXbuh4ZN9zq0gA92DFehUZ1Jdh2UcvN/V+ytvrfkSO1kRHBZhQqcSkzI589/N4Zh06eCZuHNjx9M+Qcf3PMPfOe/D0us3Y8sFmfLbL/wAvx5jMyrwes+68A/cuf8N4/pZPvmw1CTYEciHgpaZB/v8uvPmc++fyMrZ4dVK2+9yIiAi73lllxJvYb99tSmieXomtVbIX6mUUvtfG+M7WdFasDYScT2HaFNz0izswd5GIITJGfPCluCLwU32JMWY14yc/FzH0UeQbz9+MXd+p+1tjlIyK+OdM4APg37VBx+M7EVFPFJxE0ykmzpg91DVMIPFko7TSJgffO3s/3W7OAfAt6pdk9FyWnfAKwCXfuk2m448BGCZPJHoGlqqxHx4358RDHXFwHVY8swu48G6skuMl/vpXLH/yr8ibZY49bVsZ1olkb5fsLV75Hta9ZD5/ed6t5pic1qjPaWtr5bU+JSApVf706qF23ZyTBnXg3IiIerr6Xdjyb7P+Y9db7gnNCuS/bx7fsGEz2p1qdjTWBsGO/IeM+RSmL1qL9QXPmTHiyV8jQ93fph0vI++dCgybuQiF76zFCuP5f0XuVHV/K2ITZQS0+yhhbYuf1wYdju9ERD1T8BLN+gpszV+JrWJz0khVwDhkJMbKcQmr38AW9whaVYI9/jQEDj0dY6NFYM5/FTtkq6PBga0bZJlMEs4c4W/wTMLIc5OMsSrrPnA/EQdKito6kVgkjRI/PvnSYzY7x67tnsluabHxu585YaxrplapovyQ2mrLfpR8In6ccTHGuiZTEsrL2+41TB2Di43P+RkUuueaZXtQ4nbOTjVukyqMHC3HP24Wgd2z3bmsqMRoITd14Nw6xRAMkwNkt2z3+JtU7PrS+BsQEWllxxtYIb6bR8x5rnkys+EtLLzOBrzzEtb5MVmaTx2Nta1xNmR+8aVbTHBg1za3mWNFJCjZI+8dj3Fnu5VzVh33O3kuK9ljvP64C9JdYzTl+5QfVZutGHb2JSLKO5D/z0KUuMU3zzim1FerDcnPa4MOx/cgSzrZmCNiyza3v4m4Btv1hV3tEBHpoZ2Jph1P5/4Ms25rut00bQrmrtxjLIuRfYkz0IxA1uzJsIkv8dyZP8f9jz2lZqi9HjfJadDbCoDho5F1x3jYilbhjpw/YOnTT2HRnT/A3BdKYLs8B1mnqcf5YURmDq6IFoHo7h8h+49LsPzpJbh/9g8w4ydyOvXWTmQYJmWNNwLRveoclj96B7LuLlT3KyPGIkMkxVsf+z2Wrt1sjjERj8t+zHs6dMEZJJbOEZ+dWU4lP6uxU8XFxtZHxedUiC0f2fHm6oWYO2cJfLyClxGYfue1xqx2D9/8M/NzfvQuXHvDTzDj1hXY4YxENlla+zIeuFX8zVaa7xo7aSZmpYrroMd+hmvvXmiUcy26e5rxucx6xrnkSUfOrTMkYPK14vdFIXKvvwOLxDkv/ePPMf3ul5tfVBARdSsHtr4jv5tGIOM8X6PIbSKBuVr8/w6s+7CNLrkBJ2OYnGBm9W9E7HgIG1yhq4OxtjWpFyNLBCzH6nuQ/XsZO804nLtW3W9IwOhxsv5lFRb9bhXeNMbyP4X7c+4R39LNDTlZTiS0GUvnNsWihDPHGRU0zz96D55/y46t7xdi+e9/jns93qcFp83AHdNsxmzpN92qrhWaxTHxScvPruB+45rleVUb69e1QSDxvSsMmows8fti7V3IulPGbXHOv/gRcuWkgEREGmlnoulA2Ve7sGtn063ENhpXzF6EVW5rL0qxl/4WKx6agbEiiL75wgpjhto9J01G9oNzcYUfHZJJUx7A8l9fixEH1+F5WWb0ETB6mnjNey72nAimLcZaXg9j+rkiqXp9FZ59RgTD74aJc34Yd1zS+okkfD8XC29Jh+0r8xye32TDjHk3eZaN2tKRvTgH42J34fkH78LcOx/Cs6VjkX2zj9IaESRuumU0Yo/tEZ+d8wrAhrG3PY7sC+Ow64WHkHvnHch7tkQc83qfFtjGzcWqRbeK999jfs6rN6PmlGtx133Xuta4HJ3xW2SI5Nz42zlbicNH4MbHH8cdlw9D+fvm+J78j+Uku7/F/dc71wbr2Ll1Bvn7rvid+N1gjq3J35qMWQ+Jz1/dT0SkBcd2bDBmyb4aY42hCs3ZzppkJDI71qzHntaW8ZCNr3fK5b/KROw4jHJjjL2po7G2ZQnIyF2EWefasOstM3ZusM3EXV6xLSnzd7h/2miUbRBJj4gRuUvtiPvRrT5LZxMuuRmzRseiosgtFg29Fvf+XnynH1uPpb+/A3Pvfgxb467DrCnq/lbZMG7OCyJOj0fcPnWt8H4NRky7G/de54xjo5Fxd4ZIyeVntwtlzs/Zn2uDQOJ7l5C/73O4V3zeMMblvoyPh9yKvF/4mAmYiKgbhTUKatulpCTggQ7+cTjgCLc1TckeqCoRrKNV1tQRcuKEenEegb6Uv8/r6O/Z3vNz6sD7y4kRjFbflnT03DqBHBNsnM+nSzD5F6tw5jxxwZHJad6JqP2SkgL7DikvL0dFhb+Fop2sozGoJX6+bptxpC0djPUO8Xxbe57vT3zrrM+2veQ5i8RTns+OZZcje+UY3PXCImS0uqwLEVHwxcbGIi5OztbTJLiTAbVFfHt36Ms5GEmmJINEe17K3+d19Pds7/k5deD927w46Oi5BUvVHhSu3my0ShvnU2HH0odXiYA7DONGM8kkoh6sozGoJX6+boeSTKmDsb5dSabkT3zrrM82QI5vCpH/fpl5zuJ8KrYuQd5KkaCnjsOZTDKJSBNd26NJFBQV2PHkL5H9nBwfY0PCIBvKDpo9CcNmPo7ls52lUkRE7WPpHk0KbRU7sPyXPzfXLI9OQIKtDGXH5B3DMP2xvyL7LEZAIup6vno0mWiSRTWg3lGDqpoa1DUAvWSrbu/e6B3RtZ30RBSamGiS1hrqUeuoQk1NHerQC+GRNkRH9UaEBr2tRNQzMdEkIiLyAxNNIiIi/3X/GE0iIiIiIiIKeUw0iYiIiIiIKKiYaBIREREREVFQMdEkIiIiIiKioGKiSUREREREREHFRJOIiIiIiIiCiokmERERERERBRUTTSIiIiIiIgoqJppEREREREQUVEw0iYiIiIiIKKiYaBIREREREVFQMdEkIiIiIiKioGKiSUREREREREHFRJOIiIiIiIiCiokmERERERERBRUTTSIiIiIiIgoqJppEREREREQUVEw0iYiIiIiIKKiYaBIREREREVFQMdEkIiIiIiKioGKiSUREREREREHFRJOIiIiIiIiCiokmERERERERBRUTTSIiIiIiIgoqJppEREREREQUVEw0iYiIiIiIKKiYaBIREREREVFQMdEkIiIiIiKioGKiSUREREREREHFRJOIiIiIiIiCiokmERERERERBRUTTSIiIiIiIgoqJppEREREREQUVEw0iYiIQpR9YTIW29WOL/bFSE5u7TF2LBb3Jy80H1C6ehaSb89HqbEn75uF/BJjxyfPxysl+ZjlfUydR9PN1+uqc/FxM8+/FPm3ux33eA/P+zx+X3k+yYvFq0vm42at9jg7IiJqB80TTa+gogKdTwEGSxl8Xa8nn+sd9Dy0EHh8BUuD53m3dE5GAHY+zvU6XoHS7Wa+P4MlERG1wYgHych8RO23JnMqtj/pOwaWrl6GPLUtJU5bjuInspCo9lslzmF+9hgUuD3eiL3pOVij9p1K924H5hWguLhY3ZYjK0nd6ZKOOa771a0gV5z/EsxMF3fbV6Lotqb7CkblIM2VIM9Hzij1+vYlbr+viJX3FSLDPke8upSIrCcKMCZ7fqsJNBERtU3rRLN09Uak2p1BYxuW7MxsPXEKIFimzxWvOdcMK21xBqjl05pCa0vB0gzumUCB87yLMcfX24jkNk0GYPWYpoAog1zTc42bCIpTkYvZ4v0ZLImIqFUyDqXLeCDipghHfikoxCYfPYgrs4HceVPVfmDsq3KApTNVTDLjZiZE/JLJoQ9Th6eoLX+JuPdkHnJvU4ls+hyPeJs+Q8TORzYaja97d69B7iR1Z1IqxhQUYa/cFslp4ZQFXkltOibOW4PCD1q53iAiojZpnWgmTpvj9uUvEqfbcrFm7SafiaRL0IOl+dwlM5qiV2vB0gys23wnl27sG/Iw1S0AuwdEb+7BmsGSiIhalZSF5T57BFuSgdlLgZxVXhHIvhF582Zj5nC1L7VZAeRkx8ZHpiLjgqYG2tYaeGVsC5iIezlQvZm+FBdhTWYqZPqaMnwq8jao36+kCNuN43YsFom4bMT1lj7Jj+sNIiJqlaXGaBqlNaNSzZZLn/wPlkbZamuluE7yuZkZmOAWsFsOljKwmj2PrWsegJE0ARmZedjofUol+Vjm9prBDJZ79+7F+++/H/BNPo+IiEJHyrTZyH1kmVsFjOotdDZsBkrGJ4xBqt/JLrAmO833sBCfvHozmzHvnzplgnF/4rQFRlWU8fqyt/e+LOxdKKuPnFVAXpJTMdXZkOtlx44deP755wO+yecREfUkFko0Zc+iW29eC4IdLNtObt2oxA8+x162j3fpUTCDZXvIJJPBkogo1HhVwLTVW+gP1ZvoD6MB1224yPbMNpLNkk0obPH8RNy/Pc1ryIv7sJTlyCpebFQmzUl3n1PBOceBICuGRKpc1KxCCujbty9SUlICuvXu3RufffaZegUiop7BIommDASZ2O5HSWpnBMuAxo0U5GAZFrgCpvtkBIHz1UMavGApg9+FF14Y8I09mkREoUcO4UD2SiN+GMM7VG9gl0vKwoKlbtU7PpR+UAj4Oj9jnoQ0c1KgFudhkA3QIlyL++0LzWsLI6YWiNzYj3jdntg5fvx4fPfdd+oViIh6Bv0TTWM22WXGpEDuk/G0pnuDpWdi2NrYy+amIjVZbUpGye9E3z2Vho4Fy/aQAfb48ePGjYiIQohI8GbPy8PG1Z5DNtqtg9U0LTfylmLTWngOP5GMSZCKMFvEwdYapeWkeoVTZKVQKYp2ug1jkRVAO4vEUafASn9bk5iYiKioKDbUElGPoneiKZPMJ1OxLaBJDYQgB8s1u/0MDEbvoT9SkJq5BkXFaleSZUAFnkFNJsmtlfx2R7CUTjrpJOzatUvtERFRqJDj+vOyPYdstEsr1TTNlSJ/tVvjqEgY52c7E0lZBuu9lFfzeCl5DzXxSb722gwsMK4LEpE6qqkCSvaSrnEOlTHmZ/C/9NcfsqGWiSYR9SQaJ5qyt661gf6tC1awTEwRqaNH0tYaWbab59GbKAPfGqNX0j1YmjPo5mU2lbg2Pc7JnDDIo4fTXTcHS5YAERGFoPSZWJLpNVlduwQ46/laNfeAvBlLszgbmPeiqCAXE90DuZxNtoVqH/cJhZy3piTVjsVqbgPnb5c+Vy4DZj4nTcTUbarcVs7PEOxqKNlIy0STiHoS7Utn8zI9A0Zy8iz/1oUMVrBMn4hcn0um+CYnNChAU8A0lkExApdXsEyfg21LtyOz2eMUY2Ihz9lum3RvsGSrLBGRFZhj+lud20DEouIn3Bt05XM8q4gSpy1vik8ej0/HnFYqjtyHsXjw+Z5y3gHnze017Rux3bvBWD7fPV4qHhMKud2afn9f5yuPqce6zslc1qzjybYnNtISUU8T1iiobZeSEj+zqh5CLoWStnt2KxML+MG+GLP2zvR7nGlwyAmC5PjWli8E2utPf/oTbrzxRshxJ0REoSYpKbAvzfLyclRUVKg9cjLip2z89EgsdSarj9JQOGVbp8Trxx57DD/4wQ+MpJOIKJTExsYiLi5O7ZmYaPqlcwNP5+jcc37llVeMMqD09A4k30REmmKiSZ1Bxs5BgwYZM9ESEYUSJpoUNHa73SgBki2zgWgsr0Bj5Qk0nDgBnKhCo/jZIPbldoO4Qd4nbo1VVZgz9reIjWxErK0RfSIaxE38FPsx4hYd3oAYsS9v/aMaMLJfHWzhzf4pExG1CxNN6gwydh48eBBXXXWVOuIHR62KlZUiVlYbP2UcbVQx1LUtjm8YPA7/TrrMiJlm7JRx04yfMnbKmBktYqXcHhZXh6SYevUmREQdw0STukzDocOo3/sd6veIW5G4ie2Gg2Ui0/Q/GZxwVb7a8o8MmiPi64ykc0S/WmN7eN86dS8Rkf+YaFKXq69H/XfFIl7uE3FT3GQMFduygdZfn16Yhdl9b1J7bZONuSPiazGyfx1O6yt+GvGzDvG2BvUIIiL/MNGkoGusq0dDcYlIKPeqhFIER5FcylbWjgo00fQlshdwmgyiInCOHlCLi5KqkRrHFlwiah0TTepMDUeOGjGzYW8x6or2okEkmA37S9Eoks2OCDTRbElidL0r6Tw/sQbjhjhg68WqISJqGRNNCgpZolO79RPU2sXts8+Nsp7OEIxE05eT+9ZhUlINxg+pQfogh1GOS0TkjokmBZW41Kr78iszbtq3GVU/nSFYiaYvF4qYeZGInemJDqPhlojIHRNNareGo8eN4Chv9Tt3dbjV1R+dlWi6kz2espfzvMEOjBVJ55kMnkQkMNGkjpIVP3U7vjCSy7qPP0XD8XJ1T+fpzETTXXKfeqOxduxAh5F4psSyUoiop2OiSQFpOFQGx3+2GkGy/uvdAY2vDIauSDS9nRJfh4uTa/D9k6pw1kAmnUQ9FRNNao/GmhrUbvvMaJSt+/RzY2K7rtRViaa3s0W8vDKlClOHVWFQNMd3EvVETDSpTXKMZe1HqudSbHen7kg03U0YUoOrhlVjsgiecSyvJepRmGhSIBpKD6Lmtbfh2LjFSDa7S3clmk79bA1GsplxcjXSBjrUUSLqCZhoUovqtm1H9b9fQ53sudREdyeaTnJShCtTq/H9lGqjvJaIQh8TTfJH3Y6dqHnjbdR+sqPLq3586e5E093FQ2uMpHNKahXCw9RBIgpZTDTJk/jTy9LYmoLXur330hddEk13cua9ySdV4fsi8RwQxfIgolDFRJNaVFcHx/v/EQnmO9rFTp0STadT4+uMZFP2cqbGcskxolDFRJNMDQ1GkKx+9XU0lBxQB/WjY6LpNDimHjeOrMRPTj+BSE75ThRymGiSN7meZc26d1Hz9oaA1rbsSjommk5yeZSsU6sw47RKY+kUIgotTDR7ODkDnuO991FTuA4NBw+po/rSOdF0+l7/WpFsVuIHw7t2wgci6lxMNMlJ9lrWvPYWHJs/FDt6z66qc6LpJBPOG0aewIwRlZytliiEMNHswWQrrOzBbDx6TB3RnxUSTaeJSTW4USSc8icRWR8TTao/cBBVz6w0xmFahRUSTaf+UQ2YOcJMOBN6cygKkdX5SjR7qZ8Uouq+2o3yX/8BVc+9YKkk02o2lkTh9ncHYP6Wfvj8SKQ6SkREllNXh+qX/m3ETislmVZzpKYXln4WixlvDMRfv4hFVR1nDCIKNUw0Q1RjdTWq/r4SFQ/8P9QX71dHqbO9sjsaN7yRgP+3rS8OnAhXR4mIyApqP/8vjuf+3piFXfcy2VBRXBmOP22Lw3SRcK7cFaOOElEoYKIZghwfbkW5CJQ177ynxXTrPU1tQxj+9kUf3PRWAgr3RKujRESkq4ajx1H52HJU5i1Gw6EydZS60tfHIvDAR/G45Z0EfFJmU0eJyMqYaIaQhqPHULlwKU6IYCm3qXt9VxGOu97vhz/a41Fey//UiIi009iImtffRnnufaj9cKs6SN1py34bfvrWAPz9iz7qCBFZFa9+Q4EMlOveNXoxa7d9pg6SLv75ZQx+JoLme8VR6ggREXW3+j17cfzeBaj654vGcBPSR019GB7Z1hd3bOyP3ccj1FEishommhYnx1+W//5hc7IfBkptyQmCfr5+AB7b7jkbFxERdb2aV19H+e8eQsPefeoI6Wjd3t746dsDkL+bYzeJrIiJpoXJNb3K7/kj6nfvUUdId8s+i8UtImh+cogz0xIRdbXGmhpU/uVJVP3rFc5hYBEHq8Jxz5Z4/PY/8Sir5mUrkZXwv1grEsGxauVLOPH43zgrngVtORCFn72dgBX/5fgTIqKuItfFLP/tQ6j9aJs6Qlby0tcxRux867ve6ggR6Y6JpsU0VlWh4pG/oOa1t9QRsqLq+jDkbe2L3/0nXh0hIqLOUrf9c1TIUtn9B9QRsqKvjkXgl+/1Z0MtkUUw0bQQOeW6bI3lAtKh48WvY4yp3OXC1UREFHzVq9eg4k9LjIZaCg2yofbhj/uqPSLSFa9uLaJu5y6U3/sgGkoPqiMUKuRU7te/PhCfctwmEVHQGOMxFy5Ddf6rHI8Zgp7Z2Qd3buqv9ohIR0w0LaDmzfWofPjPaDxxQh2hUFNcGY6Z6waicE+0OkJERO0lS2SN8ZjbtqsjFIpeL+qNG9YlqD0i0g0TTZ01NODE8mdR9ezzaOSkPz3CXe/3M2amJSKi9qnfu89Y9ovjMXuGTw7ZcNkriSh3hKkjRKQLJpq6Eklm5V+eguO9zeoA9RRyrc3ffNBP7RERkb8aSg6g4sGFaDzB8Zg9yYET4Rj30hB8czxCHSEiHTDR1FFjIyqX/Q21Wz9RB6inWf1NtLHeJhER+UcmmeV//BMaKznMpKfKLByErQdtao+IuhsTTQ2d+Ps/Ufsfu9qjnkqutzl/C3s2iYjaIifKM5LM8gp1hHqqG99MQFEFezaJdMBEUzPVL/4bjnc3qT3q6V7ZHY1Fn8SpPSIi8iaX/qpgkkluphQMQsmJcLVHRN2FiaZGqtesQ3XBa2qPyPTU57H4x5dcnJqIyJuxvvQDf0LD0ePqCJFpqkg2D1XxMpeoO/G/QE3IXszq5/PVHpGnBfa+eOGrGLVHREQNR44aSWaj+EnkzdEQhp+8ORBHa3ipS9Rd+F+fBuR4TDkuk6g1v/8wHvm7mWwSEckks4JJJrVhb0U4/ve9/qis5dInRN2BiWY3q/3kM2OGWTnTLFFb7tkSj4Jvo9UeEVHPI8tkZZIpy2aJ2iJnob1rc3+jh5OIuhYTzW5Ut2MnKhc/IaJmgzpC1La7N/fDa0W91R4RUc/RWF+Pyj89xiSTAvLuvijc9X4/sEmfqGsx0ewmMkhWLnocEEGTKFAPbe2Lr49x+nYi6lnkzOz1Rd+pPSL/rdvbG3/8KF7tEVFXYKLZDYwW2cVPoNHhUEeIAnOwKhyPctkTIupB6r78GjVr31R7RIFbuSsG+d9wrgOirsJEsxtUv/wqW2Spw97d1xtLtjPZJKLQJ9fIPLHkKc5nQB326LY4/PdopNojos4U1iiobZeSkhK1RcFWt3MXKh5cqPZ6tvCUoejVvx/C+sQgLLaPeesjb3I/FhsGjMWRml44LG7y59FqcXP0QnFlOHaXR6CeQ1sNSyYdxiVDa9QeEQVDUlKS2vJPeXk5Kioq1B4FW+XCpajd9pna67nCbDb0Sj0JvfrGGbGyV1ysGTdjRdwUPz/tcyoO9BlsxE25rIe8HakJM37urYjAPhE/CZiYVIMnLjms9ogoGGLFtXtcnGcHCBPNLtR4ogrlv/59j1tYWiaQETIwppwkkstkhMvtockIi+hYwNsjks2vj0fgm2PiJn7+92gEdh7pea2Up8XXYfmlZRgUzcybKFiYaOqjZt27qHruBbXXc/Qa0N9IKiOGpZgNs2I7fPAgdW/7VNWFGeP7dxlxMxJfiZ8fH4xEeW3PK3C7fXQFfnlWudojoo5iotnNKh9daixn0hOED01CZHoaIs87x0gsu4rs+fyo1GZMZ/4f8bOnJJ4/GF6FBeO4nhxRsDDR1EP9vmKU3/tgz5g4LzwcEWeMROQ5Z8GWfjbC+vdTd3S+HYcjYRdxU8bP/xyw9ZjEc/FFR3DFSdVqj4g6golmN6p5+z1UPbNS7YWm8GEpiDz3HNguSEevDra6Bovs6Xzru9549dtoo+U2lP06/Th+MrJS7RFRRzDR1EBtHY7/5n40HDioDoSesJgYRJ49GhEiuYw8+0yE9Y5S93Sf6vowfCCSTRk31+wJ7XWbh8XV4elLDyOpD1cAIOooJprdRAZJGSxl0Aw5YWGwnXcOoq6ZYpT26KpB/Ct/VQRMGTg3lXR/IO8MUeGNePqywzhnIGczJuooJprd78Tf/gHHu5vUXmjplTgQvTO+j8iJ4zs8jKQzyaogZ+w8WBWavZxTh1XhkQtZEUTUUUw0u0N9vVH2I8t/QokMjJHjz0fva64SAVOP3kt/bVEttaE4xfn4ITVYfiknOCDqKCaa3eu1omh8u+W/mLFxGXDsmDpqfeHJQxB19ZWwjT9PZJvWSdzksJQCETdl7JRltqHm3nOPYcaIE2qPiNqDiWY3yH/la1z68p/UXgiIjEDUpRchaupkY8ZYK/u0LBKrdvXBK7tDqzToN+cexw0jWEJL1BFMNLtPbQNwy9sJxpjBxF6VWLL/KSRvXa/utSY5tCQqUySY555jVAJZ2b++isG/vo4JqYTz5L51WDm5DH1tnFSPqL2YaHYxObPb/7yVgHTHbtz92RL03rtb3WNNtosnIPpHP0BYXKw6EhrkWBSZcL6xt7c6Ym1DYurxDxEw5U8iah8mmt1nxX/7IG9rX7VnutW2DTdv+gvCyqxVsSHjZfSMa2GbOE4dCR2hlnBmn1mBnDGchZaovZhodrE/2uPxzy/N8kzxQePB6ldw0ZbngRprzXAmJ/aJmXUjIkaepo6EpvX7ovD0F7FGK7rVyR5N2bNJRO3DRLN7yHWSf/p2Ar6raD5uMR41eOLw00j58E2g+aWLXuT8BRdfiOjp1yIsJrQn1JEJ57LPYnGgytprdMreTNmrKXs3iShwvhLN8PsEte3CYNlxcorw+z+KV3uCCDpvRo7C5lMvwcTIYkQftEAyHx6O3plXoc8vZqHXoIHqYOg6uW89rj65Co6GMHx8yNrJ5vbDNowdVIuUWPZqErWHd7Bsi8PhMG7UMU9+Hof1xb4nbKtBBF6MPg+1o8dg7OHPEHZCzyECcnmvPnNnI+qySQiLDP0ltkYPqMUlQ2twqDrcqOSyqpr6MDQgDBcn16gjRBQIm82GqCjP72/2aHaS/9vUH68VtVyK+Utsxo+2PIVeR4+oI3qJOG04om+50Zi4oCeSS6L8+dM4Sy+JwomBiNqPPZpd75NDkbjxzYGo96OzMjqsDk8c+ztO++A1NGqyxqZcmqT3tAxEXXmZpSb6CSZZ9rzokzgjabOqFVeUIX0QG42IAsUezS6ybm9vPLa99dbwD5CC/JTvY0L/4+hXotfYTTnRT5/ZP0OvvoG16IeSU/rWYfJJ1Tju6IUvjlizRfq7igj0792IMQm16ggR+Ys9ml3vkY/7Ytcx/75v69AL+VFjUX7mOTjvyGfoVdm91y1y9vW4e/4PkWljjAqmnursgbUYN9iBfZUR+K7SmqW0FbW9cFWqtYY4EenAV49mz2xy62T/+LKP2mrd0cZo/DghG49mPghHkgZrUIaHIyZnFqKnZ/XoQOk0MLoB919wDP+XZt3JAZ7+vA/2n7D2uBkiCn1vFPU2ljQJ1AtVI3DZ2X/BzknXGjGsO0SMGoG4P9xtuaW+OsvZAx14+rIyXD2sSh2xFtlZIG9E1HFMNIPs+a9i8GFpYOP7XnKcjivO+jO2XjwDYV4tAV1F9l7G3vMr2M4fq46Q08/OqMAfzrfmOm4yyZTJJhGRzv6+s/3fU3W9wnFLzI14OPNhOIamqKNdI+ryixGbOwdh0aE94U975F14FD881ZprUz77X8ZNomBgohlE5bW92v3lVB/WC/8bPR13XbkQ5SNGq6NdI/ykZMTdPx8RpwxTR8jbdSJYvnjVIcRFWm+NrRe/jsGecuuONSWi0LZ6dzQ+Kev4BGyvVJ+Cy8csxvbLZgK2Th7y0KuXMRt79E3TjW3y7ffnH8NPz7Deus5y9vmXvzFXDSCi9uO3YxCt2NkHu4937IJ+oyMJV536AF6/6n/RGO+5jlhnCD85FbH3zkNYP7cZcsmnM/rXYssPDxjjN61EzqL76rdsbSciPb0SxAt6OWvoz23X44GMR1GVeoo6GmQisezzv7fCdtF4dYBa86u043hw3FG1Zx353zBuEnUUE80gqRUX82tamWU2UH/AZbh50mMoTr+008ZL9koZapb89O6ecl2rKsg4iPMHW2vSD5loVtdx3C0R6eWdfb3xnwCHm/hjbdVJmHzG/8OHV/wPEBXE8XYiHveZ/VNEjj1bHSB/XDO8ynKzoG89aONYTaIOYqIZJGv29Ma3HezN9PZ1bRx+NOiX+Ns1v0fd4MCm2m9Lr8GDEPfruSG/kHRn+dtlZZZKNosqwvHqHv6tiUgvqzux16hRJIV3RPwAv8lYiPJTzlBHO0C8XsytNyHy/HR1gAIhl9xaNFHPJd1a0pn/Pol6AiaaQbKmEy/il9eMQUb6n7Fj0g+ByI4ns70GDUTs/DsR1ofjDzrCaslmIRNNItLIR6U2vPld5/cYvXtiCK4auQAbrrwdiGl/3Iv5nxtgm3CB2qP2mJxSjfnpx9We/t4t7o0t+4Pf407UUzDRDAI5aHxjSeeWn1Y0ROC2mB/jwWseRcUpo9TRwPUa0F8kmXPRi2Myg+LRCUdwzkBrJJv/OdD5/06JiPwlJwHqSr8Ouwq/umoxjpx+ljriv5gbp8N2yQS1Rx3x45GVxmzuVvHvb9koT9ReTDSDoDN7M729WpmCK0c+aLTMNsbGqqP+CYuLNZNMkWxScPSPasAD447hpNh6dURvnBSIiHTw5dEI/Ht311/Abz4xEFcP/z1em/JLNMbFqaOti7rsItiuuFjtUTDI9akzLLLO5iu7o/HFkU6exZgoRDHR7KADJ8KN8ZldTbbMzrnyz9ifNlEdaYOcwGDubKNsloLr5Lg6/PKscrWnN5lo7hIXeERE3ekVkWTWN6qdbnB/46X43+8vxoGzWp85Vk6a1/vH16s9Cqb55x7HmQm1ak9vMtkkosAx0ewgmWQed3TPx2iv7I/rhvwfVmXdi/pBieqob72vmYKIU4erPQo22TIry4F0J6/r2KtJRN1JNtDqcOH+sYih1ybfhRcz70ZD3+bDSeSM7LF3zEZYRLg6QsHUz9aAX489jtjIbmxx8NPqb2Kwr5L/DogCxUSzg7qybLYlf6kaixsm/BlfTvwBEN78izB8WAp6Z2WoPeosslfzzAH6t86u64LJNyytJB+zkpOR7HFbDLvHfbOQX2I8uluVrp5lnt/t+SgV/8u/PRmLjRMl0tc7+6JwpEafy4+FtRfg1sv/gr3nXGJU/zj1mf0z9Bo4QO1RZ0gb6MDdY4+pPX2V14YZySa1zL7QPWaat1mrSz3vW6hDgLJjsTo/I17aF6sYSp2BiWYHyPWVPtekbv+76ij8NPZ/sGjawx6LVIdFRRkLS7sHT+ocslXWCiW0e8ojsOUAJwXySQac9BysUbt+cSafXR6oSrFpLbDEXozi24qQlpyGHCzBTK68QJrT8ftnZ1UcZgyegxXX3Iu6AQmIuuJiRKSNUfdSZ8o6pQqzLDA50PucfbYFZiNn5iNq10/O5LPLG0ftG5E3rwDFxduQ+qQ4h8w85N6WhdbrAqm9whoFte1SUqJBU70F3PNBPPI1bOGKDm/AHxxrcOGmlYi54TrYLmp9DAoF15LtcVj6WWATNXW1W0RQvzPNGuNKu44MliJZKxCbmUuw7YmmwGNfuBiYOwe+cjjZq5iWLVJTr+eQtSUlBbZ2cXl5OSoqrDOTZneRQ00uXZ2I6np9Gz/H9q3Es98/HJTlxMh/Oev7G8uJ6Cx/ykGM7Fen9sggG2hFsiblFhRjjjNQluRj8QcTMGear6goexUzIZ/l8RyytNjYWMR5TbLGHs0OsB/Us1eoqr4X5oVfjSdmPsoksxvcPKoCp8XrHYje388ezUCkO5NMr9JZ2SJrJJlSQQ7SxH1GqZCvElsfx5qXGjUvyXWVxzpvztIjGdzdj4ubs0zJxfWezpseJb/Uc31wwKZ1kilNH13LJLMb3DjqhNrS1yYuEea/pCxXkulROmvEJTPJlPIy5X3m8BRfJbbNjjWLa273uTSVx5o3Z+wze189nuscGuOmWWxu9vrkLyaa7fRJmQ1F5XoPDL/6TA5c7w6yhPbmUXpPDCSnapfLC5C7REyYMtXcdE8aO00pinaqTZc1yElvCnoy2LkSWS+le7errSZrstOaypB8lgHL1+c4Tuo+mzVv5LpwSA2uPtkay26EmnGDa4wyWp29z2EnzaVPRK7adE8aO01xUfPhLY9kNsVrr0TW014UyaolD3nIdA19aaEMWLw+x3G2DxPNdvqoVO9a/R+ddgKjLTAxTai69pQTmJBUo/b0tF7zEqXukDhtOQrmqR1BJm6yNbOlxCx9bjG2LVXJqSydLS7Gcp9lQr4kIuuJYhSL55i3AhWs87BRvp8IlstUsJu6dJt6zDYsUZNHy3Ntem6x67zzNsgni2D5pAqzxlgU9dxM81DekwyY1D3e1Hwysps0byQMdTeMrESkxlem75dE4Wg3rTSgr3TMsS+BioSCSNxkL2BLiVlSFpa74p1ZOltc7Htoik/pc1xxT96cMXjN2k3G+9lXORtYc1HgfFyBc0JMca5uzy12nndBITbJHk/7SnP4jDhqzH9gPFedaUEOVrKRNmD8r6WdNms+KPxHp+pfghLqbj5d7wuW94rZMuuLTB5lcHFPOPMyO6fk1LMs1qsF1tVqm4vZruRVJKfTVDj2Kh/ybIF1ttqKYDnDGb7Fc29zBswi8QiirmU/aENZtb6XHXKZqos0byAMdd/rX2skmzp75zvGzmaM5NEtcZNkZVCnlJx6lsV6Vv00VQpNXTqzKXlNz0KWGnbvURbrVfXjqhSaN9v1eKTPdDXSbt/LJtpAMdFsh2OOXlqX/7A3Uw+yR1P2bOpKXvSxZbZlRsLpCpprUPhBkAOMfbErQJo9lk0tvJIr4GWmIsXcciMCrTNAqp5U98QYJUVoXlhL1L3e3ad3b+ZPLLAWck8g16RO6N2g9vTDaqBWqITTFY8e2RjkMlpZ2upslDV7LF1VRYam0tgxKc2ri2TjrrNR1uhJ9eiJFc/e7Z52UjDwKrMdtC+bZW+mNn54qt7jTdgy604GsJbHlvgKWi1KSoW5MEJTglr6QWELLacFZrmtV3KYeEGGGQALcjDfNVZUnONqcYaux4pAa8x06zXeM2kCMowW2DXIWeX8jdzLaSf6X6ZEFCRvafx984PhVThrIBtodTC0T72Infpex2ziZHqe7Itbns/AZ0Npy1KGq7TPlaDasbGlah27WW7rmRymY6JzGEmmWzy35xtVSc7HysZdY6Zbr/Ge6ZNUc+8jy5qqmNzKaTMuCOA6gAxMNNtB55JDGSzZm6mPswc6cGVqtdrTD1tmvamxJc3KanIxsYXMLDFFrbXnMYFQClJVqY1znGdLk/oYkwx4vJeSlIXZKmA6XyNZrpW52zxmcp6vWpbFxa1M1vn6rse4l9MSdY1dRyOMNXx1dc1wNtDqRF7LRIU3W31PCydqwzhzu5emGGXenL2GU6dMENHIl6YY6T6BkCueumJbS5P6mBPbub+XU/oMZy+lWzzPLDSOOLnOVy3L4uIqk216fddj3MtpyW9MNNvhPY2nt2aw1M81J+v7N9l2KFJtkUzOXLPOujNKU1uZqCB9jmfZqkEkeve5l+TkosCrRCdx2gLXuA+zddazdFaS5bverz11eIqRhC5wKxeSrbPNzkFOmOCcxMBFlhotZ7CkLrftkL6VQJcMrcG4wQ61RzoYFleHaRrPQMteTTdus866k6WpLU+O5x0jFa942jy2pWOOe1ybV+BVOivI8l2veAuMQaqIe+lz3eNs87hsnNcTTRPnORnDW+aygbY9whoFte1SUtIJs16ECLkkRNbaQWpPLzJYLpl0WO2RTm55OwFbDuh5ofXutAMYFK3veBiCMa4kbW0GthllstQVkpICy8bLy8tRUVGh9sjbfR/G419fxag9vTw64YjWlSc91SeHbLhhXYLa08v5gx3422Vlao/0JCcNEhmjSHiNMlnqdLGxsYiLi1N7JvZoBmjHEX1bZXXuOevpdO5p3nGYvZqWIEtzuY4XWdTnmn7P6D68oSfT+W/DuGkdsjSXa0d3HyaaAfryiJ5jTBgs9SbHm6TG1qk9vew4rPfkViTLbJeb5UHOtb6ILEbXC/OrT2bc1JmuDeiVtWFajzkmSa6ZaZbKmutLU3dgohmgXcf0/GKZwiRTexcl67k+2+eaNp6Qk5wNV00mxMkIyIJ07v25bChjp85k3BwUXa/29MJeTc3ZF6vJhDgBXndiohmgXcf0/GIZP4SLTOvuEk0TTQZL3cnJCYpRLBfD5mQEZEG6ls3KKqAhMXomMWQKDwPOT9RzoqYdRxg7tSYnxJNxkxPgdSsmmgE4XN0Lh6r0+8jkcianxetZlklNLkyq0bJ89mBVuLjxq4CIOoeuF+STU9ibaQW6NqTr2oBCpBNeXQZA17LZCezNtIzLU9irSUQ9i64X5JcmM9G0Al0bBBg3idrGRDMAupbNyp4ysoZrhuu5LhgnBCKizqLjBbksm+0d0Wx1N9JQbGQjxg3W7zqHEwIRtY2JZgB0nHG2d3gjztN0/AI1NzK+FgOi9FuzkhMCEVFn0LXX57xENtBayUWaNqizV5OodUw0A/DVcf2+UOSiwWQtp/XTb5xmcSUTTSIKvuIT4WpLL6f25bwGVvK9AbVqSy9faTqkikgXTDQD8OVR/b5QOAmQ9eh4gcPJgIioMxw8oed3i44NftQyOemhjo7WMHYStYb/hfipojYMVXVhak8fp/TV88uXWnZqvH5/syMiWNbqV9FLRBZ3qFq/Hk05fEHHIQzUsj6RjRgWp1/jwLFaXkYTtYb/hfjpqEPPj2oEezQtR9eSrUNVepa4dTc52cNnZZE4qOEFM5HuSjWslmBvpjXp2Kt5tFq/DggdlIsEXI5f1bESkLoWE00/Ha3W86M6lYmm5eh6kXNI03/j3eUfX/bB9/+diKmvDsL0NwbikvxE3PRmAjbvj1KPaIkdi5OTkex+W2hX93WXUuTfnoxZq0vNvdWzxHnNQn6JsUvUaXTs0eT4TGsa3V/DRJOlsx6+PR6BuZv6Y9yLg3H96wORtXYQRq9MwqPb4tQjWmbGJffYqUGMsi8W57FYRHVjx4zt3R7PrYX/hfhJxx7NoX3qEc3p2S1HlmzF2fT7u7HHrskD9ngssPfFvkrPz8R+0IZZ7wxA/jfR6ogXIyhlAgXFKC523rZhCYpEqqePxGnLxXktR1aSOtBhMgAzcaXmdByjmaphCSa1TccJgVg62+STQzajUfaNot7qSJOnv4jFLSJ2+mY2hKatzcA2V9wUt4IxKCpWD9FCOubI85qbrvY7zkiuQzxx5X8hftKx1YrB0rqSYvT723FCINPKL2OMW2vu+aAfvvaebbAkH7Myt2OJvRhzPOJQIrLmZon/J+p5dGzASoqpV1tkJQm99RtXyx7NJrPX9zfmM2nJlv1R+MOH8WqviX1hGnJGFaD4Ca84mT7HK5aSFfG/ED/p2KPJyQysK7mPfhc6HKNpWvHfPmqrdf/c5fk4+6ocrJk3249eQu/SWmdZjslo4bw9H3a3MiKz5NX9ee69h01lsfaFzvvFrbVWUo9yIMl8DddzPe4z33ex3fMxi50PUL24eViDnHTv51JP1tAIlGlYkq/j9y+1rb+GiaacJNJRz3GaL38Tg2N+XCc//1UM9rsveVSSj2WPTMWSGW1nlN6ltc6hICZnnHKPk2Ys8niee1x0xkHZSOx6TmuVOZ5DUAzGazif63mfM5aXuj9G7pv3mr242WuARzKbPTeUMNH00zENW610bN0j/yT30e9vp+OkHV2tqCLCuPnjdY/yoFIU7QRyJ7URLI2A5llau23pdmR6J2cFOViGBap8KBdrstNEIFqGVLv5nIJ5Iqm7zxmwTPIxGyc5X3cbluwUwcvfkpySTSiask09V75+HjK9npuXOR+4z7x/29KpYl+dc/occawAuRAXC8b5zQEboUkqq9Gz8YqJpjXp2rjO8lngwwM2tdW2rQfdHltchDWZGZjQRgOtbET1LK0twBgR87yTs7zMjZho3C9iYKaIYyKBS9s923yOfQmmiqTO1UhqEI+5D1jgfN2CMchJ938YiH2DDOfqueL1kT3f87kilqdtmGjeL+Ok2J9vnHMisp4wYynmFRj3L58WmnVP/K/DTzr2aOrYukf+0bF0VsdJO7rasZr2tkzvRVHBVKQmq90WmL2eBR7lQInTFhgBcaN78MtcggXOoJM+U9wPTF26wNVbmj5DBMyCIvGubjxeVwSx23KBRzb617uYlIU5bkEufZJ47k7PcaXu7584bbZILLejiGMyqRWlGo7P7B3eiP6aJizUNh2TzSOceTaga2T3cuPSvduBUamtDy1x9nre515am445shF27SaPOJVb4GzoVDFQRKoC55hKEedmzwO27/WIbJ6va8TbNSj8wDOBbUn6XLeG1aQJyBDP9RxX6vb+4pEzRWK5ZrdH5A55TDT9dKTdF6Cdh6Wz1qVjj2Y1h/yiX4f+m/IOMN7MXs+pw1PUvlMiUkd5B7/mxqS0Goqbv25yqgihAXAv7xGJr7fm79/W70s9XbWGJYXszbS2ARynqaVA/i7NHuvVqNmM7PXEGKR693rKGOfd4OotMxXeEdeT9+ua8dh/7kNK0pBToA47+Xr/tn7fEMP/Ovyk4xcJW2Wtq1+Ufhc7kfw2QEpsPYb7ufTB1GFVaktKQWpm28mi1FbC2B2MsZ1GRa+zfEi2BBN1jK2XfrNrM25am46Jpo3FQDh3UI3aalv6IIfaEmldyhgReNpIFqU2E8ZuYAyFSUOha9iJLNdV95ELLy39FKHhJ9UnkgHTqqrr9fsHZQvnUjnS/4yqVFut+/HIE2pLMst01mSvbKVU1Wwpzdvg/QizpzPoCagx9sWf4GzHRlmWZOfYSgquSA0vwOXkLWRdJzT8+0Vq2KDS1bJOqcLp/dpefubHIysxKNqtod0oVc3DstYmwjF6LguxyXuoht8xLhD+x+PSDwqNoTChOrYyWJho+qlPpH5fJNUMmJZV1coU4N2FPZqmH556Aje1kWw+cuFRDPNeXih9jjmJTrNZ60qRv9CcuMcYW+k1GUHp6vnIwRLM7GCWt8ZjEgI7FovgnXubP8uqyN5Y9zEp5nMDx1Ja8hQZpl/crOIMoZam43UPE03TA+OOtTqka1JyDeanH1d7TonIuk9OopPWfPI6+2IzVhpjK70nwAskxrXGc+K7QOKx0RvrNg+C8Vzv0ll/hHgpLS8t/RQdrl/voY69YuQfHccuMVg2yT3nOH5//jGc4lVGe+GQGqy4osyrbLZJ+lxZdipnrXOO2TDHbRRNUsFQBMzl9iXYntl0vzGTnvf6Ye0wdels4D7n62Zi+9Jtfq5B5hbojeduxMSAS2fNSQ7yjN+Ly5uQiT2aFGw6/v1svBQzfK9/LZ6/8hAyT/aMj3KFhJwxFVh28WF1xIuMi86Z0lVcNG5PproSPhlbC0blIM11vzl7e8fX2cxFwaSNrvdMyx6DAn/jsatx2XzufMwOuHTWmFhPzkwrnh+qy5uENQpq26WkhFMJenvQ3hfPfenf+npdRbYeZQ13L98jq/iH+Le0QPyb0sm1p5zA/RccU3vkJNf8kotQD45pQJyW5epyMgJznAhLeIInKamN+fa9lJeXo6KiQu2RVFIZjiv+rde/STnh16ZrD6g9spqLXh6Mw5rNmfF6ZilOiuUkU+5qG8KwtyIcEWGNSI3T9LORE+AZ+SqHjQRLbGws4uLi1J6J7TB+0rF0tqrtcnjSlJatspzQwKchMfU4Lb5O0ySTSF86jvvWcYwf+U/H0uco/5Ze7lFkhZSsCNI2yaQuw0TTTzER+gVMHcsvyT/lGo7R1HGGSCKyLh3HfTtE3JQ3siYdG2llrx0R+cZE008xEfr1ZlTV8c9nVfsq9es+jGCiaVGJyHqimGWzpB1dx32XnGD5hhUVaxg3Jc5vYFHpc1DMstlOx0zFTzr2aH59nPUaVlVcqd/fjhMaEFEw6dp4pWvCQq3TtYGAsZOoZfzPw099bBommseYaFqVjj2a8VzInIiCSJbO6jhOkz2a1qRrAwGrgYhaxkTTT3007NH8iommJcnxQYeq9PtPL7kPB+0TUXAN1fB7hT2a1qRjA4GcLK4Xh/wStYiJpp8G9tbzIpy9mtajY2+mxESTiIKNiSYFi45/t5PjPNdaJiJPTDT9NDxez4tw9mpazzeajq1NjmGiSUTBNVTD9QVZOmtNWiaafRk3iVrDRNNPkWGNWrbMfnUsUm2RVWzZb1Nb+pCTXcmFzImIgknHBqz/HLChll93lvNRqX6xcxh7NIlaxUQzADp+oXx0UL8vXmrd1kP6/c107HUgIuvTsYFWsjN2WsrGkijUaLj+6fC+TDSJWsNEMwA61uLLltlqLj5tGQeremHnEf16oTk+k4g6Q3IfPS/E7aVRaousYH1xb7Wll2GxTDSJWsNEMwC6jtO0a1hOQr59qOnFDRNNIuoMuvZoshrIWnQsmw0PA1LjGDuJWsNEMwC6zi6m4xcw+ba9TM8xtZwIiIg6w8DoBi3X0pTVQLLChPT3xZFIfHlUv0n0OD6TqG38lg2Arl8qHGtiHR9rOD5TYo8mEXUWXXs1N+1n+awVfKhpYzrHZxK1jYlmAGSwlLPP6kYmmlxPU38yydS1R5NrgRFRZzlF0wvydXv1HPdHnjYU69kgwB5NorYx0QyQruM032DA1N673+kZLONtDRjVv1btEREF1/mDHWpLL+/u622UZZK+5N9ns6Y9z2cPZNwkagsTzQCNHqDnF8sbRUw0dbehRM+/0bmJel4EdrvGRtS88x5OPPkMKhc9jhPPrELtx5+qO4nIX+dr/B3DXk29vf2dvn+fcwcxdvpS/9VuVD+fb8bNpU+jpvANNB49pu6lnoaJZoDOH1yjtvTy5bFIvL2PAVNXWw5EaTmZgcREs7m6L77E0VvvQNXfV8Kx6QMjwXS8vcEInBULl6HhRJV6pBv7YiQnJ2PW6lJ1wJ0di5NnIb9E7fY4pci/3e2zKcnHrBY/Kwo1I/vVYkBUg9rTy+tFvdGg34gYUt7Zp2dv5sj4WvTT9N90dzrx7Asov/8RVK9ZZ8bND+yoemE1js35NRwb3lePcmfGhuTkxSJKNle6ehaSF/q6p4cwriuaPhv7wpY/K10x0QxQusYtWGyZ1de7mgZLSefehu5Qv3cfKv7fY0Ct7+qFum3bUfnoErXX3Jrs+T04ofRTUhaWFxdj+bREdaCjzIuVxT34ekR3ujbSflsewYogTcmSWV1Lm9MHs2zWW9Wzz8Px5rtqr7kTTz8Hx5aP1J63PGT25ITST+lzi1FcPAfpar/DZCJ7e76IoJ2HiWaA5IRAug4Aly2z+yrD1R7pQk6h/5qmFzJJ4t8zx2d6qn6pQGSTrf83Xr/rG9S88Y7ac5O5BEvmrUHOfZ37xU1kNTo30hbsiVZbpJPXNW48Z9msp7r/7kLNm+vVXsuqX8hXW55yly7B1Ecy2VgYgphotsMFmk5sUFMfhpe+jlF7pIsXvuojkk09GwDOGchg6a6xotLvcZiO//iOiBPmFiC3IAfz2yoLVeWjstzWuHm1KholQ/KYKsn19ZiWyVLdll7b6z6vMhzn+9rlT/UYs8TV/XmeZcA+z7XV8h7ztZouKpzlU76e21R2a5YNmTfPMtw05BQAeZnyvp5coqwvnSdOkZMC6Vx10hPtOByJf32l7/VM+iA9e+i7S639E7XVuoayI6jb/rnac5OShQVLp4rv8LbLQt3jgLx5JqfO2OIZU/xNYI1Ypp7j/Tzv+zyHfjjf1z1Omr+Lx/M8em19n2trQ0pcsVbtO4fs+Hyus+zW41qj6fM1PsfMPEBcr6TJ+zqpR5mJZjvofHH+jy/74JvjXOpEF7I3819f69tazkTTU8PBQ2qrbQ37WwoG6ZhTkIs12StdX+jNyACQXogMuyyDMW8Fo8SXvXciKQPAhonqMX4msEbwysT2pduaXnuKussIOJnidc3j8rZt6XZkeieF4n2WYYH5GON3SRMBahlS1fkW+Oq19TjXFl63JSWbUDTF7XznNS+jkuewcZJ5v3lOqkTZKMPdhiXi18o1fq/lyEoyn0P6kBPpDY7Rd73ef7GRVis6/z3OFP+WB0VzfKa7luNhc/WlB9WWp8RpC8T3eB6WtRjjzIQsEwWuWFFsX4Ltmc0TybzM+cB95mO2+ZnAyiQuLXuMCI9Nr52q7pNJWdraDGxz3ifi8RgRk7yTwrzMjZho3C9jkohjIoFL2z3b9Xq+em3dz7Wl122JfYMM5+q54vXRbOiOOIf7gAXu56Riq1GGK2KprMQyfq+5QSvI9cBEsx3OHqRvy2xFbZiRbJIedO7NlNITWTbrISJIjTTpc3wmSyYRLJ/Mw9SlCzwSonSjJ7QQmzyCRC4KXF/+6ZgpAuaa3XvVvm+lq5chb16Bx/jH9GlZkHv2VTlYI+6b4xZPnMF9o/upisCzwPn89JlGEud+vukzRMAsKILnmbifq3zd2eKI1+u2RCSLc9zPd5IIfjuLPBNZ9/M2zmkNiorVPlmCzg1b7NXUh+69mWlsoG0mzGZTW21r+bGJyLrPV7Kk2FciRyRG7nFGxg6jJ3SDZ6Bxj1dmLNqOolYrXexYmQ0ssbuNfxSvnSV3SvKx7JGpWHKfGUdNqkF57SaPOJVb4Hy++F1uE3HMPS6K15s9D9i+1zOJ9LwWUHHe63Vbkj7X/XwnIKNZXHQ/b3VO3rG1kzHRbIdhsXUY0U/fhXpX7YrBx4f8/4+eOofuvZmnxtfh9H5MNN2FpwxVW22L/N7pass3IxnzOeZkL4oKgDEpTSHLlIJU7yCRmSqOenEGCZ+lt6XYtHYNpg5v9iyhFEU7Rdhpdl8iUkc1D37emp+vl2bnKn8ftekP9xIgWc7jxdfv1NY5k150X3eQvZp60P3vcI7GnQ3dJfyUYWqrbREnO/sJfTCSMd/zHJTu3e4zJiamjGmWPDWPV02x1WfprX0j8jAGqb6qYYqLxLN93Jec6qPB1YuvGO7F+1yN38dv7mW35hASTz7Ou61zDjImmu10doLeLVrP/ZcBs7vp3ps5YQjHmPjS+5qr1FbrbBdPUFstcLa0Ptk8YMpWxtRktdle4vXlzK1muY24PdHU2tpaUthmwtgNzLEibiVAspyHQs5YzXuCZK8mlwnrXrr3Zkrs0WzOdtF4tdW6yLQx6NVGg65Z3ZODlb6qYUaluuJce5kztzbdXJUyrSWFfiSMXU7NT1DoGnZiDiHRDRPNdkrTvGX2taJoBsxutKkkCks/i1V7err8pGq1Re56X3eNCIZnqj3femddjYjRo9Rey4yyVMhxlUXqiGT2XBZ+4J1+yp7OjiagZu+kdxmRqaX7zJ7O4Ceg/v4+dmyUZUnuJUsUks5MqMVFyXo3cC3/PBa1HH7XbZ7YoXfcvGxoNYZoPNa4u4TFxSIm+xa151uvwYMQfdMMtdcasyxVjqvcpI5IRk/fIxubjbU0ejo7moAavZPeQ1eUlu6TPZ2dkID6+/uUflBoDIUJ3jJhnYOJZjudn1iD6Ai9V3l+XCQ6J+rC1B51FTlO9s+fxqk9PZ090IFzuX5mi/rMzUbUlCvUXpOwhP6I+dmP0XvaVHWkLeaYiDXZOWgqBnUe8xyHYl+Yibx5szs8kY2vkl37arNX1dd9pavni1R4CWZ2NMvzmqjI/9/HO/G2Y7GP0ll/sJRWf1em6N3A9cmhSCPZpK634r998NZ3ejeQX8YG2hbZLkhH7F2/RMSpJ6sjTSLlffPvRC8RQ/1ijMPPQ072GnVAUMc85j4oycd8ObZyRgcDmK+SXfHa+fKtfJbzmnEq9zb3cZvt4zFRUQC/j3fibcTyZqWzfujkUlommu00NLYeV6VUqT09yRKUZZr3qoUimWR+Jj57nV1+Estm2xI941rEP7EQcblz0OeXtyP23l8h/tE/tl0y682YGEhtO4ljxQVjkJPeNE7EmEkvGLO+yZJaNROf67V3q9ZRH/cZM+m5ld22W+YSzMb8pvfcuQTb/Pp9nBNAyJlt5XM3YmLApbPO5F2+Bpc30dlkETd1nn1WekokmjJ+UtfZeSQSS7frfb2S0LuBsbMNstIn9rd3Ie6B3yB2zs/R585sxC96EH2yb0GvfvHqUf4w44Jnk6449sQ2LNmZ6Yoz5uztwZlpXJbUGrO/u702VEVOs/vU7O3uE+u1V27BRGx0vWcOxhT4+fs4Jx1Uz50vInDApbPO5F2+RictbxLWKKhtl5ISRml/bCyJwu3vDlB7+nrq0sO4kOPxukThnmjc9X4/taevVzMOYnhffSe0ImsxpoUPVsKqiaSkwK5cysvLUVFRofaoNXlb+xq9VzqbnFKNRROPqD3qbL98r7/2vZk/Ou0E7jvvmNoj6ihzKbJgJaw6iI2NRVycZ0UfezQ7YGJSjfaTAkmyV7NB7yrfkLC3Ilz7kllJjjFhkklE3eX7qfqXH67b2xv5uzmpXlewQsmsJGMnEQWGiWYHXTVM/y+erQdtItnUPwGyuj9t64vvRLKpO44xIaLuJNfTHDdY/yqb+z/si/dLuLZmZ5JjYq3QQDuyXx0maT6RFZGOmGh20JTUavSN1H+KOjkD6j++1LtUycrkTHmyBVx3HGNCnSFx2nKP5VWI2vJ9zScFkmrqw3DPf+JRVs1Lpc7gaAjDQx/Ho8oCkxZylnYKvnTMcV9eJUTx27ODBkXXW6JXU1pg78slTzrBhuIoS7TISrI3s6+Nc/cTUfeS5bOy4Ut3B06EY9bb+s/FYEV/+LAvPj1kjUmXLmXZLFG7MNEMgis1n33W3f9t7IejNfyzB8vBql6Yvd46FyEcY0JEOugf1WCJXk3py2ORuOUdJpvBtGJnH+R/Y40xsLLMe/QAvddOJ9IVM44gGDfEgfMssiahLFWZtnag2qOOumT1YLWlv4uSajjGhIi0MW34CbWlvy37o7BkO+c6CIbN4rPM+7iv2tPfFItUrRHpiIlmkFx9snV6NQ9WhePmtxLUHrXX6JVBWLipC113qnUu6ogo9J2ZUIssCyWbcq4D2RNH7SeXAJtlod7hswbW4oeMnUTtxkQzSOQXkfxCsoqPSm24du1Ao4eTAme1JFOW/sh14YiIdPLD06zTSCvJnrhVu7jsSXss/zzWEutMu7v+1Eq1RUTtwUQziKz2hfTfo5HILByEPRUR6gj5w2pJpvQji13MEVHPkDbQgauHWev76f6P4vH3L9izGQhZdrzwE2uVHo8d5EDWKYydRB3BRDOI5BeS/GKyErnu48zXE7DlANcKa8sxRy9LJpnnJjpwVSqDJRHpyYpl/Y9s64tln8WqPWqNTDJl2bHVzBjBklmijmKiGWRW/GKSCdTt7w7Ai1+zHKglr34bjQtfss7EP+6uO4XBkoj0df5g2RhmvdL+x0QC9est/bjOZgsaGoE/ftTXkkmmnOQxw2I97UQ64rdjkMkvJvkFZTV1DcDv/hOPRyw0E1xXkWVSuZutNa7E6eyBDlwznMGSiPRm1QlX/r072lhn8/0SVgW5++Z4hNGA/c9d1iwx5thMouBgotkJrPwF9fedfZCzvj/2VoSrIz2X7On9xYb+lp744UenMskkIv2NH1KDy0+y5oRlcp3NW0VS9TeO2zS8va+3kWS+v9+ayfeEpBpcacEediIdMdHsBPILSn5RWdW7xWaQ2NiDW2jlOl+3vjMA74iAaVVygeksls0SkUVYvcz//23ra5TS9uSG2r9+EYv/3dAfxZXW/Qymn8a4SRQsTDQ7idW/qPaUm2Uviz6JQ0Vtz1kCZf+JcGNMiVzna8fhSHXUmm79XoXaIiLS38VDa/ADi5f6y1La/3krocfNefBhqc24ZvjTNmvNLOvtsqHVlu1ZJ9IRE81OIr+oQuHL6qnPY3HjugSsLYpWR0KXHEvyY/G7WnVMiTs5KRXXzSQiq7l9dAUGRderPWuSDZZyzoP/29QPXx0L7eXDymt7GcmlTK6tXgUVHdGIn5/JBlqiYGKi2Yl+eVY5Eno3qD3rkuNPfiUCpiwJ+joEg+a7+6KMHkzZkykvEKxuWFwdfj66XO0REVmH+f0VGhf7rxVF4+Y3E/Dsf/sYM7CGmsI90bhR/H6yXDYUzBZJphxyQkTBE9YoqG2XkpIStUUd9dLXMfjtf+LVnvX1i2rAj049gatPrsJp8XXqqDXJBPNf4u/zroXHYfry4PijuEb8fYio/ZKSAlszt7y8HBUV7A0Jljs29se6vaHz3Xx6v1pce2qVMQ5V9pxZVW2DudyXvIXS+tvjBtfg6csOqz0iao/Y2FjExXmWzzPR7AL3bIlH/u7QGq/RKwy4eliVkXBabeKjUE0wJTm+acG4o2qPiNqLiWb32nk00ugNDLU5AmSP7XUi4bxWJJz9o6xT8bSvMtyVYMqlS0LNM5eX4dxE6y1NR6QTJprd5GBVOH769gDsDsEvZ2ncYIeRcE5Krta2VFjOgLe+OErceuM98TMUyXFNz1x+2LiQIaKOYaLZ/eRyIXIm11A0JKZeJJtVuHhoNc7UuFxzU0mUsVyJTDBDdWJAWTL7izEcbkLUUUw0u5EsAZKlQKEsJqLRKD8Zn+Qwfp7St3sTnsM1vYzEcv0+kWCKm6MhtGfPvffcY8YkQETUcUw09XDbuwOMZCeUpQ9y4JKhNbg4uRqnajAkxX7QZlT+bBDxM9QnMzp7oMNooI3sZd1yZiJdMNHsZo9s64u/96AFnceK4Cl7O89KcBglKV0xLkUuSfLxIZtxe7/EhuOOnjHflZxhdtHEI2qPiDqKiaYe5He5LKGt7yF5gByKMn5wDU7vV4czE2rR19b5VUKlVeH4/EgkdpRFiuQyCp9ZfGmvQCy7+DAmJVt33XMinTDR7GY19WH46VsD8EmZTR3pOaLCG3H2wFqkDXTgApF8yh7PjjpU1csYN7L9sA32UnE7aENZdc+bSDm5Tz2WTDqMkeLChIiCg4mmPpZsj8PSz0JjZtNAjYyvxRkD6owG2zP612Ko+L4fGN3+5FPGzH0VIrEUyeQOmVyKn3Ld7J7optMrkTv2uNojoo5ioqmBLfttuOWdBLXXsw2IasCA3uZNToog91ubHKGsRiSWIkAagVLcHCJxJ+Dxiw/jIrbIEgUVE029yDUp5XIhBNjCG42E07jF1iOhlbhZckLFTBU7yTQxqQaPTTrCklmiIGKiqYl/7upjrNlI1FG/P/8Yfngqx2USBRsTTb3UNoZh+msJ+O/RnlPWSZ1jZL9aLLv4iDEhExEFj69Es+fVGWrghhGVuHFkpdojap/sMyuYZBJRjxAZ1ogHLjgGG3ugqIPuF/+OmGQSdQ0mmt3k7vTjxixzRO0h/+3kcDp2IupBvjeg1qjiIGovOfmPzsvJEIUaJprdSE7g0t1LgJD19Ils5AyzRNQjXTO8CrecwRJlCtwD445xhlmiLsZEs5v9/fIyDkangLx01UH+myGiHuvOtHJWBFFAfjyyElnDOdSEqKsx0exmCb0b8MwVh9UeUesWX3QEKbEcW0JEPZusCJKzrhK15ayBtZifzmVMiLoDE00NnJ3gwEPjj6o9It9+MaYcV5xUrfaIiHq2N64pRS+uckVtWDn5kNoioq7GRFMTmSdXGbOIEvnyq7TjmM1/H0REHj6+vgTRERxKQM3FRDZix0wu10fUnZhoakTOIsoZ9cjbb9KP4adncDkcIiJvEeIqZuO1B9A/qkEdITKHJX34w/1qj4i6CxNNzch1EeX020SSXDfuhpGcwICIqCW9wxuxNvMg10YkQ2pcPTZkHVB7RNSdmGhqSE6//fRlTDZ7ukcuPIqsU5hkEhG1JS6yAS9ceQjD4rhkWE82Mr4Wa68uVXtE1N2YaGpq3OAaPHN5mdqjnkbOLjt1WJXaIyKitshyyb9ddhin9+OC/D1R2kAH8qdy4h8inTDR1Ni5iQ78c/Ihjj3pYZ645DBnlyUiaofBMfX480VHMKo/k82e5MKkGvxjMhvniXTDRFNzZw+sxZOXHsbJfVkO1BPIQDlRBEwiImqfk2Lr8acJR40ySgp9smH2qUs43IhIR0w0LeB7/WuxaOIRI+mk0DQwugFbrttvlP4QEVHHnBxXh6cuPYyrT+YQhFB20+mVxlATItITE02LGBFfZ5RUZp3CoBlqzk90YP20A4izcS04IqJgkQ14eeOP4s60cnWEQkVUeCN+d94x5I49ro4QkY6YaFqInFXvgQsYNEPJjBEn8DdO+kRE1GluOaPCWDbslHgOQQkFZ/SvNRrerz+Ns7IT6Y6JpgXJoPmXSUeMcShkTWHi9uv047j33GPmASIi6jRy2TA5ju/KVE60ZmVyNnaZZJ6XyGEmRFbARNOiLhtajScuPoyLRPAkazk1vs6Y4OknIyvVESIi6mxDYurx6IQj+MUYVgVZUY74u8n1peUyNkRkDUw0LUzORPu4SDblYHiyhskp1UZr7IVD2EBARNQdZp9ZYSyBkhrHqiArGBQtZxE+gmzxdyMiawlrFNS2S0lJidoiq/jXVzFY/GkcjtSw7UBHssx51hkV+BHHlBBZQlJSktryT3l5OSoqeCFsJSUnwrH881is2hWjjpBupqRW4bbRlRjZj7PuE+kuNjYWcXFxas/ERDOEfFseIYJmH+R/w6CpkxtGnsCt36tAYjRbz4msgolmz/Huvigs/yIWHx+0qSPU3eSEP7d8r9JINInIGnwlmuz+CiFy3bAHLjiGxyYdwTlcj7HbnZvoMEqbf5N+LKhJZunqWUhOTjZvt+ejVB1vpiQfs8RjZq1u6RGlyL/d7TWMx89CvtHOZN632C63iYhC1yVDa/DsFWWYc1Y5+kRymanu1Dui0SiRfU78PYKbZNqx2Bk3xa2l2GZfKO9fLB7dAvtij+cbj1/o3BH3tRaTiXogJpoh6NKh1Xhuchn+L60c/aM4aL6ryWVo5BI0z1xeFvTJmmSSmbY2A9uKi1EsbtumFCLNGeR8yZwKZK/0HTTtK5FToLalpCwsL16OrMA6coiILE/OBH7b6Aoj4byKvWjdQiaWMsGUk/7IhDNojEbUTKDAjJvyNidd3efD1MztWOazgbYU+U/mqW1T+lzxenNbeTGiHo6JZgj72RkVRsKZdQrHBXaVjGFVeFZ85nIJmuArxaa1a5B7WxYS1ZHEabOR+8gy1Qvpg0wkM/OwsVmmaQbM3Hm5ap+IiE7vV4s/TTiKB8cdNWYIp84ny2T/n/jM5U1uB5t9VQ6wdFuryaW3NWs3Ne+ZlI2zyEWuyFmJyD9MNEMcy2m7xuUnVWPppMN4+MKjGNGlFycpSM1cg6JitdvMGMy+LRd5T3qV85RsQiGWYOYktW+QpUXO0lkiop7rmuFVWHG52bsml0Wh4BssPtfsM8s7oUzWnR0bH8nF7GnO5lk/TJktomMOVno10No35CH3tplIVfuSMZSltaoioh6OiWYP4Syn/eO4ozifCx0HzVWp1Vh+6WFjqvyLh3b2kiWJmDBlqmfS6F3+6kv6zGZB02jhnTLB1TNKRESe+kU1GOMF/3XlIdxxdjmXQwkSOQu7HA8rP9ecMRXBLZP1VlKE7ZkiNfR3bgNDCrK8G2hL8rFMJKwTWSVLFBAmmj3MtOFV+NvlZUYP5xUnVaujFKirh4nP8bIyY22v8W5rYu7duxdPPfWU2gu+xGnLUTAqB2nOgLkhFUvaLONRCeoGlWmqgBlQCy8RUQ81oHeDMXP4C98/iHnnHMfwviypbQ+59vev0o4bCaYcD5sgPldpx44dKC1tPfXrkIIcLMMC1/hMI4a21QuZPhG5BYXYpCp8zPLbmWCeSRQYJpo9lOzhXHzREWPCGjmGM1zOhEBtyhp+Av+YXIa8C4/i/MHNe4ZTUlKMn3Z755XSGJMPqIBZPDcVRQVTkZqs7myB+1jO0g8KsWbeRAZMIqIAxNka8T+jKvGiSJTmn3ucazv6SQ4nuXvsceNz++kZlehr85ykUCaZ77zzjtrrDJ4Nq+kzlmDqIxtbnlnWkI6ZS4GcVfJRsvx2KjIuYOMsUaCYaPZwcgkOOYbzxasOGgGUs9Q2lxRTjxtGVOL57x/CA+OOIa2Nsa6XXnopNm/ejJqazi6lFewbkZeZgQltzhRrBs3CD/KxMhtYMoNpJhFRe8hSzx+LmCB75n577jGcNZAJpy/f61+Le8Xn86+rDuHG0ysR3UKJ7IUXXoiDBw8aFUFBl5SKMWozUGYD7Ubkr16GvHmzOSM7UTsw0STDyH51RknQSyIgzE8/HvRlOawmNrLRKI+VpbFrMg/iN+cex5kJ/l1MnHbaaRg0aFCn9mqa7FicKScnaJqFtjWJF2QA2TkMmEREQRAhrqCmjziBlZMPGTc5nrOnJ52psXX48chKYw1pmWDOEJ9PZK/Wx2BGRUVh7NixeP/999WRYErHxHl5yHQrlZVlsP5V9ZjPzWHjLFG7MdEkD3IWOGeQWCsSrJ6WdMoJfX533jG8mlFqlMfKyX5sbQRJX2QL7datW3H8+HF1JEjUYtHmzVwXzO8p25OyMHsekDuJAZOIKJhkgilnqO2JSad7ctne64b09HSjV1OO1ww2OdykAJmu2Jkp9vxd+9Ios/WraoiIfAlrFNS2S0mJGv1MpBRVROC94ii8VyJu4mcokaWwl51Ug0uSq4O6btprr71m/LzqqquMn0RkHUlJgV1ZlpeXo6KiM9bPJSv79FCkiJu9sXF/lLEdKmRyKZPJi5LELUiN0TLJlL2at956qzpCRFYSGxuLuLg4tWdiokkBcyad28sisfNIJHYdi1D3WMM5gxwYM6DWKIUd3b/WmAmvM8jeTDkD7Y033ojERE4iQGQlTDQp2HYfj8BnhyPxmYidMn7uOGJDnUWmRZBricoe2tEidsqxlxe6zbYeTDJmyoqg0aNHqyNEZBVMNKlTlFX3whci4ZQ3mXjuPBqBb0VA1UFMZCPGDnQgPdGBs2RiKYJkXGTXRXbZOisnOJCBM1DOGWyJqOsx0aTOVlUXhk/KbPjkUCQ+FT9l8injqQ7OEMnkOSJ2yuRSJpbBrPZpjezVlDPQyl5NOXaTiKyDiSZ1mfLaXvj8cISRfO6rCMfB6nCUnuiFQ+pnbWPw1lOJiWjE0Nh6JPdRtxjz57C4OiNYdic58+zq1avVXmCmT5+utoioqzHRpO4gK4a+OhaB4spw8ybiZ/EJc/tITfCSULmk2cDoegyKbsCg3ubPgb0bMFZW/CQ4jAnxusvzzz9vxM5AE80zzzyTPaFE3YiJJmnjqKOXK/E8oH466v1LPuNsDR5JZT8uyUJEQcZEk3Qje0BdCahIPg9Vhat7WmcLbxRJpEoqjYSyHgkiqdSVHHZy7Ngxtee/+Ph49O3bV+0RUVdjoklEROQHJppERET+85VocnkTIiIiIiIiCiommkRERERERBRUTDSJLKcU+bcnY9bqUnNv9SzXQtTJyYthN46aPO9LxmL3Oz3YsbjFx3nel3x7vjgDJ/NcfD6vJB+zXOfjec5ERERdxr5YxChnPPKMaS3GJSOGtRQ3PWOfZ1yUWnkP41x8P8++0O2xHudMZE1MNIkspnT1fOSMKsDyaYlGIErLHoOC4mIUi9u2pduR6Qpcpdi0OwPb1H3FBbnIy/QVtGRAzIR4EfNxxQVA5izkO4dq2ze63bcNS5CD+a4k1zwX4z77Emx/sum98+8rRIZ9DtKN/URkPVGAMdnzm16XiIio04kYl7kdS4x4JBPETGxfus0V78Zkp/lMJu2rcrBGbTdjX4mi25xxsRgFo3KQttD5Iq29h/Ncmp630vk0Ec8zoWK7lD7HjOmu1yWyHiaaRJZix8psYMkMM30r3bsdmDdRJXMinbsgA1MLirDX3EPW3Czx/0r6RORiO4q8Ez2RSOZlLsFM54uIV5u5FMhZpYKbCHZzXPclYsKUqViz23yHvbvXIHeSujMpFWOc7y2CcOGUBcjymE8lHRPnrUHhB+7tt0RERJ2ndPUy5M2breLRXhQVTEXGBc7IKOMSsH2vV1wqyceynbnIzVT73jziotidsQRTH9moGnJbeY+SImzPzMAEFRtThk9V7y2S0yeBgrluLyoYMd31ukTWw0STyEqMpLApSJlBaJmrl7D0g0KscUs83XkG29YlpowBdhap3kl3nomuDJJ5G1QINAJoKlKMFltgtrNV1k36pFysWbvJx+sSEREFWyk2rXVrEFUNnq6GVBGvNj7inhRKsiInB2Num4lUdaRNxUVYY8Q/qZX3MBpkC7FJxWzZWDsmJdGoDiqcMrN57E6agIzMPGxkpkkWxUSTyEKMHsxRqU29lElZWG7PQGG6Od4jbfdsFLu3iKoxJvK++VjgeZ+T7OkscCvfMVpW89S2SY4bMceUbMTE4uWuZDVx2gIs2Zlp3pdeiIz7srB3oSzDdZbMeklOdetxJSIi6kxm72JqstoV0ucWowAqbiUvQ6q9KaZJziEh7j2WrTNj5tQpE1yxueX3SMecgjHIUTFblsrOSc7H/LUZWOCjcVZWEaWO8tHjSmQRTDSJLGbqcLPN1CAnC7gPWKDGiRRP2iiCl9s4TJmIqvsWiFTT98QCIvDJ8ZWZZuBLTp4PTMlV95lk0DTHmkzERvGYpokN5NhL530ikBabY0zmpLtPhOB+PqkY46t8l4iIqFOMQaorkZTjJ5OxcZIzbi0A7nOLaSUi6ZPzHvhqlPVJvl5a07wJrmOtvEf6HHVc3OammPMZ3JcFuE3e5z55kKwccg5XIbIaJppElmW2oube5j4Ocw4K5vkus0mctty4b5lbAHNxS0hlwjhBJIMePacuZlKK7JU+ElZ5PuYYE/tCt4kQ5NxCnMyAiIi6m30lcuA+J0Eisu4TMc0Y0mHH4vQcjGmpIsebUTGUZk4K5J6YtvoeXpzzGUAluEYM3oaMtZw4j0IDE00ii+n8lk3vMS3+aRpjUoqinW5jXmS5rMd4T/fWZSIios7kZxWNnANB/MhzVfekIadA7Xs3lsokM70Is0Vi6H+JrTe3+QzkGE/X/AqyXHYNioqNHYNHJRORhTDRJLIQz0l6zBlg81xLighyevRHcjFRRisRCBe7914a9zkTQLO0x9eU7sb4FLfWWPtC93Jb8bz7cppPOCTLjVxjTMwg6Zxd1pigyNk7akxm5JwwgYiIqDOlIDXTLWnzNSeBiGmQ4yvdS1pVz+ISkQjmyuW9ZI+lHKqilg+TS59gqY/Je6TW3kMdkWTlj2s+A9kg65pd1pw8yBxXajb8ygmDiKyIiSaRlRgBrGnGOlkOu21KIdKc4yFda4UJSalAdpprzId5n3NCAjlBgkpIZRB0W3g6TSSM255oKsdNGb4dmc7XkC28ct1Mj/ErstzIHGPifE76XHPdMNfrqcfLyYzcJ0wgIiLqPKpB1jk7uoiOc4zxHJ4xrWl8Zcu849ca9/iqbmbjbdvvUbp6lprPQB1IysICuWam8XiZgPqK1UTWE9YoqG2XkhIWhhPpSgaoZrPLBsq+GLP2zvQruAaPnCCo+Qx/RDpKSgrsH2l5eTkqKirUHhHpIxixRzbIrkTqE36O3wySoMR7oi4SGxuLuLg4tWdioklkOTLgpaFwyrYuThQ7wornTD0ZE02iECLLXmVHYXHXJoodYsVzph6NiSYREZEfmGgSERH5z1eiyTGaREREREREFFRMNImIiIiIiCiomGgSERERERFRUDHRJCIiIiIioqBioklERERERERBxUSTiIiIiIiIgoqJJhEREREREQUVE00iIiIiIiIKKiaaREREREREFFRMNImIiIiIiCiomGgSERERERFRUDHRJCIiIiIioqBioklERERERERBxUSTiIiIiIiIgoqJJhEREREREQUVE00iIiIiIiIKKiaaREREREREFFRMNImIiIiIiCiomGgSERERERFRUDHRJCIiIiIioqBioklERERERERBxUSTiIiIiIiIgoqJJhEREREREQUVE00iIiIiIiIKKiaaREREREREFFRMNImIiIiIiCiomGgSERERERFRUDHRJCIiIiIioqBioklERERERERBxUSTiIiIiIiIgoqJJhEREREREQUVE00iIiIiIiIKqrBGQW27HDlyRG0RERH1PP3791db/ikvL0ddXZ3aIyIi6lkiIiIQFxen9kw+E00iIiIiIiKi9mLpLBEREREREQUVE00iIiIiIiIKKiaaREREREREFFRMNImIiIiIiCiomGgSERERERFREAH/H1K/OeRzw9FdAAAAAElFTkSuQmCC)"
      ],
      "metadata": {
        "id": "3K3FtEwU4jw9"
      }
    },
    {
      "cell_type": "markdown",
      "metadata": {
        "id": "iJTgUJqpPKJ3"
      },
      "source": [
        "#### **3. Visualização de dados**"
      ]
    },
    {
      "cell_type": "code",
      "metadata": {
        "id": "NkN4P1tGSlFI"
      },
      "source": [
        "import seaborn as sns\n",
        "import matplotlib.pyplot as plt\n",
        "\n",
        "sns.set_style(\"whitegrid\")"
      ],
      "execution_count": null,
      "outputs": []
    },
    {
      "cell_type": "markdown",
      "source": [
        "O código acima importa as bibliotecas `seaborn` e `matplotlib.pyplot`, e define o estilo de plotagem do seaborn como \"whitegrid\".\n",
        "\n",
        "`seaborn` é uma biblioteca de visualização de dados em Python, que fornece uma interface de alto nível para a criação de gráficos estatísticos atraentes e informativos.\n",
        "\n",
        "`matplotlib.pyplot` é uma biblioteca de plotagem de gráficos em Python, que fornece funções para criar diferentes tipos de gráficos, como histogramas, gráficos de linhas, gráficos de dispersão, entre outros.\n",
        "\n",
        "`sns.set_style(\"whitegrid\")` é uma função do seaborn que define o estilo de plotagem dos gráficos. Neste caso, o estilo \"whitegrid\" adiciona linhas de grade brancas ao fundo do gráfico, tornando mais fácil identificar os pontos de dados no gráfico."
      ],
      "metadata": {
        "id": "V8RLb36nD7K2"
      }
    },
    {
      "cell_type": "code",
      "metadata": {
        "id": "duYfStSTSs4f"
      },
      "source": [
        "df_adimplente = df[df['default'] == 0]"
      ],
      "execution_count": null,
      "outputs": []
    },
    {
      "cell_type": "code",
      "metadata": {
        "id": "ldEBuNiiSxVE"
      },
      "source": [
        "df_inadimplente = df[df['default'] == 1]"
      ],
      "execution_count": null,
      "outputs": []
    },
    {
      "cell_type": "markdown",
      "metadata": {
        "id": "u9kFH-ADSEVO"
      },
      "source": [
        "##### **3.1. Visualizações categóricas** "
      ]
    },
    {
      "cell_type": "markdown",
      "metadata": {
        "id": "AAKovEBSqSVu"
      },
      "source": [
        "Nesta seção, vamos visualizar a relação entre a variável resposta **default** com os atributos categóricos."
      ]
    },
    {
      "cell_type": "code",
      "metadata": {
        "id": "O2bBTZ2PS85K",
        "colab": {
          "base_uri": "https://localhost:8080/",
          "height": 206
        },
        "outputId": "d627d4d7-cfe7-4531-cb92-c847df5e6f89"
      },
      "source": [
        "df.select_dtypes('object').head(n=5)"
      ],
      "execution_count": null,
      "outputs": [
        {
          "output_type": "execute_result",
          "data": {
            "text/plain": [
              "  sexo         escolaridade estado_civil   salario_anual tipo_cartao\n",
              "0    M         ensino medio       casado     $60K - $80K        blue\n",
              "1    F             mestrado     solteiro  menos que $40K        blue\n",
              "2    M             mestrado       casado    $80K - $120K        blue\n",
              "4    M  sem educacao formal       casado     $60K - $80K        blue\n",
              "5    M             mestrado       casado     $40K - $60K        blue"
            ],
            "text/html": [
              "\n",
              "  <div id=\"df-9cd92d11-a86c-4102-8b7a-4aa9538f221a\">\n",
              "    <div class=\"colab-df-container\">\n",
              "      <div>\n",
              "<style scoped>\n",
              "    .dataframe tbody tr th:only-of-type {\n",
              "        vertical-align: middle;\n",
              "    }\n",
              "\n",
              "    .dataframe tbody tr th {\n",
              "        vertical-align: top;\n",
              "    }\n",
              "\n",
              "    .dataframe thead th {\n",
              "        text-align: right;\n",
              "    }\n",
              "</style>\n",
              "<table border=\"1\" class=\"dataframe\">\n",
              "  <thead>\n",
              "    <tr style=\"text-align: right;\">\n",
              "      <th></th>\n",
              "      <th>sexo</th>\n",
              "      <th>escolaridade</th>\n",
              "      <th>estado_civil</th>\n",
              "      <th>salario_anual</th>\n",
              "      <th>tipo_cartao</th>\n",
              "    </tr>\n",
              "  </thead>\n",
              "  <tbody>\n",
              "    <tr>\n",
              "      <th>0</th>\n",
              "      <td>M</td>\n",
              "      <td>ensino medio</td>\n",
              "      <td>casado</td>\n",
              "      <td>$60K - $80K</td>\n",
              "      <td>blue</td>\n",
              "    </tr>\n",
              "    <tr>\n",
              "      <th>1</th>\n",
              "      <td>F</td>\n",
              "      <td>mestrado</td>\n",
              "      <td>solteiro</td>\n",
              "      <td>menos que $40K</td>\n",
              "      <td>blue</td>\n",
              "    </tr>\n",
              "    <tr>\n",
              "      <th>2</th>\n",
              "      <td>M</td>\n",
              "      <td>mestrado</td>\n",
              "      <td>casado</td>\n",
              "      <td>$80K - $120K</td>\n",
              "      <td>blue</td>\n",
              "    </tr>\n",
              "    <tr>\n",
              "      <th>4</th>\n",
              "      <td>M</td>\n",
              "      <td>sem educacao formal</td>\n",
              "      <td>casado</td>\n",
              "      <td>$60K - $80K</td>\n",
              "      <td>blue</td>\n",
              "    </tr>\n",
              "    <tr>\n",
              "      <th>5</th>\n",
              "      <td>M</td>\n",
              "      <td>mestrado</td>\n",
              "      <td>casado</td>\n",
              "      <td>$40K - $60K</td>\n",
              "      <td>blue</td>\n",
              "    </tr>\n",
              "  </tbody>\n",
              "</table>\n",
              "</div>\n",
              "      <button class=\"colab-df-convert\" onclick=\"convertToInteractive('df-9cd92d11-a86c-4102-8b7a-4aa9538f221a')\"\n",
              "              title=\"Convert this dataframe to an interactive table.\"\n",
              "              style=\"display:none;\">\n",
              "        \n",
              "  <svg xmlns=\"http://www.w3.org/2000/svg\" height=\"24px\"viewBox=\"0 0 24 24\"\n",
              "       width=\"24px\">\n",
              "    <path d=\"M0 0h24v24H0V0z\" fill=\"none\"/>\n",
              "    <path d=\"M18.56 5.44l.94 2.06.94-2.06 2.06-.94-2.06-.94-.94-2.06-.94 2.06-2.06.94zm-11 1L8.5 8.5l.94-2.06 2.06-.94-2.06-.94L8.5 2.5l-.94 2.06-2.06.94zm10 10l.94 2.06.94-2.06 2.06-.94-2.06-.94-.94-2.06-.94 2.06-2.06.94z\"/><path d=\"M17.41 7.96l-1.37-1.37c-.4-.4-.92-.59-1.43-.59-.52 0-1.04.2-1.43.59L10.3 9.45l-7.72 7.72c-.78.78-.78 2.05 0 2.83L4 21.41c.39.39.9.59 1.41.59.51 0 1.02-.2 1.41-.59l7.78-7.78 2.81-2.81c.8-.78.8-2.07 0-2.86zM5.41 20L4 18.59l7.72-7.72 1.47 1.35L5.41 20z\"/>\n",
              "  </svg>\n",
              "      </button>\n",
              "      \n",
              "  <style>\n",
              "    .colab-df-container {\n",
              "      display:flex;\n",
              "      flex-wrap:wrap;\n",
              "      gap: 12px;\n",
              "    }\n",
              "\n",
              "    .colab-df-convert {\n",
              "      background-color: #E8F0FE;\n",
              "      border: none;\n",
              "      border-radius: 50%;\n",
              "      cursor: pointer;\n",
              "      display: none;\n",
              "      fill: #1967D2;\n",
              "      height: 32px;\n",
              "      padding: 0 0 0 0;\n",
              "      width: 32px;\n",
              "    }\n",
              "\n",
              "    .colab-df-convert:hover {\n",
              "      background-color: #E2EBFA;\n",
              "      box-shadow: 0px 1px 2px rgba(60, 64, 67, 0.3), 0px 1px 3px 1px rgba(60, 64, 67, 0.15);\n",
              "      fill: #174EA6;\n",
              "    }\n",
              "\n",
              "    [theme=dark] .colab-df-convert {\n",
              "      background-color: #3B4455;\n",
              "      fill: #D2E3FC;\n",
              "    }\n",
              "\n",
              "    [theme=dark] .colab-df-convert:hover {\n",
              "      background-color: #434B5C;\n",
              "      box-shadow: 0px 1px 3px 1px rgba(0, 0, 0, 0.15);\n",
              "      filter: drop-shadow(0px 1px 2px rgba(0, 0, 0, 0.3));\n",
              "      fill: #FFFFFF;\n",
              "    }\n",
              "  </style>\n",
              "\n",
              "      <script>\n",
              "        const buttonEl =\n",
              "          document.querySelector('#df-9cd92d11-a86c-4102-8b7a-4aa9538f221a button.colab-df-convert');\n",
              "        buttonEl.style.display =\n",
              "          google.colab.kernel.accessAllowed ? 'block' : 'none';\n",
              "\n",
              "        async function convertToInteractive(key) {\n",
              "          const element = document.querySelector('#df-9cd92d11-a86c-4102-8b7a-4aa9538f221a');\n",
              "          const dataTable =\n",
              "            await google.colab.kernel.invokeFunction('convertToInteractive',\n",
              "                                                     [key], {});\n",
              "          if (!dataTable) return;\n",
              "\n",
              "          const docLinkHtml = 'Like what you see? Visit the ' +\n",
              "            '<a target=\"_blank\" href=https://colab.research.google.com/notebooks/data_table.ipynb>data table notebook</a>'\n",
              "            + ' to learn more about interactive tables.';\n",
              "          element.innerHTML = '';\n",
              "          dataTable['output_type'] = 'display_data';\n",
              "          await google.colab.output.renderOutput(dataTable, element);\n",
              "          const docLink = document.createElement('div');\n",
              "          docLink.innerHTML = docLinkHtml;\n",
              "          element.appendChild(docLink);\n",
              "        }\n",
              "      </script>\n",
              "    </div>\n",
              "  </div>\n",
              "  "
            ]
          },
          "metadata": {},
          "execution_count": 35
        }
      ]
    },
    {
      "cell_type": "markdown",
      "source": [
        "##### **3.2. Nível de escolaridade**"
      ],
      "metadata": {
        "id": "7NII5a1-PIPQ"
      }
    },
    {
      "cell_type": "markdown",
      "metadata": {
        "id": "v0oeXqxsTO2o"
      },
      "source": [
        "Abaixo vamos analisar o nível de **escolaridade** em relação aos clientes adimplentes e inadimplentes."
      ]
    },
    {
      "cell_type": "code",
      "source": [
        "coluna = 'escolaridade'\n",
        "titulos = ['Escolaridade dos Clientes Adimplentes', 'Escolaridade dos Clientes Inadimplentes']\n",
        "\n",
        "eixo = 0\n",
        "max_y = 0\n",
        "max = df.select_dtypes('object').describe()[coluna]['freq'] * 1.1\n",
        "\n",
        "figura, eixos = plt.subplots(1,2, figsize=(20, 5), sharex=True)\n",
        "\n",
        "for dataframe in [df_adimplente, df_inadimplente]:\n",
        "\n",
        "  df_to_plot = dataframe[coluna].value_counts().to_frame()\n",
        "  df_to_plot.rename(columns={coluna: 'frequencia_absoluta'}, inplace=True)\n",
        "  df_to_plot[coluna] = df_to_plot.index\n",
        "  df_to_plot.sort_values(by=['frequencia_absoluta'], ascending=False, inplace=True)\n",
        "\n",
        "  f = sns.barplot(x=df_to_plot[coluna], y=df_to_plot['frequencia_absoluta'], ax=eixos[eixo])\n",
        "  f.set(title=titulos[eixo], xlabel=coluna.capitalize(), ylabel='Frequência Absoluta')\n",
        "  f.set_xticklabels(labels=f.get_xticklabels(), rotation=90)\n",
        "\n",
        "  _, max_y_f = f.get_ylim()\n",
        "  max_y = max_y_f if max_y_f > max_y else max_y\n",
        "  f.set(ylim=(0, max_y))\n",
        "\n",
        "  # Adiciona valores de cada coluna no gráfico\n",
        "  for i, bar in enumerate(f.containers):\n",
        "    for rect in bar:\n",
        "        height = rect.get_height()\n",
        "        f.annotate(f'{height}',\n",
        "                    xy=(rect.get_x() + rect.get_width() / 2, height),\n",
        "                    xytext=(0, 2),  # 2 pontos acima da barra\n",
        "                    textcoords=\"offset points\",\n",
        "                    ha='center', va='bottom', rotation=90)\n",
        "\n",
        "  eixo += 1\n",
        "\n",
        "figura.show()"
      ],
      "metadata": {
        "colab": {
          "base_uri": "https://localhost:8080/",
          "height": 634
        },
        "id": "2qICacCvBO5G",
        "outputId": "0b30f1e8-39b9-42f1-a2be-6a7add2d9699"
      },
      "execution_count": null,
      "outputs": [
        {
          "output_type": "display_data",
          "data": {
            "text/plain": [
              "<Figure size 2000x500 with 2 Axes>"
            ],
            "image/png": "[encoded data removed]"
          },
          "metadata": {}
        }
      ]
    },
    {
      "cell_type": "markdown",
      "source": [
        "Quando se analiza a porcentagem em relação a cada nível de escolaridade não é possível identificar uma grande diferença entre elas, conforme tabela a seguir."
      ],
      "metadata": {
        "id": "OTYpK2MjdiFh"
      }
    },
    {
      "cell_type": "markdown",
      "source": [
        "|             | Mestrado | Médio | Sem Formação | Doutorado | Graduação |\n",
        "|-------------|----------|-------|--------------|-----------|-----------|\n",
        "| Adimplente  | 84%      | 86%   | 85%          | 82%       | 83%       |\n",
        "| Inadimplente| 16%      | 14%   | 15%          | 18%       | 17%       |\n",
        "| Total       | 100%     | 100%  | 100%         | 100%      | 100%      |"
      ],
      "metadata": {
        "id": "-wicZjGUc0Zu"
      }
    },
    {
      "cell_type": "markdown",
      "source": [
        "O nível percentualmente de Adimplentes ficou com as pessoas que possuem Ensino Médio e os maiores níveis de Inadimplentes está em quem tem Doutorado. Interessante o resultado pois se analisado apenas os números absolutos teremos outro resultado com o nível de Mestrado sendo o mais Adimplente e Inadinplemente ao mesmo tempo, isso se dar devio o  mesmo ter a maior quantidade de pessoas nos dados estudados. "
      ],
      "metadata": {
        "id": "ooHnX3pAd6FU"
      }
    },
    {
      "cell_type": "markdown",
      "source": [
        "##### **3.3. Salário Anual**"
      ],
      "metadata": {
        "id": "64porBWHPcgS"
      }
    },
    {
      "cell_type": "markdown",
      "metadata": {
        "id": "0h1s5odlgHbY"
      },
      "source": [
        "Abaixo vamos analisar o **salário anual** recebidos pelos clientes adimplentes e inadimplentes."
      ]
    },
    {
      "cell_type": "code",
      "source": [
        "coluna = 'salario_anual'\n",
        "titulos = ['Salário Anual dos Clientes Adimplentes', 'Salário Anual dos Clientes Inadimplentes']\n",
        "\n",
        "max_y = 0\n",
        "figura, eixos = plt.subplots(1,2, figsize=(20, 5), sharex=True)\n",
        "\n",
        "for i, dataframe in enumerate([df_adimplente, df_inadimplente]):\n",
        "\n",
        "  df_to_plot = dataframe[coluna].value_counts().sort_index(ascending=False).to_frame()\n",
        "  df_to_plot.rename(columns={coluna: 'frequencia_absoluta'}, inplace=True)\n",
        "  df_to_plot[coluna] = df_to_plot.index\n",
        "  df_to_plot.reset_index(inplace=True, drop=True)\n",
        "\n",
        "  f = sns.barplot(x=df_to_plot[coluna], y=df_to_plot['frequencia_absoluta'], ax=eixos[i])\n",
        "  f.set(title=titulos[i], xlabel=coluna.capitalize(), ylabel='Frequência Absoluta')\n",
        "  f.set_xticklabels(labels=f.get_xticklabels(), rotation=90)\n",
        "  _, max_y_f = f.get_ylim()\n",
        "  max_y = max_y_f if max_y_f > max_y else max_y\n",
        "  f.set(ylim=(0, max_y))\n",
        "\n",
        "figura.show()"
      ],
      "metadata": {
        "colab": {
          "base_uri": "https://localhost:8080/",
          "height": 590
        },
        "id": "1AO0itxRF83_",
        "outputId": "13b364c5-c64d-44a0-c7b5-d2ea9147bfc3"
      },
      "execution_count": null,
      "outputs": [
        {
          "output_type": "display_data",
          "data": {
            "text/plain": [
              "<Figure size 2000x500 with 2 Axes>"
            ],
            "image/png": "[encoded data removed]"
          },
          "metadata": {}
        }
      ]
    },
    {
      "cell_type": "markdown",
      "metadata": {
        "id": "cBIWU4zISIqR"
      },
      "source": [
        "##### **3.4. Visualizações numéricas** "
      ]
    },
    {
      "cell_type": "markdown",
      "metadata": {
        "id": "DWKf-t4iqpFK"
      },
      "source": [
        "Nesta seção, vamos visualizar a relação entre a variável resposta **default** com os atributos numéricos."
      ]
    },
    {
      "cell_type": "code",
      "metadata": {
        "id": "NEEhLdj0qoUd",
        "colab": {
          "base_uri": "https://localhost:8080/",
          "height": 270
        },
        "outputId": "41584b38-74ad-4760-9932-25f9024cba81"
      },
      "source": [
        "df.drop(['id', 'default'], axis=1).select_dtypes('number').head(n=5)"
      ],
      "execution_count": null,
      "outputs": [
        {
          "output_type": "execute_result",
          "data": {
            "text/plain": [
              "   idade  dependentes  meses_de_relacionamento  qtd_produtos  iteracoes_12m  \\\n",
              "0     45            3                       39             5              3   \n",
              "1     49            5                       44             6              2   \n",
              "2     51            3                       36             4              0   \n",
              "4     40            3                       21             5              0   \n",
              "5     44            2                       36             3              2   \n",
              "\n",
              "   meses_inativo_12m  limite_credito  valor_transacoes_12m  qtd_transacoes_12m  \n",
              "0                  1        12691.51               1144.90                  42  \n",
              "1                  1         8256.96               1291.45                  33  \n",
              "2                  1         3418.56               1887.72                  20  \n",
              "4                  1         4716.22                816.08                  28  \n",
              "5                  1         4010.69               1088.07                  24  "
            ],
            "text/html": [
              "\n",
              "  <div id=\"df-a1f38793-ccdd-4f65-ab84-e1c2ca4a2654\">\n",
              "    <div class=\"colab-df-container\">\n",
              "      <div>\n",
              "<style scoped>\n",
              "    .dataframe tbody tr th:only-of-type {\n",
              "        vertical-align: middle;\n",
              "    }\n",
              "\n",
              "    .dataframe tbody tr th {\n",
              "        vertical-align: top;\n",
              "    }\n",
              "\n",
              "    .dataframe thead th {\n",
              "        text-align: right;\n",
              "    }\n",
              "</style>\n",
              "<table border=\"1\" class=\"dataframe\">\n",
              "  <thead>\n",
              "    <tr style=\"text-align: right;\">\n",
              "      <th></th>\n",
              "      <th>idade</th>\n",
              "      <th>dependentes</th>\n",
              "      <th>meses_de_relacionamento</th>\n",
              "      <th>qtd_produtos</th>\n",
              "      <th>iteracoes_12m</th>\n",
              "      <th>meses_inativo_12m</th>\n",
              "      <th>limite_credito</th>\n",
              "      <th>valor_transacoes_12m</th>\n",
              "      <th>qtd_transacoes_12m</th>\n",
              "    </tr>\n",
              "  </thead>\n",
              "  <tbody>\n",
              "    <tr>\n",
              "      <th>0</th>\n",
              "      <td>45</td>\n",
              "      <td>3</td>\n",
              "      <td>39</td>\n",
              "      <td>5</td>\n",
              "      <td>3</td>\n",
              "      <td>1</td>\n",
              "      <td>12691.51</td>\n",
              "      <td>1144.90</td>\n",
              "      <td>42</td>\n",
              "    </tr>\n",
              "    <tr>\n",
              "      <th>1</th>\n",
              "      <td>49</td>\n",
              "      <td>5</td>\n",
              "      <td>44</td>\n",
              "      <td>6</td>\n",
              "      <td>2</td>\n",
              "      <td>1</td>\n",
              "      <td>8256.96</td>\n",
              "      <td>1291.45</td>\n",
              "      <td>33</td>\n",
              "    </tr>\n",
              "    <tr>\n",
              "      <th>2</th>\n",
              "      <td>51</td>\n",
              "      <td>3</td>\n",
              "      <td>36</td>\n",
              "      <td>4</td>\n",
              "      <td>0</td>\n",
              "      <td>1</td>\n",
              "      <td>3418.56</td>\n",
              "      <td>1887.72</td>\n",
              "      <td>20</td>\n",
              "    </tr>\n",
              "    <tr>\n",
              "      <th>4</th>\n",
              "      <td>40</td>\n",
              "      <td>3</td>\n",
              "      <td>21</td>\n",
              "      <td>5</td>\n",
              "      <td>0</td>\n",
              "      <td>1</td>\n",
              "      <td>4716.22</td>\n",
              "      <td>816.08</td>\n",
              "      <td>28</td>\n",
              "    </tr>\n",
              "    <tr>\n",
              "      <th>5</th>\n",
              "      <td>44</td>\n",
              "      <td>2</td>\n",
              "      <td>36</td>\n",
              "      <td>3</td>\n",
              "      <td>2</td>\n",
              "      <td>1</td>\n",
              "      <td>4010.69</td>\n",
              "      <td>1088.07</td>\n",
              "      <td>24</td>\n",
              "    </tr>\n",
              "  </tbody>\n",
              "</table>\n",
              "</div>\n",
              "      <button class=\"colab-df-convert\" onclick=\"convertToInteractive('df-a1f38793-ccdd-4f65-ab84-e1c2ca4a2654')\"\n",
              "              title=\"Convert this dataframe to an interactive table.\"\n",
              "              style=\"display:none;\">\n",
              "        \n",
              "  <svg xmlns=\"http://www.w3.org/2000/svg\" height=\"24px\"viewBox=\"0 0 24 24\"\n",
              "       width=\"24px\">\n",
              "    <path d=\"M0 0h24v24H0V0z\" fill=\"none\"/>\n",
              "    <path d=\"M18.56 5.44l.94 2.06.94-2.06 2.06-.94-2.06-.94-.94-2.06-.94 2.06-2.06.94zm-11 1L8.5 8.5l.94-2.06 2.06-.94-2.06-.94L8.5 2.5l-.94 2.06-2.06.94zm10 10l.94 2.06.94-2.06 2.06-.94-2.06-.94-.94-2.06-.94 2.06-2.06.94z\"/><path d=\"M17.41 7.96l-1.37-1.37c-.4-.4-.92-.59-1.43-.59-.52 0-1.04.2-1.43.59L10.3 9.45l-7.72 7.72c-.78.78-.78 2.05 0 2.83L4 21.41c.39.39.9.59 1.41.59.51 0 1.02-.2 1.41-.59l7.78-7.78 2.81-2.81c.8-.78.8-2.07 0-2.86zM5.41 20L4 18.59l7.72-7.72 1.47 1.35L5.41 20z\"/>\n",
              "  </svg>\n",
              "      </button>\n",
              "      \n",
              "  <style>\n",
              "    .colab-df-container {\n",
              "      display:flex;\n",
              "      flex-wrap:wrap;\n",
              "      gap: 12px;\n",
              "    }\n",
              "\n",
              "    .colab-df-convert {\n",
              "      background-color: #E8F0FE;\n",
              "      border: none;\n",
              "      border-radius: 50%;\n",
              "      cursor: pointer;\n",
              "      display: none;\n",
              "      fill: #1967D2;\n",
              "      height: 32px;\n",
              "      padding: 0 0 0 0;\n",
              "      width: 32px;\n",
              "    }\n",
              "\n",
              "    .colab-df-convert:hover {\n",
              "      background-color: #E2EBFA;\n",
              "      box-shadow: 0px 1px 2px rgba(60, 64, 67, 0.3), 0px 1px 3px 1px rgba(60, 64, 67, 0.15);\n",
              "      fill: #174EA6;\n",
              "    }\n",
              "\n",
              "    [theme=dark] .colab-df-convert {\n",
              "      background-color: #3B4455;\n",
              "      fill: #D2E3FC;\n",
              "    }\n",
              "\n",
              "    [theme=dark] .colab-df-convert:hover {\n",
              "      background-color: #434B5C;\n",
              "      box-shadow: 0px 1px 3px 1px rgba(0, 0, 0, 0.15);\n",
              "      filter: drop-shadow(0px 1px 2px rgba(0, 0, 0, 0.3));\n",
              "      fill: #FFFFFF;\n",
              "    }\n",
              "  </style>\n",
              "\n",
              "      <script>\n",
              "        const buttonEl =\n",
              "          document.querySelector('#df-a1f38793-ccdd-4f65-ab84-e1c2ca4a2654 button.colab-df-convert');\n",
              "        buttonEl.style.display =\n",
              "          google.colab.kernel.accessAllowed ? 'block' : 'none';\n",
              "\n",
              "        async function convertToInteractive(key) {\n",
              "          const element = document.querySelector('#df-a1f38793-ccdd-4f65-ab84-e1c2ca4a2654');\n",
              "          const dataTable =\n",
              "            await google.colab.kernel.invokeFunction('convertToInteractive',\n",
              "                                                     [key], {});\n",
              "          if (!dataTable) return;\n",
              "\n",
              "          const docLinkHtml = 'Like what you see? Visit the ' +\n",
              "            '<a target=\"_blank\" href=https://colab.research.google.com/notebooks/data_table.ipynb>data table notebook</a>'\n",
              "            + ' to learn more about interactive tables.';\n",
              "          element.innerHTML = '';\n",
              "          dataTable['output_type'] = 'display_data';\n",
              "          await google.colab.output.renderOutput(dataTable, element);\n",
              "          const docLink = document.createElement('div');\n",
              "          docLink.innerHTML = docLinkHtml;\n",
              "          element.appendChild(docLink);\n",
              "        }\n",
              "      </script>\n",
              "    </div>\n",
              "  </div>\n",
              "  "
            ]
          },
          "metadata": {},
          "execution_count": 38
        }
      ]
    },
    {
      "cell_type": "markdown",
      "source": [
        "##### **3.5. Transações no últimos 12 meses**"
      ],
      "metadata": {
        "id": "kfBBFl1_P1Up"
      }
    },
    {
      "cell_type": "markdown",
      "metadata": {
        "id": "G7YNmSRQq6fp"
      },
      "source": [
        "Abaixo vamos analisar a quantidade de transações."
      ]
    },
    {
      "cell_type": "code",
      "metadata": {
        "id": "A3O0oQ9sq8XQ",
        "colab": {
          "base_uri": "https://localhost:8080/",
          "height": 318
        },
        "outputId": "8550fcd7-5899-40c9-d160-91660de5213b"
      },
      "source": [
        "coluna = 'qtd_transacoes_12m'\n",
        "titulos = ['Qtd. de Transações no Último Ano', 'Qtd. de Transações no Último Ano de Adimplentes', 'Qtd. de Transações no Último Ano de Inadimplentes']\n",
        "\n",
        "eixo = 0\n",
        "max_y = 0\n",
        "figura, eixos = plt.subplots(1,3, figsize=(20, 5), sharex=True)\n",
        "\n",
        "for dataframe in [df, df_adimplente, df_inadimplente]:\n",
        "\n",
        "  f = sns.histplot(x=coluna, data=dataframe, stat='count', ax=eixos[eixo])\n",
        "  f.set(title=titulos[eixo], xlabel=coluna.capitalize(), ylabel='Frequência Absoluta')\n",
        "\n",
        "  _, max_y_f = f.get_ylim()\n",
        "  max_y = max_y_f if max_y_f > max_y else max_y\n",
        "  f.set(ylim=(0, max_y))\n",
        "\n",
        "  eixo += 1\n",
        "\n",
        "figura.show()"
      ],
      "execution_count": null,
      "outputs": [
        {
          "output_type": "display_data",
          "data": {
            "text/plain": [
              "<Figure size 1440x360 with 3 Axes>"
            ],
            "image/png": "[encoded data removed]"
          },
          "metadata": {}
        }
      ]
    },
    {
      "cell_type": "markdown",
      "metadata": {
        "id": "6YqLIvyXtIuN"
      },
      "source": [
        "Agora temos a análise do valor das transações.\n",
        "\n"
      ]
    },
    {
      "cell_type": "code",
      "metadata": {
        "id": "-tHIbYcetH0J",
        "colab": {
          "base_uri": "https://localhost:8080/",
          "height": 321
        },
        "outputId": "65212be5-13a7-4da3-e35a-898e354622e9"
      },
      "source": [
        "coluna = 'valor_transacoes_12m'\n",
        "titulos = ['Valor das Transações no Último Ano', 'Valor das Transações no Último Ano de Adimplentes', 'Valor das Transações no Último Ano de Inadimplentes']\n",
        "\n",
        "eixo = 0\n",
        "max_y = 0\n",
        "figura, eixos = plt.subplots(1,3, figsize=(20, 5), sharex=True)\n",
        "\n",
        "for dataframe in [df, df_adimplente, df_inadimplente]:\n",
        "\n",
        "  f = sns.histplot(x=coluna, data=dataframe, stat='count', ax=eixos[eixo])\n",
        "  f.set(title=titulos[eixo], xlabel=coluna.capitalize(), ylabel='Frequência Absoluta')\n",
        "\n",
        "  _, max_y_f = f.get_ylim()\n",
        "  max_y = max_y_f if max_y_f > max_y else max_y\n",
        "  f.set(ylim=(0, max_y))\n",
        "\n",
        "  eixo += 1\n",
        "\n",
        "figura.show()"
      ],
      "execution_count": null,
      "outputs": [
        {
          "output_type": "display_data",
          "data": {
            "text/plain": [
              "<Figure size 1440x360 with 3 Axes>"
            ],
            "image/png": "[encoded data removed]"
          },
          "metadata": {}
        }
      ]
    },
    {
      "cell_type": "markdown",
      "metadata": {
        "id": "10ud8vxqzqjI"
      },
      "source": [
        "E temos por último a comparação entre o Valor de Transações nos Últimos 12 Meses e a Quantidade de Transações nos Últimos 12 Meses"
      ]
    },
    {
      "cell_type": "code",
      "metadata": {
        "id": "SjqqF940x-lL",
        "colab": {
          "base_uri": "https://localhost:8080/",
          "height": 386
        },
        "outputId": "7e40ffbd-8044-4d6c-f264-803f390dea5d"
      },
      "source": [
        "f = sns.relplot(x='valor_transacoes_12m', y='qtd_transacoes_12m', data=df, hue='default')\n",
        "_ = f.set(\n",
        "    title='Relação entre Valor e Quantidade de Transações no Último Ano', \n",
        "    xlabel='Valor das Transações no Último Ano', \n",
        "    ylabel='Quantidade das Transações no Último Ano'\n",
        "  )"
      ],
      "execution_count": null,
      "outputs": [
        {
          "output_type": "display_data",
          "data": {
            "text/plain": [
              "<Figure size 403.375x360 with 1 Axes>"
            ],
            "image/png": "[encoded data removed]"
          },
          "metadata": {}
        }
      ]
    },
    {
      "cell_type": "markdown",
      "source": [
        "##### **3.6. Tipo de cartão contratado**"
      ],
      "metadata": {
        "id": "8ZkPkbwRQU1R"
      }
    },
    {
      "cell_type": "code",
      "source": [
        "coluna = 'tipo_cartao'\n",
        "titulos = ['Tipo de cartão dos clientes - Total','Tipo de cartão dos clientes Adimplentes','Tipo de cartão dos clientes Inadimplentes']\n",
        "\n",
        "\n",
        "eixo = 0\n",
        "max_y = 0\n",
        "figura, eixos = plt.subplots(1,3, figsize=(20, 5), sharex=True)\n",
        "\n",
        "for dataframe in [df, df_adimplente, df_inadimplente]:\n",
        "\n",
        " df_to_plot = dataframe[coluna].value_counts().to_frame()\n",
        " df_to_plot.rename(columns={coluna: 'frequencia_absoluta'}, inplace=True)\n",
        " df_to_plot[coluna] = df_to_plot.index\n",
        " df_to_plot.reset_index(inplace=True, drop=True)\n",
        " df_to_plot.sort_values(by=[coluna], inplace=True)\n",
        "\n",
        " f = sns.barplot(x=df_to_plot[coluna],y=df_to_plot['frequencia_absoluta'],ax=eixos[eixo])\n",
        " f.set(title=titulos[eixo],xlabel=coluna.capitalize(),ylabel='Frequência Absoluta')\n",
        "\n",
        " f.set_xticklabels(labels=f.get_xticklabels(), rotation=90)\n",
        " _, max_y_f = f.get_ylim()\n",
        " max_y = max_y_f if max_y_f > max_y else max_y\n",
        " f.set(ylim=(0, max_y))\n",
        "\n",
        " eixo += 1\n",
        " figura.show()"
      ],
      "metadata": {
        "colab": {
          "base_uri": "https://localhost:8080/",
          "height": 535
        },
        "id": "xmnTSYL3QbuP",
        "outputId": "216cf5d5-6051-46ed-f548-5d2509577a2c"
      },
      "execution_count": null,
      "outputs": [
        {
          "output_type": "display_data",
          "data": {
            "text/plain": [
              "<Figure size 2000x500 with 3 Axes>"
            ],
            "image/png": "[encoded data removed]"
          },
          "metadata": {}
        }
      ]
    },
    {
      "cell_type": "markdown",
      "source": [
        "##### **3.7. Relacionamento do cliente com o banco em meses**"
      ],
      "metadata": {
        "id": "lhqAbnANQtkR"
      }
    },
    {
      "cell_type": "code",
      "source": [
        "coluna = 'meses_de_relacionamento'\n",
        "titulos = ['Meses de relacionamento dos clientes - Total', 'Meses de relacionamento dos clientes Adimplentes', 'Meses de relacionamento dos clientes Inadimplentes']\n",
        "\n",
        "eixo = 0\n",
        "max_y = 0\n",
        "figura, eixos = plt.subplots(1,3, figsize=(20, 5), sharex=True)\n",
        "\n",
        "for dataframe in [df, df_adimplente, df_inadimplente]:\n",
        "\n",
        "  f = sns.histplot(x=coluna, data=dataframe, stat='count', ax=eixos[eixo])\n",
        "  f.set(title=titulos[eixo], xlabel=coluna.capitalize(), ylabel='Frequência Absoluta')\n",
        "\n",
        "  _, max_y_f = f.get_ylim()\n",
        "  max_y = max_y_f if max_y_f > max_y else max_y\n",
        "  f.set(ylim=(0, max_y))\n",
        "\n",
        "  eixo += 1\n",
        "\n",
        "figura.show()"
      ],
      "metadata": {
        "colab": {
          "base_uri": "https://localhost:8080/",
          "height": 487
        },
        "id": "ke-NlGXAQtAH",
        "outputId": "c0dc71cf-7b25-4226-d8f4-106efe5daf8c"
      },
      "execution_count": null,
      "outputs": [
        {
          "output_type": "display_data",
          "data": {
            "text/plain": [
              "<Figure size 2000x500 with 3 Axes>"
            ],
            "image/png": "[encoded data removed]"
          },
          "metadata": {}
        }
      ]
    },
    {
      "cell_type": "markdown",
      "source": [
        "#### **4. Resumo dos *insights* gerados**"
      ],
      "metadata": {
        "id": "tJKPmTnzRMY0"
      }
    },
    {
      "cell_type": "markdown",
      "metadata": {
        "id": "jtCp7A-6PP28"
      },
      "source": [
        "- Neste projeto foi necessário realizar a limpeza dos dados faltantes para melhor entendimento dos resultados obtidos estatisticamente, porém é recomnedado que toda fonte de dados seja preenchida completamente para obtermos resultados mais precisos. Nesse caso é necessário a complementação dos dados das colunas “escolaridade”, “salário anual” e “estado civil”. Portanto, ao lidar com dados faltantes em um projeto de ciência de dados, é importante avaliar cuidadosamente o impacto potencial da ausência de dados em relação aos objetivos do projeto e decidir como abordar essa questão com base no contexto específico e na qualidade dos dados disponíveis.\n",
        "\n",
        "\n",
        "- O nível percentualmente de Adimplentes ficou com as pessoas que possuem Ensino Médio e os maiores níveis de Inadimplentes está em quem tem Doutorado. Interessante o resultado pois se analisado apenas os números absolutos teremos outro resultado com o nível de Mestrado sendo o mais Adimplente e Inadinplemente ao mesmo tempo, isso se dar devido o  mesmo ter a maior quantidade de pessoas nos nossos dados. Com isso é importante uma maior interação com o grupo de pessos que possuem doutorado para entender os motivos para essa inadimplência e tentar reverter este quadro. \n",
        "\n",
        "- Outro grupo no qual é importante uma interveção para entendimento de como reduzir o nivel de inadimplemento é o que ganha abaixo de 40mil anual o que equivale a 3,33mil mensal.\n",
        "\n",
        "- Não foi possível encontrar uma relação para os inadimentes quanto ao tipo de cartão adiquirido, pois a grande maioria dos cartões não obdecem a alguma regra de escolaridade ou salário. Este é um ponto a ser resolvido, pois o serviço prestado deve estar bem alinhado com as políticas do banco para melhor controle do seviço.\n",
        "\n",
        "- A maioria das transações se concentra em valores menores (<= 5k), embora haja picos distintos em outras faixas de valor. Os membros inadimplentes tendem a fazer transações principalmente próximas a R$ 2.500, que é menos comum entre os membros adimplentes.\n",
        "\n",
        "- Clientes com alto volume e valor de transações geralmente não fazem parte do grupo de inadimplentes. Por outro lado, clientes com menor volume e valor de transações tendem a ter maior inadimplência. Existem dois grupos importantes de inadimplentes: aqueles com volume médio de transações entre 7k e 10k e aqueles com baixo volume de transações e valor inferior a 2,5k.\n",
        "\n",
        "- A maioria dos clientes tem um relacionamento de 36 meses com a empresa, mas isso não parece ter influência significativa na inadimplência, exceto para os períodos de 28 e 42 meses, que apresentam uma menor concentração de membros inadimplentes e afetam a distribuição geral do grupo.\n"
      ]
    }
  ]
}